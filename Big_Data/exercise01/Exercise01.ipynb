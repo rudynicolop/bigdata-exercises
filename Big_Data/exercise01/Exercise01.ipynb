{
 "cells": [
  {
   "cell_type": "markdown",
   "metadata": {},
   "source": [
    "# <center>Big Data &ndash; Exercise 1</center>\n",
    "## <center>Fall 2024 &ndash; Week 1 &ndash; ETH Zurich</center>"
   ]
  },
  {
   "cell_type": "markdown",
   "metadata": {},
   "source": [
    "### Aims\n",
    "- **After this exercise:** \n",
    "    - Understand the SQL language and its common query patterns.\n",
    "    - Understand the 'table' data shape, normalization, and when they can (and should) be used.\n",
    "    - be able to query data in tables with the SQL language.\n",
    "- **Later in the semester:** \n",
    "    - Relate these language features and query patterns relative to other data shapes, technologies, and the languages designed to query them.\n",
    "    - Understand when tables are not the appropriate shape for your data and when you can (and should) throw normalization away!"
   ]
  },
  {
   "cell_type": "markdown",
   "metadata": {},
   "source": [
    "### Prerequisites\n",
    "In this exercise, you will brush-up the fundamental concepts of relational databases and SQL. If you haven't taken an introductory databases course (or want to refresh your knowledge) we recommend you to read the following:\n",
    "\n",
    "Garcia-Molina, Ullman, Widom: Database Systems: The Complete Book. Pearson, 2. Edition, 2008. (Chapters 1, 2, 3, and 6) [Available in the ETH Library] [[Online]](https://ebookcentral.proquest.com/lib/ethz/detail.action?pq-origsite=primo&docID=5832965) [[Selected solutions]](http://infolab.stanford.edu/~ullman/dscbsols/sols.html).\n",
    "\n",
    "Or have a look at the recordings from Information Systems for Engineers - ETH Zurich, available on [[YouTube]](https://www.youtube.com/c/GhislainFournysLectures)."
   ]
  },
  {
   "cell_type": "markdown",
   "metadata": {},
   "source": [
    "### Database Set-up\n",
    "We will be once again working in the ExamMagicBox (you can find it in the following [[link]](https://polybox.ethz.ch/index.php/s/wa57XqDKkxRMb0q) if you have not downloaded it yet): please drag this Notebook in the folder. Just like last week, activate the docker container for the exercise sheet with `docker compose up`; please wait for the message `PostgreSQL init process complete; ready for start up` in the docker logs before proceeding! Alternatively you can start the Docker with `docker compose up -d` and wait for the command to execute: please note that you are creating the containers in the background this way. You can then type `docker compose down` when you are done.\n",
    "\n",
    "As before, we set up our connection to the database and enable use of `%sql` and `%%sql`."
   ]
  },
  {
   "cell_type": "code",
   "execution_count": 23,
   "metadata": {},
   "outputs": [],
   "source": [
    "server='db'\n",
    "user='postgres'\n",
    "password='example'\n",
    "database='postgres'\n",
    "connection_string=f'postgresql://{user}:{password}@{server}:5432/{database}'"
   ]
  },
  {
   "cell_type": "code",
   "execution_count": 24,
   "metadata": {},
   "outputs": [],
   "source": [
    "%reload_ext sql\n",
    "%sql $connection_string"
   ]
  },
  {
   "cell_type": "code",
   "execution_count": 25,
   "metadata": {},
   "outputs": [],
   "source": [
    "%config SqlMagic.style = '_DEPRECATED_DEFAULT'"
   ]
  },
  {
   "cell_type": "code",
   "execution_count": 26,
   "metadata": {},
   "outputs": [
    {
     "name": "stdout",
     "output_type": "stream",
     "text": [
      " * postgresql://postgres:***@db:5432/postgres\n",
      "1 rows affected.\n"
     ]
    },
    {
     "data": {
      "text/html": [
       "<table>\n",
       "    <thead>\n",
       "        <tr>\n",
       "            <th>version</th>\n",
       "        </tr>\n",
       "    </thead>\n",
       "    <tbody>\n",
       "        <tr>\n",
       "            <td>PostgreSQL 16.4 (Debian 16.4-1.pgdg120+2) on x86_64-pc-linux-gnu, compiled by gcc (Debian 12.2.0-14) 12.2.0, 64-bit</td>\n",
       "        </tr>\n",
       "    </tbody>\n",
       "</table>"
      ],
      "text/plain": [
       "[('PostgreSQL 16.4 (Debian 16.4-1.pgdg120+2) on x86_64-pc-linux-gnu, compiled by gcc (Debian 12.2.0-14) 12.2.0, 64-bit',)]"
      ]
     },
     "execution_count": 26,
     "metadata": {},
     "output_type": "execute_result"
    }
   ],
   "source": [
    "%%sql\n",
    "SELECT version();"
   ]
  },
  {
   "cell_type": "markdown",
   "metadata": {},
   "source": [
    "### Origin of the data\n",
    "You can find more information on the dataset in the following links\n",
    "- [Discogs](https://www.discogs.com/)\n",
    "- [Discogs XML data dumps](http://data.discogs.com/)\n",
    "\n",
    "If you do not want to use Docker or it does not work you can download the dataset from this [link](https://cloud.inf.ethz.ch/s/DtjCHTLRHT39BRN/download/discogs.dump.xz), see `postgres-init.sh` to see how to import it)"
   ]
  },
  {
   "cell_type": "markdown",
   "metadata": {},
   "source": [
    "## Exercise 1: Explore the dataset\n",
    "We want to first understand the dataset a bit better. You will find some queries below to help you explore the schema."
   ]
  },
  {
   "cell_type": "markdown",
   "metadata": {},
   "source": [
    "### List tables\n",
    "The following query retrieves a list of tables in the database from a system table describing the current database."
   ]
  },
  {
   "cell_type": "code",
   "execution_count": 27,
   "metadata": {},
   "outputs": [
    {
     "name": "stdout",
     "output_type": "stream",
     "text": [
      " * postgresql://postgres:***@db:5432/postgres\n",
      "10 rows affected.\n"
     ]
    },
    {
     "data": {
      "text/html": [
       "<table>\n",
       "    <thead>\n",
       "        <tr>\n",
       "            <th>table_name</th>\n",
       "        </tr>\n",
       "    </thead>\n",
       "    <tbody>\n",
       "        <tr>\n",
       "            <td>artists</td>\n",
       "        </tr>\n",
       "        <tr>\n",
       "            <td>released_by</td>\n",
       "        </tr>\n",
       "        <tr>\n",
       "            <td>releases</td>\n",
       "        </tr>\n",
       "        <tr>\n",
       "            <td>tracks</td>\n",
       "        </tr>\n",
       "        <tr>\n",
       "            <td>employees</td>\n",
       "        </tr>\n",
       "        <tr>\n",
       "            <td>dept_manager</td>\n",
       "        </tr>\n",
       "        <tr>\n",
       "            <td>departments</td>\n",
       "        </tr>\n",
       "        <tr>\n",
       "            <td>dept_emp</td>\n",
       "        </tr>\n",
       "        <tr>\n",
       "            <td>titles</td>\n",
       "        </tr>\n",
       "        <tr>\n",
       "            <td>salaries</td>\n",
       "        </tr>\n",
       "    </tbody>\n",
       "</table>"
      ],
      "text/plain": [
       "[('artists',),\n",
       " ('released_by',),\n",
       " ('releases',),\n",
       " ('tracks',),\n",
       " ('employees',),\n",
       " ('dept_manager',),\n",
       " ('departments',),\n",
       " ('dept_emp',),\n",
       " ('titles',),\n",
       " ('salaries',)]"
      ]
     },
     "execution_count": 27,
     "metadata": {},
     "output_type": "execute_result"
    }
   ],
   "source": [
    "%%sql \n",
    "SELECT table_name\n",
    "FROM information_schema.tables\n",
    "WHERE table_schema = 'public';"
   ]
  },
  {
   "cell_type": "markdown",
   "metadata": {},
   "source": [
    "### List attributes/columns\n",
    "The following query retrieves a list of columns from the tables in the database."
   ]
  },
  {
   "cell_type": "code",
   "execution_count": 28,
   "metadata": {},
   "outputs": [
    {
     "name": "stdout",
     "output_type": "stream",
     "text": [
      " * postgresql://postgres:***@db:5432/postgres\n",
      "17 rows affected.\n"
     ]
    },
    {
     "data": {
      "text/html": [
       "<table>\n",
       "    <thead>\n",
       "        <tr>\n",
       "            <th>table_name</th>\n",
       "            <th>column_name</th>\n",
       "            <th>data_type</th>\n",
       "            <th>is_nullable</th>\n",
       "            <th>ordinal_position</th>\n",
       "        </tr>\n",
       "    </thead>\n",
       "    <tbody>\n",
       "        <tr>\n",
       "            <td>artists</td>\n",
       "            <td>artist_id</td>\n",
       "            <td>integer</td>\n",
       "            <td>NO</td>\n",
       "            <td>1</td>\n",
       "        </tr>\n",
       "        <tr>\n",
       "            <td>artists</td>\n",
       "            <td>name</td>\n",
       "            <td>character varying</td>\n",
       "            <td>YES</td>\n",
       "            <td>2</td>\n",
       "        </tr>\n",
       "        <tr>\n",
       "            <td>artists</td>\n",
       "            <td>realname</td>\n",
       "            <td>text</td>\n",
       "            <td>YES</td>\n",
       "            <td>3</td>\n",
       "        </tr>\n",
       "        <tr>\n",
       "            <td>artists</td>\n",
       "            <td>profile</td>\n",
       "            <td>text</td>\n",
       "            <td>YES</td>\n",
       "            <td>4</td>\n",
       "        </tr>\n",
       "        <tr>\n",
       "            <td>artists</td>\n",
       "            <td>url</td>\n",
       "            <td>text</td>\n",
       "            <td>YES</td>\n",
       "            <td>5</td>\n",
       "        </tr>\n",
       "        <tr>\n",
       "            <td>released_by</td>\n",
       "            <td>release_id</td>\n",
       "            <td>integer</td>\n",
       "            <td>NO</td>\n",
       "            <td>1</td>\n",
       "        </tr>\n",
       "        <tr>\n",
       "            <td>released_by</td>\n",
       "            <td>artist_id</td>\n",
       "            <td>integer</td>\n",
       "            <td>NO</td>\n",
       "            <td>2</td>\n",
       "        </tr>\n",
       "        <tr>\n",
       "            <td>releases</td>\n",
       "            <td>release_id</td>\n",
       "            <td>integer</td>\n",
       "            <td>NO</td>\n",
       "            <td>1</td>\n",
       "        </tr>\n",
       "        <tr>\n",
       "            <td>releases</td>\n",
       "            <td>released</td>\n",
       "            <td>date</td>\n",
       "            <td>NO</td>\n",
       "            <td>2</td>\n",
       "        </tr>\n",
       "        <tr>\n",
       "            <td>releases</td>\n",
       "            <td>title</td>\n",
       "            <td>text</td>\n",
       "            <td>NO</td>\n",
       "            <td>3</td>\n",
       "        </tr>\n",
       "        <tr>\n",
       "            <td>releases</td>\n",
       "            <td>country</td>\n",
       "            <td>character varying</td>\n",
       "            <td>YES</td>\n",
       "            <td>4</td>\n",
       "        </tr>\n",
       "        <tr>\n",
       "            <td>releases</td>\n",
       "            <td>genre</td>\n",
       "            <td>character varying</td>\n",
       "            <td>NO</td>\n",
       "            <td>5</td>\n",
       "        </tr>\n",
       "        <tr>\n",
       "            <td>tracks</td>\n",
       "            <td>release_id</td>\n",
       "            <td>integer</td>\n",
       "            <td>NO</td>\n",
       "            <td>1</td>\n",
       "        </tr>\n",
       "        <tr>\n",
       "            <td>tracks</td>\n",
       "            <td>position</td>\n",
       "            <td>character varying</td>\n",
       "            <td>YES</td>\n",
       "            <td>2</td>\n",
       "        </tr>\n",
       "        <tr>\n",
       "            <td>tracks</td>\n",
       "            <td>title</td>\n",
       "            <td>text</td>\n",
       "            <td>YES</td>\n",
       "            <td>3</td>\n",
       "        </tr>\n",
       "        <tr>\n",
       "            <td>tracks</td>\n",
       "            <td>duration</td>\n",
       "            <td>integer</td>\n",
       "            <td>YES</td>\n",
       "            <td>4</td>\n",
       "        </tr>\n",
       "        <tr>\n",
       "            <td>tracks</td>\n",
       "            <td>track_id</td>\n",
       "            <td>integer</td>\n",
       "            <td>NO</td>\n",
       "            <td>5</td>\n",
       "        </tr>\n",
       "    </tbody>\n",
       "</table>"
      ],
      "text/plain": [
       "[('artists', 'artist_id', 'integer', 'NO', 1),\n",
       " ('artists', 'name', 'character varying', 'YES', 2),\n",
       " ('artists', 'realname', 'text', 'YES', 3),\n",
       " ('artists', 'profile', 'text', 'YES', 4),\n",
       " ('artists', 'url', 'text', 'YES', 5),\n",
       " ('released_by', 'release_id', 'integer', 'NO', 1),\n",
       " ('released_by', 'artist_id', 'integer', 'NO', 2),\n",
       " ('releases', 'release_id', 'integer', 'NO', 1),\n",
       " ('releases', 'released', 'date', 'NO', 2),\n",
       " ('releases', 'title', 'text', 'NO', 3),\n",
       " ('releases', 'country', 'character varying', 'YES', 4),\n",
       " ('releases', 'genre', 'character varying', 'NO', 5),\n",
       " ('tracks', 'release_id', 'integer', 'NO', 1),\n",
       " ('tracks', 'position', 'character varying', 'YES', 2),\n",
       " ('tracks', 'title', 'text', 'YES', 3),\n",
       " ('tracks', 'duration', 'integer', 'YES', 4),\n",
       " ('tracks', 'track_id', 'integer', 'NO', 5)]"
      ]
     },
     "execution_count": 28,
     "metadata": {},
     "output_type": "execute_result"
    }
   ],
   "source": [
    "%%sql \n",
    "SELECT table_name, column_name, data_type, is_nullable, ordinal_position\n",
    "FROM information_schema.columns\n",
    "WHERE table_schema = 'public' AND table_name IN ('artists', 'released_by', 'releases', 'tracks')\n",
    "AND table_name NOT LIKE 'pg_%'\n",
    "ORDER BY table_name, ordinal_position;"
   ]
  },
  {
   "cell_type": "markdown",
   "metadata": {},
   "source": [
    "### Have a look at the datasets\n",
    "The following simple query gives the first 5 rows of the `artists` dataset"
   ]
  },
  {
   "cell_type": "code",
   "execution_count": 29,
   "metadata": {},
   "outputs": [
    {
     "name": "stdout",
     "output_type": "stream",
     "text": [
      " * postgresql://postgres:***@db:5432/postgres\n",
      "5 rows affected.\n"
     ]
    },
    {
     "data": {
      "text/html": [
       "<table>\n",
       "    <thead>\n",
       "        <tr>\n",
       "            <th>artist_id</th>\n",
       "            <th>name</th>\n",
       "            <th>realname</th>\n",
       "            <th>profile</th>\n",
       "            <th>url</th>\n",
       "        </tr>\n",
       "    </thead>\n",
       "    <tbody>\n",
       "        <tr>\n",
       "            <td>1</td>\n",
       "            <td>The Persuader</td>\n",
       "            <td>Jesper Dahlbäck</td>\n",
       "            <td>None</td>\n",
       "            <td>None</td>\n",
       "        </tr>\n",
       "        <tr>\n",
       "            <td>2</td>\n",
       "            <td>Mr. James Barth &amp; A.D.</td>\n",
       "            <td>Cari Lekebusch &amp; Alexi Delano</td>\n",
       "            <td>None</td>\n",
       "            <td>None</td>\n",
       "        </tr>\n",
       "        <tr>\n",
       "            <td>3</td>\n",
       "            <td>Josh Wink</td>\n",
       "            <td>Joshua Winkelman</td>\n",
       "            <td>After forming [l=Ovum Recordings] as an independent label in October 1994 with former partner [a=King Britt], Josh recorded the cult classic &#x27;Liquid Summer&#x27;. He went on to release singles for a wide variety of revered European labels ranging from Belgium&#x27;s [l=R &amp; S Records] to England&#x27;s [l=XL Recordings]. In 1995, Wink became one of the first DJ-producers to translate his hard work into mainstream success when he unleashed a string of classics including &#x27;Don&#x27;t Laugh&#x27;¸ &#x27;I&#x27;m Ready&#x27; and &#x27;Higher State of Consciousness&#x27; that topped charts worldwide. More recently he has had massive club hits such as &#x27;How&#x27;s Your Evening So Far&#x27; and &#x27;Superfreak&#x27; but he has also gained a lot of attention trough his remixes for [a=FC Kahuna], [a=Paul Oakenfold], [a=Ladytron], [a=Clint Mansell], [a=Sting] and [a=Depeche Mode], among others.</td>\n",
       "            <td>http://www.joshwink.com/</td>\n",
       "        </tr>\n",
       "        <tr>\n",
       "            <td>4</td>\n",
       "            <td>Johannes Heil</td>\n",
       "            <td>Johannes Heil</td>\n",
       "            <td>Electronic music producer, musician and live performer, born 3 February 1978 near the town of Bad Nauheim, Germany. Founder of [l=JH] and [l=Metatron Recordings].</td>\n",
       "            <td>http://johannes-heil.com/</td>\n",
       "        </tr>\n",
       "        <tr>\n",
       "            <td>5</td>\n",
       "            <td>Heiko Laux</td>\n",
       "            <td>Heiko Laux</td>\n",
       "            <td>German DJ and producer based in Berlin. He is the founder of [l=Kanzleramt].</td>\n",
       "            <td>http://www.heiko-laux.com</td>\n",
       "        </tr>\n",
       "    </tbody>\n",
       "</table>"
      ],
      "text/plain": [
       "[(1, 'The Persuader', 'Jesper Dahlbäck', None, None),\n",
       " (2, 'Mr. James Barth & A.D.', 'Cari Lekebusch & Alexi Delano', None, None),\n",
       " (3, 'Josh Wink', 'Joshua Winkelman', \"After forming [l=Ovum Recordings] as an independent label in October 1994 with former partner [a=King Britt], Josh recorded the cult classic 'Liquid  ... (527 characters truncated) ... of attention trough his remixes for [a=FC Kahuna], [a=Paul Oakenfold], [a=Ladytron], [a=Clint Mansell], [a=Sting] and [a=Depeche Mode], among others.\", 'http://www.joshwink.com/'),\n",
       " (4, 'Johannes Heil', 'Johannes Heil', 'Electronic music producer, musician and live performer, born 3 February 1978 near the town of Bad Nauheim, Germany. Founder of [l=JH] and [l=Metatron Recordings].', 'http://johannes-heil.com/'),\n",
       " (5, 'Heiko Laux', 'Heiko Laux', 'German DJ and producer based in Berlin. He is the founder of [l=Kanzleramt].', 'http://www.heiko-laux.com')]"
      ]
     },
     "execution_count": 29,
     "metadata": {},
     "output_type": "execute_result"
    }
   ],
   "source": [
    "%%sql\n",
    "SELECT * FROM artists LIMIT 5;"
   ]
  },
  {
   "cell_type": "markdown",
   "metadata": {},
   "source": [
    "Naturally we could write similar queries to better understand each of the other tables."
   ]
  },
  {
   "cell_type": "markdown",
   "metadata": {},
   "source": [
    "#### With what you now know about the datasets, try to answer the following questions\n",
    "\n",
    "1. Which concepts are modelled in the dataset and how do they relate to each other? <b>Hint</b>: how do the tables connect logically?\n",
    "2. Why do you think this shape (table) was chosen for the data and why not the other shapes?\n",
    "3. In which normal forms are the corresponding relations?\n",
    "4. How can we denormalise the data to make some queries more efficient? <b>Hint</b>: have a look at the queries in the next session of the exercises to see if adding some columns to some tables could reduce the need to `JOIN`.\n",
    "5. What potential problems could result from adding redundancy?"
   ]
  },
  {
   "cell_type": "code",
   "execution_count": null,
   "metadata": {},
   "outputs": [],
   "source": []
  },
  {
   "cell_type": "markdown",
   "metadata": {},
   "source": [
    "## Exercise 2: SQL warm-up\n",
    "Now that we familiarised ourself with the tables and relationship, we will begin with several SQL queries to ease us back into the language.\n",
    "\n",
    "<b>Practical tips:</b>\n",
    "- You might want to begin by retrieving a few rows from each of the database tables to get a sense of what is stored. \n",
    "- When testing your queries, it is good practice to add a \"LIMIT\" clause to avoid inadvertedly retrieving hundreds of rows."
   ]
  },
  {
   "cell_type": "markdown",
   "metadata": {},
   "source": [
    "The following is an example query that contains some common SQL expressions. A complete list can be found at: https://www.postgresql.org/docs/current/sql-select.html"
   ]
  },
  {
   "cell_type": "code",
   "execution_count": 30,
   "metadata": {},
   "outputs": [
    {
     "name": "stdout",
     "output_type": "stream",
     "text": [
      " * postgresql://postgres:***@db:5432/postgres\n",
      "5 rows affected.\n"
     ]
    },
    {
     "data": {
      "text/html": [
       "<table>\n",
       "    <thead>\n",
       "        <tr>\n",
       "            <th>column1</th>\n",
       "            <th>column2</th>\n",
       "            <th>column3</th>\n",
       "        </tr>\n",
       "    </thead>\n",
       "    <tbody>\n",
       "        <tr>\n",
       "            <td>Various Artists</td>\n",
       "            <td>2814</td>\n",
       "            <td>349.5806680881307747</td>\n",
       "        </tr>\n",
       "        <tr>\n",
       "            <td>DJ Snowman</td>\n",
       "            <td>548</td>\n",
       "            <td>287.5620437956204380</td>\n",
       "        </tr>\n",
       "        <tr>\n",
       "            <td>DJ Noise</td>\n",
       "            <td>504</td>\n",
       "            <td>401.8650793650793651</td>\n",
       "        </tr>\n",
       "        <tr>\n",
       "            <td>Dave 202</td>\n",
       "            <td>425</td>\n",
       "            <td>326.8800000000000000</td>\n",
       "        </tr>\n",
       "        <tr>\n",
       "            <td>DJ Nonsdrome</td>\n",
       "            <td>242</td>\n",
       "            <td>306.3842975206611570</td>\n",
       "        </tr>\n",
       "    </tbody>\n",
       "</table>"
      ],
      "text/plain": [
       "[('Various Artists', 2814, Decimal('349.5806680881307747')),\n",
       " ('DJ Snowman', 548, Decimal('287.5620437956204380')),\n",
       " ('DJ Noise', 504, Decimal('401.8650793650793651')),\n",
       " ('Dave 202', 425, Decimal('326.8800000000000000')),\n",
       " ('DJ Nonsdrome', 242, Decimal('306.3842975206611570'))]"
      ]
     },
     "execution_count": 30,
     "metadata": {},
     "output_type": "execute_result"
    }
   ],
   "source": [
    "%%sql\n",
    "SELECT DISTINCT\n",
    "    a.name AS column1,\n",
    "    COUNT(t.track_id) AS column2,\n",
    "    AVG(t.duration) AS column3\n",
    "FROM\n",
    "    artists a\n",
    "    JOIN released_by rb USING(artist_id)\n",
    "    JOIN releases r USING(release_id)\n",
    "    JOIN tracks t USING(release_id)\n",
    "WHERE\n",
    "    t.duration > 123\n",
    "    AND t.title != 'My Query'\n",
    "    AND r.country = 'Switzerland'\n",
    "GROUP BY\n",
    "    a.artist_id, a.name\n",
    "HAVING\n",
    "    COUNT(t.track_id) > 0\n",
    "ORDER BY\n",
    "    column2 DESC,\n",
    "    column3 DESC\n",
    "LIMIT 5;"
   ]
  },
  {
   "cell_type": "markdown",
   "metadata": {},
   "source": [
    "The following is a visual representation of the database schema for quick reference.\n",
    "\n",
    "<img src=\"https://polybox.ethz.ch/index.php/s/8CqNffQrR0EDbuC/download\" width=800/>"
   ]
  },
  {
   "cell_type": "markdown",
   "metadata": {},
   "source": [
    "#### 1. Retrieve all releases that were released after January 1, 2017."
   ]
  },
  {
   "cell_type": "code",
   "execution_count": 88,
   "metadata": {},
   "outputs": [
    {
     "name": "stdout",
     "output_type": "stream",
     "text": [
      " * postgresql://postgres:***@db:5432/postgres\n",
      "10 rows affected.\n"
     ]
    },
    {
     "data": {
      "text/html": [
       "<table>\n",
       "    <thead>\n",
       "        <tr>\n",
       "            <th>release_id</th>\n",
       "            <th>released</th>\n",
       "            <th>title</th>\n",
       "            <th>country</th>\n",
       "            <th>genre</th>\n",
       "        </tr>\n",
       "    </thead>\n",
       "    <tbody>\n",
       "        <tr>\n",
       "            <td>100000</td>\n",
       "            <td>2018-12-14</td>\n",
       "            <td>Kizomba Mix, Vol. 2 [2018] 2 CDs</td>\n",
       "            <td>Portugal</td>\n",
       "            <td>Electronic</td>\n",
       "        </tr>\n",
       "        <tr>\n",
       "            <td>130357</td>\n",
       "            <td>2018-01-01</td>\n",
       "            <td>Shed01</td>\n",
       "            <td>UK</td>\n",
       "            <td>Electronic</td>\n",
       "        </tr>\n",
       "        <tr>\n",
       "            <td>138522</td>\n",
       "            <td>2018-01-01</td>\n",
       "            <td>Jetlag Disco</td>\n",
       "            <td>Germany</td>\n",
       "            <td>Electronic</td>\n",
       "        </tr>\n",
       "        <tr>\n",
       "            <td>264023</td>\n",
       "            <td>2018-01-01</td>\n",
       "            <td>The Bad Behaviour E.P</td>\n",
       "            <td>UK</td>\n",
       "            <td>Electronic</td>\n",
       "        </tr>\n",
       "        <tr>\n",
       "            <td>266607</td>\n",
       "            <td>2018-01-01</td>\n",
       "            <td>Volume 1</td>\n",
       "            <td>UK</td>\n",
       "            <td>Electronic</td>\n",
       "        </tr>\n",
       "        <tr>\n",
       "            <td>332457</td>\n",
       "            <td>2018-01-01</td>\n",
       "            <td>Sudd. Autumn Collection 03</td>\n",
       "            <td>Sweden</td>\n",
       "            <td>Electronic</td>\n",
       "        </tr>\n",
       "        <tr>\n",
       "            <td>376880</td>\n",
       "            <td>2018-01-01</td>\n",
       "            <td>Technikal Support</td>\n",
       "            <td>UK</td>\n",
       "            <td>Electronic</td>\n",
       "        </tr>\n",
       "        <tr>\n",
       "            <td>396986</td>\n",
       "            <td>2018-01-01</td>\n",
       "            <td>You Wanna Do What / In One Hand</td>\n",
       "            <td>UK</td>\n",
       "            <td>Electronic</td>\n",
       "        </tr>\n",
       "        <tr>\n",
       "            <td>396989</td>\n",
       "            <td>2018-01-01</td>\n",
       "            <td>Happy To Be Sad / I Was Just Leaving</td>\n",
       "            <td>UK</td>\n",
       "            <td>Electronic</td>\n",
       "        </tr>\n",
       "        <tr>\n",
       "            <td>400057</td>\n",
       "            <td>2018-01-01</td>\n",
       "            <td>No-Harm</td>\n",
       "            <td>UK</td>\n",
       "            <td>Electronic</td>\n",
       "        </tr>\n",
       "    </tbody>\n",
       "</table>"
      ],
      "text/plain": [
       "[(100000, datetime.date(2018, 12, 14), 'Kizomba Mix, Vol. 2 [2018] 2 CDs', 'Portugal', 'Electronic'),\n",
       " (130357, datetime.date(2018, 1, 1), 'Shed01', 'UK', 'Electronic'),\n",
       " (138522, datetime.date(2018, 1, 1), 'Jetlag Disco', 'Germany', 'Electronic'),\n",
       " (264023, datetime.date(2018, 1, 1), 'The Bad Behaviour E.P', 'UK', 'Electronic'),\n",
       " (266607, datetime.date(2018, 1, 1), 'Volume 1', 'UK', 'Electronic'),\n",
       " (332457, datetime.date(2018, 1, 1), 'Sudd. Autumn Collection 03', 'Sweden', 'Electronic'),\n",
       " (376880, datetime.date(2018, 1, 1), 'Technikal Support', 'UK', 'Electronic'),\n",
       " (396986, datetime.date(2018, 1, 1), 'You Wanna Do What / In One Hand', 'UK', 'Electronic'),\n",
       " (396989, datetime.date(2018, 1, 1), 'Happy To Be Sad / I Was Just Leaving', 'UK', 'Electronic'),\n",
       " (400057, datetime.date(2018, 1, 1), 'No-Harm', 'UK', 'Electronic')]"
      ]
     },
     "execution_count": 88,
     "metadata": {},
     "output_type": "execute_result"
    }
   ],
   "source": [
    "%%sql\n",
    "SELECT *\n",
    "FROM releases AS r\n",
    "WHERE r.released > '2017-01-01'\n",
    "LIMIT 10"
   ]
  },
  {
   "cell_type": "markdown",
   "metadata": {},
   "source": [
    "#### 2. Find all tracks with a duration longer than 7 hours. Assume the 'duration' column in the 'tracks' table is in seconds."
   ]
  },
  {
   "cell_type": "code",
   "execution_count": 90,
   "metadata": {},
   "outputs": [
    {
     "name": "stdout",
     "output_type": "stream",
     "text": [
      " * postgresql://postgres:***@db:5432/postgres\n",
      "3 rows affected.\n"
     ]
    },
    {
     "data": {
      "text/html": [
       "<table>\n",
       "    <thead>\n",
       "        <tr>\n",
       "            <th>release_id</th>\n",
       "            <th>position</th>\n",
       "            <th>title</th>\n",
       "            <th>duration</th>\n",
       "            <th>track_id</th>\n",
       "        </tr>\n",
       "    </thead>\n",
       "    <tbody>\n",
       "        <tr>\n",
       "            <td>47796</td>\n",
       "            <td>9</td>\n",
       "            <td>Rapper&#x27;s Relight</td>\n",
       "            <td>25579</td>\n",
       "            <td>256970</td>\n",
       "        </tr>\n",
       "        <tr>\n",
       "            <td>47796</td>\n",
       "            <td>11</td>\n",
       "            <td>Dialectical Transformation III Peace In Rwanda Mix</td>\n",
       "            <td>27196</td>\n",
       "            <td>256972</td>\n",
       "        </tr>\n",
       "        <tr>\n",
       "            <td>478281</td>\n",
       "            <td>4</td>\n",
       "            <td>Live 1996.12.30.</td>\n",
       "            <td>31934</td>\n",
       "            <td>2526159</td>\n",
       "        </tr>\n",
       "    </tbody>\n",
       "</table>"
      ],
      "text/plain": [
       "[(47796, '9', \"Rapper's Relight\", 25579, 256970),\n",
       " (47796, '11', 'Dialectical Transformation III Peace In Rwanda Mix', 27196, 256972),\n",
       " (478281, '4', 'Live 1996.12.30.', 31934, 2526159)]"
      ]
     },
     "execution_count": 90,
     "metadata": {},
     "output_type": "execute_result"
    }
   ],
   "source": [
    "%%sql\n",
    "SELECT *\n",
    "FROM tracks AS t\n",
    "WHERE t.duration > 7 * 60 * 60\n",
    "LIMIT 10"
   ]
  },
  {
   "cell_type": "markdown",
   "metadata": {},
   "source": [
    "#### 3. Retrieve the titles of 5 releases along with the names of the artists who released them."
   ]
  },
  {
   "cell_type": "code",
   "execution_count": 91,
   "metadata": {},
   "outputs": [
    {
     "name": "stdout",
     "output_type": "stream",
     "text": [
      " * postgresql://postgres:***@db:5432/postgres\n",
      "5 rows affected.\n"
     ]
    },
    {
     "data": {
      "text/html": [
       "<table>\n",
       "    <thead>\n",
       "        <tr>\n",
       "            <th>title</th>\n",
       "            <th>name</th>\n",
       "        </tr>\n",
       "    </thead>\n",
       "    <tbody>\n",
       "        <tr>\n",
       "            <td>Stockholm</td>\n",
       "            <td>The Persuader</td>\n",
       "        </tr>\n",
       "        <tr>\n",
       "            <td>Knockin&#x27; Boots Vol 2 Of 2</td>\n",
       "            <td>Mr. James Barth &amp; A.D.</td>\n",
       "        </tr>\n",
       "        <tr>\n",
       "            <td>Profound Sounds Vol. 1</td>\n",
       "            <td>Josh Wink</td>\n",
       "        </tr>\n",
       "        <tr>\n",
       "            <td>Flowerhead</td>\n",
       "            <td>DATacide</td>\n",
       "        </tr>\n",
       "        <tr>\n",
       "            <td>Knockin&#x27; Boots (Vol 1 Of 2)</td>\n",
       "            <td>Mr. James Barth &amp; A.D.</td>\n",
       "        </tr>\n",
       "    </tbody>\n",
       "</table>"
      ],
      "text/plain": [
       "[('Stockholm', 'The Persuader'),\n",
       " (\"Knockin' Boots Vol 2 Of 2\", 'Mr. James Barth & A.D.'),\n",
       " ('Profound Sounds Vol. 1', 'Josh Wink'),\n",
       " ('Flowerhead', 'DATacide'),\n",
       " (\"Knockin' Boots (Vol 1 Of 2)\", 'Mr. James Barth & A.D.')]"
      ]
     },
     "execution_count": 91,
     "metadata": {},
     "output_type": "execute_result"
    }
   ],
   "source": [
    "%%sql\n",
    "SELECT r.title, a.name\n",
    "FROM releases AS r\n",
    "JOIN released_by AS rb USING(release_id)\n",
    "JOIN artists AS a USING(artist_id)\n",
    "LIMIT 5"
   ]
  },
  {
   "cell_type": "markdown",
   "metadata": {},
   "source": [
    "#### 4. List each genre and the number of releases in that genre."
   ]
  },
  {
   "cell_type": "code",
   "execution_count": 41,
   "metadata": {},
   "outputs": [
    {
     "name": "stdout",
     "output_type": "stream",
     "text": [
      " * postgresql://postgres:***@db:5432/postgres\n",
      "15 rows affected.\n"
     ]
    },
    {
     "data": {
      "text/html": [
       "<table>\n",
       "    <thead>\n",
       "        <tr>\n",
       "            <th>genre</th>\n",
       "            <th>count</th>\n",
       "        </tr>\n",
       "    </thead>\n",
       "    <tbody>\n",
       "        <tr>\n",
       "            <td>Blues</td>\n",
       "            <td>48</td>\n",
       "        </tr>\n",
       "        <tr>\n",
       "            <td>Brass &amp; Military</td>\n",
       "            <td>4</td>\n",
       "        </tr>\n",
       "        <tr>\n",
       "            <td>Children&#x27;s</td>\n",
       "            <td>6</td>\n",
       "        </tr>\n",
       "        <tr>\n",
       "            <td>Classical</td>\n",
       "            <td>257</td>\n",
       "        </tr>\n",
       "        <tr>\n",
       "            <td>Electronic</td>\n",
       "            <td>183766</td>\n",
       "        </tr>\n",
       "        <tr>\n",
       "            <td>Folk, World, &amp; Country</td>\n",
       "            <td>101</td>\n",
       "        </tr>\n",
       "        <tr>\n",
       "            <td>Funk / Soul</td>\n",
       "            <td>3674</td>\n",
       "        </tr>\n",
       "        <tr>\n",
       "            <td>Hip Hop</td>\n",
       "            <td>10598</td>\n",
       "        </tr>\n",
       "        <tr>\n",
       "            <td>Jazz</td>\n",
       "            <td>3325</td>\n",
       "        </tr>\n",
       "        <tr>\n",
       "            <td>Latin</td>\n",
       "            <td>153</td>\n",
       "        </tr>\n",
       "        <tr>\n",
       "            <td>Non-Music</td>\n",
       "            <td>353</td>\n",
       "        </tr>\n",
       "        <tr>\n",
       "            <td>Pop</td>\n",
       "            <td>691</td>\n",
       "        </tr>\n",
       "        <tr>\n",
       "            <td>Reggae</td>\n",
       "            <td>1382</td>\n",
       "        </tr>\n",
       "        <tr>\n",
       "            <td>Rock</td>\n",
       "            <td>17541</td>\n",
       "        </tr>\n",
       "        <tr>\n",
       "            <td>Stage &amp; Screen</td>\n",
       "            <td>39</td>\n",
       "        </tr>\n",
       "    </tbody>\n",
       "</table>"
      ],
      "text/plain": [
       "[('Blues', 48),\n",
       " ('Brass & Military', 4),\n",
       " (\"Children's\", 6),\n",
       " ('Classical', 257),\n",
       " ('Electronic', 183766),\n",
       " ('Folk, World, & Country', 101),\n",
       " ('Funk / Soul', 3674),\n",
       " ('Hip Hop', 10598),\n",
       " ('Jazz', 3325),\n",
       " ('Latin', 153),\n",
       " ('Non-Music', 353),\n",
       " ('Pop', 691),\n",
       " ('Reggae', 1382),\n",
       " ('Rock', 17541),\n",
       " ('Stage & Screen', 39)]"
      ]
     },
     "execution_count": 41,
     "metadata": {},
     "output_type": "execute_result"
    }
   ],
   "source": [
    "%%sql\n",
    "SELECT r.genre, COUNT(*)\n",
    "FROM releases AS r\n",
    "GROUP BY r.genre"
   ]
  },
  {
   "cell_type": "markdown",
   "metadata": {},
   "source": [
    "#### 5. Identify the top 5 artists who have the most releases."
   ]
  },
  {
   "cell_type": "code",
   "execution_count": 56,
   "metadata": {},
   "outputs": [
    {
     "name": "stdout",
     "output_type": "stream",
     "text": [
      " * postgresql://postgres:***@db:5432/postgres\n",
      "5 rows affected.\n"
     ]
    },
    {
     "data": {
      "text/html": [
       "<table>\n",
       "    <thead>\n",
       "        <tr>\n",
       "            <th>artist_id</th>\n",
       "            <th>name</th>\n",
       "            <th>count</th>\n",
       "        </tr>\n",
       "    </thead>\n",
       "    <tbody>\n",
       "        <tr>\n",
       "            <td>194</td>\n",
       "            <td>Various Artists</td>\n",
       "            <td>46123</td>\n",
       "        </tr>\n",
       "        <tr>\n",
       "            <td>8760</td>\n",
       "            <td>Madonna</td>\n",
       "            <td>617</td>\n",
       "        </tr>\n",
       "        <tr>\n",
       "            <td>7552</td>\n",
       "            <td>Pet Shop Boys</td>\n",
       "            <td>600</td>\n",
       "        </tr>\n",
       "        <tr>\n",
       "            <td>4118</td>\n",
       "            <td>Faithless</td>\n",
       "            <td>336</td>\n",
       "        </tr>\n",
       "        <tr>\n",
       "            <td>15885</td>\n",
       "            <td>Michael Jackson</td>\n",
       "            <td>332</td>\n",
       "        </tr>\n",
       "    </tbody>\n",
       "</table>"
      ],
      "text/plain": [
       "[(194, 'Various Artists', 46123),\n",
       " (8760, 'Madonna', 617),\n",
       " (7552, 'Pet Shop Boys', 600),\n",
       " (4118, 'Faithless', 336),\n",
       " (15885, 'Michael Jackson', 332)]"
      ]
     },
     "execution_count": 56,
     "metadata": {},
     "output_type": "execute_result"
    }
   ],
   "source": [
    "%%sql\n",
    "SELECT a.artist_id, a.name,COUNT(rb.release_id) AS count\n",
    "FROM artists AS a\n",
    "JOIN released_by AS rb USING(artist_id)\n",
    "GROUP BY a.artist_id, a.name\n",
    "ORDER BY count DESC\n",
    "LIMIT 5"
   ]
  },
  {
   "cell_type": "markdown",
   "metadata": {},
   "source": [
    "#### 6. Find the artist who has the longest total duration of tracks across all their releases."
   ]
  },
  {
   "cell_type": "code",
   "execution_count": 57,
   "metadata": {},
   "outputs": [
    {
     "name": "stdout",
     "output_type": "stream",
     "text": [
      " * postgresql://postgres:***@db:5432/postgres\n",
      "2 rows affected.\n"
     ]
    },
    {
     "data": {
      "text/html": [
       "<table>\n",
       "    <thead>\n",
       "        <tr>\n",
       "            <th>artist_id</th>\n",
       "            <th>name</th>\n",
       "            <th>total</th>\n",
       "        </tr>\n",
       "    </thead>\n",
       "    <tbody>\n",
       "        <tr>\n",
       "            <td>194</td>\n",
       "            <td>Various Artists</td>\n",
       "            <td>227180023</td>\n",
       "        </tr>\n",
       "        <tr>\n",
       "            <td>7552</td>\n",
       "            <td>Pet Shop Boys</td>\n",
       "            <td>1190333</td>\n",
       "        </tr>\n",
       "    </tbody>\n",
       "</table>"
      ],
      "text/plain": [
       "[(194, 'Various Artists', 227180023), (7552, 'Pet Shop Boys', 1190333)]"
      ]
     },
     "execution_count": 57,
     "metadata": {},
     "output_type": "execute_result"
    }
   ],
   "source": [
    "# wrong solution\n",
    "%%sql\n",
    "SELECT a.artist_id, a.name, SUM(t.duration) AS total\n",
    "FROM artists AS a\n",
    "JOIN released_by AS rb USING(artist_id)\n",
    "JOIN tracks AS t USING(release_id)\n",
    "GROUP BY a.artist_id, a.name\n",
    "ORDER BY total DESC\n",
    "LIMIT 2"
   ]
  },
  {
   "cell_type": "markdown",
   "metadata": {},
   "source": [
    "#### 7. Find how many releases that have tracks with duplicate titles."
   ]
  },
  {
   "cell_type": "markdown",
   "metadata": {},
   "source": [
    "**confused**: below is wrong? why do i need `DISTINCT`?"
   ]
  },
  {
   "cell_type": "code",
   "execution_count": 113,
   "metadata": {},
   "outputs": [
    {
     "name": "stdout",
     "output_type": "stream",
     "text": [
      " * postgresql://postgres:***@db:5432/postgres\n",
      "1 rows affected.\n"
     ]
    },
    {
     "data": {
      "text/html": [
       "<table>\n",
       "    <thead>\n",
       "        <tr>\n",
       "            <th>count</th>\n",
       "        </tr>\n",
       "    </thead>\n",
       "    <tbody>\n",
       "        <tr>\n",
       "            <td>18442</td>\n",
       "        </tr>\n",
       "    </tbody>\n",
       "</table>"
      ],
      "text/plain": [
       "[(18442,)]"
      ]
     },
     "execution_count": 113,
     "metadata": {},
     "output_type": "execute_result"
    }
   ],
   "source": [
    "%%sql\n",
    "WITH releases_with_dups AS (\n",
    "SELECT r.release_id, r.title, t.title, COUNT(t.title) AS count\n",
    "FROM releases AS r\n",
    "JOIN tracks AS t USING(release_id)\n",
    "GROUP BY r.release_id, r.title, t.title\n",
    "HAVING COUNT(t.title) > 1\n",
    ")\n",
    "\n",
    "SELECT COUNT(r.release_id)\n",
    "FROM releases_with_dups AS r"
   ]
  },
  {
   "cell_type": "code",
   "execution_count": 114,
   "metadata": {},
   "outputs": [
    {
     "name": "stdout",
     "output_type": "stream",
     "text": [
      " * postgresql://postgres:***@db:5432/postgres\n",
      "1 rows affected.\n"
     ]
    },
    {
     "data": {
      "text/html": [
       "<table>\n",
       "    <thead>\n",
       "        <tr>\n",
       "            <th>count</th>\n",
       "        </tr>\n",
       "    </thead>\n",
       "    <tbody>\n",
       "        <tr>\n",
       "            <td>9046</td>\n",
       "        </tr>\n",
       "    </tbody>\n",
       "</table>"
      ],
      "text/plain": [
       "[(9046,)]"
      ]
     },
     "execution_count": 114,
     "metadata": {},
     "output_type": "execute_result"
    }
   ],
   "source": [
    "%%sql\n",
    "WITH releases_with_dups AS (\n",
    "SELECT t.release_id, t.title, COUNT(t.title) AS count\n",
    "FROM tracks AS t\n",
    "GROUP BY t.release_id, t.title\n",
    "HAVING COUNT(t.title) > 1\n",
    ")\n",
    "\n",
    "SELECT COUNT(DISTINCT release_id)\n",
    "FROM releases_with_dups"
   ]
  },
  {
   "cell_type": "markdown",
   "metadata": {},
   "source": [
    "Maybe need `DISTINCT` because there may be multiple duplicate titles in the same release, but we do not care about this."
   ]
  },
  {
   "cell_type": "code",
   "execution_count": 116,
   "metadata": {},
   "outputs": [
    {
     "name": "stdout",
     "output_type": "stream",
     "text": [
      " * postgresql://postgres:***@db:5432/postgres\n",
      "20 rows affected.\n"
     ]
    },
    {
     "data": {
      "text/html": [
       "<table>\n",
       "    <thead>\n",
       "        <tr>\n",
       "            <th>release_id</th>\n",
       "            <th>title</th>\n",
       "            <th>count</th>\n",
       "        </tr>\n",
       "    </thead>\n",
       "    <tbody>\n",
       "        <tr>\n",
       "            <td>110</td>\n",
       "            <td>Untitled</td>\n",
       "            <td>3</td>\n",
       "        </tr>\n",
       "        <tr>\n",
       "            <td>466</td>\n",
       "            <td>Scarlet</td>\n",
       "            <td>2</td>\n",
       "        </tr>\n",
       "        <tr>\n",
       "            <td>695</td>\n",
       "            <td>Communications From The Lab</td>\n",
       "            <td>2</td>\n",
       "        </tr>\n",
       "        <tr>\n",
       "            <td>695</td>\n",
       "            <td>Last Tribute From The 20th Century</td>\n",
       "            <td>2</td>\n",
       "        </tr>\n",
       "        <tr>\n",
       "            <td>710</td>\n",
       "            <td>Meanwhile Back At Home</td>\n",
       "            <td>2</td>\n",
       "        </tr>\n",
       "        <tr>\n",
       "            <td>710</td>\n",
       "            <td>Untitled</td>\n",
       "            <td>2</td>\n",
       "        </tr>\n",
       "        <tr>\n",
       "            <td>734</td>\n",
       "            <td>Der Klang Der Familie (F.U.S.E. Mix)</td>\n",
       "            <td>2</td>\n",
       "        </tr>\n",
       "        <tr>\n",
       "            <td>770</td>\n",
       "            <td>Untitled</td>\n",
       "            <td>4</td>\n",
       "        </tr>\n",
       "        <tr>\n",
       "            <td>1034</td>\n",
       "            <td>Untitled</td>\n",
       "            <td>3</td>\n",
       "        </tr>\n",
       "        <tr>\n",
       "            <td>1140</td>\n",
       "            <td>Always (Original Mix)</td>\n",
       "            <td>2</td>\n",
       "        </tr>\n",
       "        <tr>\n",
       "            <td>1140</td>\n",
       "            <td>Bits And Pieces (Original Mix)</td>\n",
       "            <td>2</td>\n",
       "        </tr>\n",
       "        <tr>\n",
       "            <td>1140</td>\n",
       "            <td>Can&#x27;t Get A Man, Can&#x27;t Get A Job (Life&#x27;s A Bitch) (The Hooj Mix)</td>\n",
       "            <td>2</td>\n",
       "        </tr>\n",
       "        <tr>\n",
       "            <td>1140</td>\n",
       "            <td>Deeper (Matt Darey 12&quot; Mix)</td>\n",
       "            <td>2</td>\n",
       "        </tr>\n",
       "        <tr>\n",
       "            <td>1140</td>\n",
       "            <td>Do What You Feel (JX Remix)</td>\n",
       "            <td>2</td>\n",
       "        </tr>\n",
       "        <tr>\n",
       "            <td>1140</td>\n",
       "            <td>Free Your Mind (Matt Darey 12&quot; Mix)</td>\n",
       "            <td>2</td>\n",
       "        </tr>\n",
       "        <tr>\n",
       "            <td>1140</td>\n",
       "            <td>Only Me (Red Jerry Remix)</td>\n",
       "            <td>2</td>\n",
       "        </tr>\n",
       "        <tr>\n",
       "            <td>1140</td>\n",
       "            <td>Save The Day (Emma Roid Mix)</td>\n",
       "            <td>2</td>\n",
       "        </tr>\n",
       "        <tr>\n",
       "            <td>1140</td>\n",
       "            <td>Son Of A Gun (Red Jerry/JX Mix)</td>\n",
       "            <td>2</td>\n",
       "        </tr>\n",
       "        <tr>\n",
       "            <td>1140</td>\n",
       "            <td>The Feeling (Tin Tin Out Mix)</td>\n",
       "            <td>2</td>\n",
       "        </tr>\n",
       "        <tr>\n",
       "            <td>1140</td>\n",
       "            <td>Train Of Thought (Tall Paul 12&quot; Mix)</td>\n",
       "            <td>2</td>\n",
       "        </tr>\n",
       "    </tbody>\n",
       "</table>"
      ],
      "text/plain": [
       "[(110, 'Untitled', 3),\n",
       " (466, 'Scarlet', 2),\n",
       " (695, 'Communications From The Lab', 2),\n",
       " (695, 'Last Tribute From The 20th Century', 2),\n",
       " (710, 'Meanwhile Back At Home', 2),\n",
       " (710, 'Untitled', 2),\n",
       " (734, 'Der Klang Der Familie (F.U.S.E. Mix)', 2),\n",
       " (770, 'Untitled', 4),\n",
       " (1034, 'Untitled', 3),\n",
       " (1140, 'Always (Original Mix)', 2),\n",
       " (1140, 'Bits And Pieces (Original Mix)', 2),\n",
       " (1140, \"Can't Get A Man, Can't Get A Job (Life's A Bitch) (The Hooj Mix)\", 2),\n",
       " (1140, 'Deeper (Matt Darey 12\" Mix)', 2),\n",
       " (1140, 'Do What You Feel (JX Remix)', 2),\n",
       " (1140, 'Free Your Mind (Matt Darey 12\" Mix)', 2),\n",
       " (1140, 'Only Me (Red Jerry Remix)', 2),\n",
       " (1140, 'Save The Day (Emma Roid Mix)', 2),\n",
       " (1140, 'Son Of A Gun (Red Jerry/JX Mix)', 2),\n",
       " (1140, 'The Feeling (Tin Tin Out Mix)', 2),\n",
       " (1140, 'Train Of Thought (Tall Paul 12\" Mix)', 2)]"
      ]
     },
     "execution_count": 116,
     "metadata": {},
     "output_type": "execute_result"
    }
   ],
   "source": [
    "%%sql\n",
    "SELECT t.release_id, t.title, COUNT(t.title) AS count\n",
    "FROM tracks AS t\n",
    "GROUP BY t.release_id, t.title\n",
    "HAVING COUNT(t.title) > 1\n",
    "ORDER BY t.release_id, t.title ASC\n",
    "LIMIT 20"
   ]
  },
  {
   "cell_type": "markdown",
   "metadata": {},
   "source": [
    "#### 8. Retrieve the artists with the name of 'Coldplay'."
   ]
  },
  {
   "cell_type": "code",
   "execution_count": 59,
   "metadata": {},
   "outputs": [
    {
     "name": "stdout",
     "output_type": "stream",
     "text": [
      " * postgresql://postgres:***@db:5432/postgres\n",
      "1 rows affected.\n"
     ]
    },
    {
     "data": {
      "text/html": [
       "<table>\n",
       "    <thead>\n",
       "        <tr>\n",
       "            <th>artist_id</th>\n",
       "            <th>name</th>\n",
       "        </tr>\n",
       "    </thead>\n",
       "    <tbody>\n",
       "        <tr>\n",
       "            <td>29735</td>\n",
       "            <td>Coldplay</td>\n",
       "        </tr>\n",
       "    </tbody>\n",
       "</table>"
      ],
      "text/plain": [
       "[(29735, 'Coldplay')]"
      ]
     },
     "execution_count": 59,
     "metadata": {},
     "output_type": "execute_result"
    }
   ],
   "source": [
    "%%sql\n",
    "SELECT a.artist_id, a.name\n",
    "FROM artists AS a\n",
    "WHERE a.name = 'Coldplay'\n",
    "LIMIT 10"
   ]
  },
  {
   "cell_type": "markdown",
   "metadata": {},
   "source": [
    "#### 9. List the titles of all releases by that artist in alphabetical order.\n",
    "<b>Hint</b>: Ignore the fact that different relases can have the same title."
   ]
  },
  {
   "cell_type": "code",
   "execution_count": 63,
   "metadata": {},
   "outputs": [
    {
     "name": "stdout",
     "output_type": "stream",
     "text": [
      " * postgresql://postgres:***@db:5432/postgres\n",
      "10 rows affected.\n"
     ]
    },
    {
     "data": {
      "text/html": [
       "<table>\n",
       "    <thead>\n",
       "        <tr>\n",
       "            <th>title</th>\n",
       "        </tr>\n",
       "    </thead>\n",
       "    <tbody>\n",
       "        <tr>\n",
       "            <td>Acoustic</td>\n",
       "        </tr>\n",
       "        <tr>\n",
       "            <td>A Rush Of Blood To The Head</td>\n",
       "        </tr>\n",
       "        <tr>\n",
       "            <td>Boot Of Sound</td>\n",
       "        </tr>\n",
       "        <tr>\n",
       "            <td>Brothers &amp; Sisters</td>\n",
       "        </tr>\n",
       "        <tr>\n",
       "            <td>Clocks</td>\n",
       "        </tr>\n",
       "        <tr>\n",
       "            <td>Clocks...</td>\n",
       "        </tr>\n",
       "        <tr>\n",
       "            <td>Clocks / Chime Trance Remixes</td>\n",
       "        </tr>\n",
       "        <tr>\n",
       "            <td>Clocks (Cosmos Rmx)</td>\n",
       "        </tr>\n",
       "        <tr>\n",
       "            <td>Clocks (Dean Coleman Remix)</td>\n",
       "        </tr>\n",
       "        <tr>\n",
       "            <td>Clocks (Planet Rockers Remixes)</td>\n",
       "        </tr>\n",
       "    </tbody>\n",
       "</table>"
      ],
      "text/plain": [
       "[('Acoustic',),\n",
       " ('A Rush Of Blood To The Head',),\n",
       " ('Boot Of Sound',),\n",
       " ('Brothers & Sisters',),\n",
       " ('Clocks',),\n",
       " ('Clocks...',),\n",
       " ('Clocks / Chime Trance Remixes',),\n",
       " ('Clocks (Cosmos Rmx)',),\n",
       " ('Clocks (Dean Coleman Remix)',),\n",
       " ('Clocks (Planet Rockers Remixes)',)]"
      ]
     },
     "execution_count": 63,
     "metadata": {},
     "output_type": "execute_result"
    }
   ],
   "source": [
    "%%sql\n",
    "WITH coldplay AS (\n",
    "SELECT a.artist_id, a.name\n",
    "FROM artists AS a\n",
    "WHERE a.name = 'Coldplay'\n",
    ")\n",
    "\n",
    "SELECT DISTINCT(r.title)\n",
    "FROM releases AS r\n",
    "JOIN released_by AS rb USING(release_id)\n",
    "JOIN coldplay AS cp USING(artist_id)\n",
    "ORDER BY r.title ASC\n",
    "LIMIT 10"
   ]
  },
  {
   "cell_type": "markdown",
   "metadata": {},
   "source": [
    "#### 10. How many tracks from 'Coldplay' have position '1'?"
   ]
  },
  {
   "cell_type": "code",
   "execution_count": 70,
   "metadata": {},
   "outputs": [
    {
     "name": "stdout",
     "output_type": "stream",
     "text": [
      " * postgresql://postgres:***@db:5432/postgres\n",
      "1 rows affected.\n"
     ]
    },
    {
     "data": {
      "text/html": [
       "<table>\n",
       "    <thead>\n",
       "        <tr>\n",
       "            <th>count</th>\n",
       "        </tr>\n",
       "    </thead>\n",
       "    <tbody>\n",
       "        <tr>\n",
       "            <td>32</td>\n",
       "        </tr>\n",
       "    </tbody>\n",
       "</table>"
      ],
      "text/plain": [
       "[(32,)]"
      ]
     },
     "execution_count": 70,
     "metadata": {},
     "output_type": "execute_result"
    }
   ],
   "source": [
    "%%sql\n",
    "SELECT COUNT(t.track_id)\n",
    "FROM tracks AS t\n",
    "JOIN released_by AS rb USING(release_id)\n",
    "JOIN artists AS a USING(artist_id)\n",
    "WHERE a.name = 'Coldplay'\n",
    "AND t.position = '1'\n",
    "LIMIT 1"
   ]
  },
  {
   "cell_type": "markdown",
   "metadata": {},
   "source": [
    "#### 11. List the titles of all releases by Coldplay that contain less than 2 tracks."
   ]
  },
  {
   "cell_type": "markdown",
   "metadata": {},
   "source": [
    "below is wrong because we only care about the titles"
   ]
  },
  {
   "cell_type": "code",
   "execution_count": 122,
   "metadata": {},
   "outputs": [
    {
     "name": "stdout",
     "output_type": "stream",
     "text": [
      " * postgresql://postgres:***@db:5432/postgres\n",
      "15 rows affected.\n"
     ]
    },
    {
     "data": {
      "text/html": [
       "<table>\n",
       "    <thead>\n",
       "        <tr>\n",
       "            <th>release_id</th>\n",
       "            <th>title</th>\n",
       "        </tr>\n",
       "    </thead>\n",
       "    <tbody>\n",
       "        <tr>\n",
       "            <td>643023</td>\n",
       "            <td>Boot Of Sound</td>\n",
       "        </tr>\n",
       "        <tr>\n",
       "            <td>475189</td>\n",
       "            <td>Clocks</td>\n",
       "        </tr>\n",
       "        <tr>\n",
       "            <td>161017</td>\n",
       "            <td>Clocks (Cosmos Rmx)</td>\n",
       "        </tr>\n",
       "        <tr>\n",
       "            <td>301905</td>\n",
       "            <td>Clocks (Dean Coleman Remix)</td>\n",
       "        </tr>\n",
       "        <tr>\n",
       "            <td>174304</td>\n",
       "            <td>Clocks (Remix)</td>\n",
       "        </tr>\n",
       "        <tr>\n",
       "            <td>254524</td>\n",
       "            <td>God</td>\n",
       "        </tr>\n",
       "        <tr>\n",
       "            <td>516672</td>\n",
       "            <td>In My Place</td>\n",
       "        </tr>\n",
       "        <tr>\n",
       "            <td>498704</td>\n",
       "            <td>One I Love</td>\n",
       "        </tr>\n",
       "        <tr>\n",
       "            <td>482072</td>\n",
       "            <td>Speed Of Sound (Karl G Remix)</td>\n",
       "        </tr>\n",
       "        <tr>\n",
       "            <td>506853</td>\n",
       "            <td>Talk</td>\n",
       "        </tr>\n",
       "        <tr>\n",
       "            <td>621881</td>\n",
       "            <td>Talk (Thin White Duke Remix)</td>\n",
       "        </tr>\n",
       "        <tr>\n",
       "            <td>630679</td>\n",
       "            <td>Talk (Thin White Duke Remix)</td>\n",
       "        </tr>\n",
       "        <tr>\n",
       "            <td>120765</td>\n",
       "            <td>Time</td>\n",
       "        </tr>\n",
       "        <tr>\n",
       "            <td>67551</td>\n",
       "            <td>Trouble</td>\n",
       "        </tr>\n",
       "        <tr>\n",
       "            <td>250246</td>\n",
       "            <td>Trouble In Paradise</td>\n",
       "        </tr>\n",
       "    </tbody>\n",
       "</table>"
      ],
      "text/plain": [
       "[(643023, 'Boot Of Sound'),\n",
       " (475189, 'Clocks'),\n",
       " (161017, 'Clocks (Cosmos Rmx)'),\n",
       " (301905, 'Clocks (Dean Coleman Remix)'),\n",
       " (174304, 'Clocks (Remix)'),\n",
       " (254524, 'God'),\n",
       " (516672, 'In My Place'),\n",
       " (498704, 'One I Love'),\n",
       " (482072, 'Speed Of Sound (Karl G Remix)'),\n",
       " (506853, 'Talk'),\n",
       " (621881, 'Talk (Thin White Duke Remix)'),\n",
       " (630679, 'Talk (Thin White Duke Remix)'),\n",
       " (120765, 'Time'),\n",
       " (67551, 'Trouble'),\n",
       " (250246, 'Trouble In Paradise')]"
      ]
     },
     "execution_count": 122,
     "metadata": {},
     "output_type": "execute_result"
    }
   ],
   "source": [
    "%%sql\n",
    "SELECT r.release_id, r.title\n",
    "FROM releases AS r\n",
    "JOIN tracks AS t USING(release_id)\n",
    "JOIN released_by AS rb USING(release_id)\n",
    "JOIN artists AS a USING(artist_id)\n",
    "WHERE a.name = 'Coldplay'\n",
    "GROUP BY r.release_id, r.title\n",
    "HAVING COUNT(t.track_id) < 2\n",
    "ORDER BY r.title ASC"
   ]
  },
  {
   "cell_type": "markdown",
   "metadata": {},
   "source": [
    "**confused**: Yet we still need to group by `release_id`?"
   ]
  },
  {
   "cell_type": "code",
   "execution_count": 128,
   "metadata": {},
   "outputs": [
    {
     "name": "stdout",
     "output_type": "stream",
     "text": [
      " * postgresql://postgres:***@db:5432/postgres\n",
      "14 rows affected.\n"
     ]
    },
    {
     "data": {
      "text/html": [
       "<table>\n",
       "    <thead>\n",
       "        <tr>\n",
       "            <th>title</th>\n",
       "        </tr>\n",
       "    </thead>\n",
       "    <tbody>\n",
       "        <tr>\n",
       "            <td>Boot Of Sound</td>\n",
       "        </tr>\n",
       "        <tr>\n",
       "            <td>Clocks</td>\n",
       "        </tr>\n",
       "        <tr>\n",
       "            <td>Clocks (Cosmos Rmx)</td>\n",
       "        </tr>\n",
       "        <tr>\n",
       "            <td>Clocks (Dean Coleman Remix)</td>\n",
       "        </tr>\n",
       "        <tr>\n",
       "            <td>Clocks (Remix)</td>\n",
       "        </tr>\n",
       "        <tr>\n",
       "            <td>God</td>\n",
       "        </tr>\n",
       "        <tr>\n",
       "            <td>In My Place</td>\n",
       "        </tr>\n",
       "        <tr>\n",
       "            <td>One I Love</td>\n",
       "        </tr>\n",
       "        <tr>\n",
       "            <td>Speed Of Sound (Karl G Remix)</td>\n",
       "        </tr>\n",
       "        <tr>\n",
       "            <td>Talk</td>\n",
       "        </tr>\n",
       "        <tr>\n",
       "            <td>Talk (Thin White Duke Remix)</td>\n",
       "        </tr>\n",
       "        <tr>\n",
       "            <td>Time</td>\n",
       "        </tr>\n",
       "        <tr>\n",
       "            <td>Trouble</td>\n",
       "        </tr>\n",
       "        <tr>\n",
       "            <td>Trouble In Paradise</td>\n",
       "        </tr>\n",
       "    </tbody>\n",
       "</table>"
      ],
      "text/plain": [
       "[('Boot Of Sound',),\n",
       " ('Clocks',),\n",
       " ('Clocks (Cosmos Rmx)',),\n",
       " ('Clocks (Dean Coleman Remix)',),\n",
       " ('Clocks (Remix)',),\n",
       " ('God',),\n",
       " ('In My Place',),\n",
       " ('One I Love',),\n",
       " ('Speed Of Sound (Karl G Remix)',),\n",
       " ('Talk',),\n",
       " ('Talk (Thin White Duke Remix)',),\n",
       " ('Time',),\n",
       " ('Trouble',),\n",
       " ('Trouble In Paradise',)]"
      ]
     },
     "execution_count": 128,
     "metadata": {},
     "output_type": "execute_result"
    }
   ],
   "source": [
    "%%sql\n",
    "SELECT DISTINCT r.title\n",
    "FROM releases AS r\n",
    "JOIN tracks AS t USING(release_id)\n",
    "JOIN released_by AS rb USING(release_id)\n",
    "JOIN artists AS a USING(artist_id)\n",
    "WHERE a.name = 'Coldplay'\n",
    "GROUP BY r.release_id, r.title\n",
    "HAVING COUNT(t.track_id) < 2\n",
    "ORDER BY r.title ASC"
   ]
  },
  {
   "cell_type": "markdown",
   "metadata": {},
   "source": [
    "#### 12. What is the average track duration?"
   ]
  },
  {
   "cell_type": "code",
   "execution_count": 74,
   "metadata": {},
   "outputs": [
    {
     "name": "stdout",
     "output_type": "stream",
     "text": [
      " * postgresql://postgres:***@db:5432/postgres\n",
      "1 rows affected.\n"
     ]
    },
    {
     "data": {
      "text/html": [
       "<table>\n",
       "    <thead>\n",
       "        <tr>\n",
       "            <th>avg</th>\n",
       "        </tr>\n",
       "    </thead>\n",
       "    <tbody>\n",
       "        <tr>\n",
       "            <td>325.0749298696787647</td>\n",
       "        </tr>\n",
       "    </tbody>\n",
       "</table>"
      ],
      "text/plain": [
       "[(Decimal('325.0749298696787647'),)]"
      ]
     },
     "execution_count": 74,
     "metadata": {},
     "output_type": "execute_result"
    }
   ],
   "source": [
    "%%sql\n",
    "SELECT AVG(t.duration)\n",
    "FROM tracks AS t"
   ]
  },
  {
   "cell_type": "markdown",
   "metadata": {},
   "source": [
    "#### 13. How many artists have released tracks longer than twice the average?"
   ]
  },
  {
   "cell_type": "code",
   "execution_count": 87,
   "metadata": {},
   "outputs": [
    {
     "name": "stdout",
     "output_type": "stream",
     "text": [
      " * postgresql://postgres:***@db:5432/postgres\n",
      "1 rows affected.\n"
     ]
    },
    {
     "data": {
      "text/html": [
       "<table>\n",
       "    <thead>\n",
       "        <tr>\n",
       "            <th>count</th>\n",
       "        </tr>\n",
       "    </thead>\n",
       "    <tbody>\n",
       "        <tr>\n",
       "            <td>34878</td>\n",
       "        </tr>\n",
       "    </tbody>\n",
       "</table>"
      ],
      "text/plain": [
       "[(34878,)]"
      ]
     },
     "execution_count": 87,
     "metadata": {},
     "output_type": "execute_result"
    }
   ],
   "source": [
    "%%sql\n",
    "WITH average AS (\n",
    "SELECT AVG(t.duration) AS avg\n",
    "FROM tracks AS t\n",
    "),\n",
    "\n",
    "artists_long AS (\n",
    "SELECT DISTINCT(rb.artist_id)\n",
    "FROM released_by AS rb\n",
    "JOIN tracks AS t USING(release_id)\n",
    "FULL OUTER JOIN average AS avg ON true\n",
    "WHERE t.duration > avg.avg\n",
    ")\n",
    "\n",
    "SELECT COUNT(*)\n",
    "FROM artists_long"
   ]
  },
  {
   "cell_type": "markdown",
   "metadata": {},
   "source": [
    "Simply forgot the `2 *`."
   ]
  },
  {
   "cell_type": "code",
   "execution_count": 131,
   "metadata": {},
   "outputs": [
    {
     "name": "stdout",
     "output_type": "stream",
     "text": [
      " * postgresql://postgres:***@db:5432/postgres\n",
      "1 rows affected.\n"
     ]
    },
    {
     "data": {
      "text/html": [
       "<table>\n",
       "    <thead>\n",
       "        <tr>\n",
       "            <th>count</th>\n",
       "        </tr>\n",
       "    </thead>\n",
       "    <tbody>\n",
       "        <tr>\n",
       "            <td>6386</td>\n",
       "        </tr>\n",
       "    </tbody>\n",
       "</table>"
      ],
      "text/plain": [
       "[(6386,)]"
      ]
     },
     "execution_count": 131,
     "metadata": {},
     "output_type": "execute_result"
    }
   ],
   "source": [
    "%%sql\n",
    "WITH average AS (\n",
    "SELECT AVG(t.duration) AS avg\n",
    "FROM tracks AS t\n",
    "),\n",
    "\n",
    "artists_long AS (\n",
    "SELECT DISTINCT(rb.artist_id)\n",
    "FROM released_by AS rb\n",
    "JOIN tracks AS t USING(release_id)\n",
    "FULL OUTER JOIN average AS avg ON true\n",
    "WHERE t.duration > 2 * avg.avg\n",
    ")\n",
    "\n",
    "SELECT COUNT(*)\n",
    "FROM artists_long"
   ]
  },
  {
   "cell_type": "markdown",
   "metadata": {},
   "source": [
    "## Exercise 3: more SQL\n",
    "We will now see more complex SQL queries.\n",
    "\n",
    "<b>Practical tips:</b>\n",
    "\n",
    "When writing complex queries, you might want to split them into smaller parts by using <b>Common Table Expressions</b> (CTEs). A CTE is a named temporary result set that you can reference within statements (SELECT, INSERT, UPDATE, ... ). You can find more about CTEs at: https://www.postgresql.org/docs/current/queries-with.html\n",
    "\n",
    "The following is an example of a query using two CTEs:"
   ]
  },
  {
   "cell_type": "code",
   "execution_count": 132,
   "metadata": {},
   "outputs": [
    {
     "name": "stdout",
     "output_type": "stream",
     "text": [
      " * postgresql://postgres:***@db:5432/postgres\n",
      "5 rows affected.\n"
     ]
    },
    {
     "data": {
      "text/html": [
       "<table>\n",
       "    <thead>\n",
       "        <tr>\n",
       "            <th>column1</th>\n",
       "            <th>column2</th>\n",
       "        </tr>\n",
       "    </thead>\n",
       "    <tbody>\n",
       "        <tr>\n",
       "            <td>Argentina</td>\n",
       "            <td>Blues</td>\n",
       "        </tr>\n",
       "        <tr>\n",
       "            <td>Argentina</td>\n",
       "            <td>Brass &amp; Military</td>\n",
       "        </tr>\n",
       "        <tr>\n",
       "            <td>Argentina</td>\n",
       "            <td>Children&#x27;s</td>\n",
       "        </tr>\n",
       "        <tr>\n",
       "            <td>Argentina</td>\n",
       "            <td>Classical</td>\n",
       "        </tr>\n",
       "        <tr>\n",
       "            <td>Argentina</td>\n",
       "            <td>Electronic</td>\n",
       "        </tr>\n",
       "    </tbody>\n",
       "</table>"
      ],
      "text/plain": [
       "[('Argentina', 'Blues'),\n",
       " ('Argentina', 'Brass & Military'),\n",
       " ('Argentina', \"Children's\"),\n",
       " ('Argentina', 'Classical'),\n",
       " ('Argentina', 'Electronic')]"
      ]
     },
     "execution_count": 132,
     "metadata": {},
     "output_type": "execute_result"
    }
   ],
   "source": [
    "%%sql\n",
    "WITH countries AS (\n",
    "    SELECT DISTINCT country FROM releases\n",
    "),\n",
    "genres AS (\n",
    "    SELECT DISTINCT genre FROM releases\n",
    ")\n",
    "SELECT c.country as column1, g.genre as column2\n",
    "FROM countries c, genres g\n",
    "LIMIT 5;"
   ]
  },
  {
   "cell_type": "markdown",
   "metadata": {},
   "source": [
    "In some exercises, you might also want to use <b>subqueries</b>. A subquery is a nested query, usually with the purpose of retrieving data that will be used in in the outer query. For instance, subqueries can appear in WHERE, FROM and SELECT clauses.\n",
    "\n",
    "The following is an example of a query than includes a subquery:"
   ]
  },
  {
   "cell_type": "code",
   "execution_count": 135,
   "metadata": {},
   "outputs": [
    {
     "name": "stdout",
     "output_type": "stream",
     "text": [
      " * postgresql://postgres:***@db:5432/postgres\n",
      "5 rows affected.\n"
     ]
    },
    {
     "data": {
      "text/html": [
       "<table>\n",
       "    <thead>\n",
       "        <tr>\n",
       "            <th>column1</th>\n",
       "        </tr>\n",
       "    </thead>\n",
       "    <tbody>\n",
       "        <tr>\n",
       "            <td>110</td>\n",
       "        </tr>\n",
       "        <tr>\n",
       "            <td>466</td>\n",
       "        </tr>\n",
       "        <tr>\n",
       "            <td>695</td>\n",
       "        </tr>\n",
       "        <tr>\n",
       "            <td>695</td>\n",
       "        </tr>\n",
       "        <tr>\n",
       "            <td>710</td>\n",
       "        </tr>\n",
       "    </tbody>\n",
       "</table>"
      ],
      "text/plain": [
       "[(110,), (466,), (695,), (695,), (710,)]"
      ]
     },
     "execution_count": 135,
     "metadata": {},
     "output_type": "execute_result"
    }
   ],
   "source": [
    "%%sql\n",
    "SELECT release_id as column1\n",
    "FROM (\n",
    "    SELECT release_id, title, COUNT(*)\n",
    "    FROM tracks\n",
    "    GROUP BY release_id, title\n",
    "    HAVING COUNT(*) > 1\n",
    ") sub\n",
    "LIMIT 5;"
   ]
  },
  {
   "cell_type": "code",
   "execution_count": 136,
   "metadata": {},
   "outputs": [
    {
     "name": "stdout",
     "output_type": "stream",
     "text": [
      " * postgresql://postgres:***@db:5432/postgres\n",
      "5 rows affected.\n"
     ]
    },
    {
     "data": {
      "text/html": [
       "<table>\n",
       "    <thead>\n",
       "        <tr>\n",
       "            <th>column1</th>\n",
       "        </tr>\n",
       "    </thead>\n",
       "    <tbody>\n",
       "        <tr>\n",
       "            <td>110</td>\n",
       "        </tr>\n",
       "        <tr>\n",
       "            <td>466</td>\n",
       "        </tr>\n",
       "        <tr>\n",
       "            <td>695</td>\n",
       "        </tr>\n",
       "        <tr>\n",
       "            <td>695</td>\n",
       "        </tr>\n",
       "        <tr>\n",
       "            <td>710</td>\n",
       "        </tr>\n",
       "    </tbody>\n",
       "</table>"
      ],
      "text/plain": [
       "[(110,), (466,), (695,), (695,), (710,)]"
      ]
     },
     "execution_count": 136,
     "metadata": {},
     "output_type": "execute_result"
    }
   ],
   "source": [
    "%%sql\n",
    "WITH sub AS (\n",
    "SELECT release_id, title, COUNT(*)\n",
    "FROM tracks\n",
    "GROUP BY release_id, title\n",
    "HAVING COUNT(*) > 1\n",
    ")\n",
    "\n",
    "SELECT release_id as column1\n",
    "FROM sub\n",
    "LIMIT 5;"
   ]
  },
  {
   "cell_type": "markdown",
   "metadata": {},
   "source": [
    "#### 1. What is the title of the album from 'Coldplay' with the most amount of tracks?"
   ]
  },
  {
   "cell_type": "code",
   "execution_count": 137,
   "metadata": {},
   "outputs": [
    {
     "name": "stdout",
     "output_type": "stream",
     "text": [
      " * postgresql://postgres:***@db:5432/postgres\n",
      "1 rows affected.\n"
     ]
    },
    {
     "data": {
      "text/html": [
       "<table>\n",
       "    <thead>\n",
       "        <tr>\n",
       "            <th>release_id</th>\n",
       "            <th>title</th>\n",
       "            <th>count</th>\n",
       "        </tr>\n",
       "    </thead>\n",
       "    <tbody>\n",
       "        <tr>\n",
       "            <td>617736</td>\n",
       "            <td>X&amp;Y (Special Dutch Edition)</td>\n",
       "            <td>19</td>\n",
       "        </tr>\n",
       "    </tbody>\n",
       "</table>"
      ],
      "text/plain": [
       "[(617736, 'X&Y (Special Dutch Edition)', 19)]"
      ]
     },
     "execution_count": 137,
     "metadata": {},
     "output_type": "execute_result"
    }
   ],
   "source": [
    "%%sql\n",
    "SELECT t.release_id, r.title, COUNT(t.track_id) as count\n",
    "FROM tracks as t\n",
    "JOIN releases as r USING(release_id)\n",
    "JOIN released_by as rb USING(release_id)\n",
    "JOIN artists as a USING(artist_id)\n",
    "WHERE a.name = 'Coldplay'\n",
    "GROUP BY t.release_id, r.title\n",
    "ORDER BY count DESC\n",
    "LIMIT 1"
   ]
  },
  {
   "cell_type": "markdown",
   "metadata": {},
   "source": [
    "#### 2. What is the name of the first artist in alphabetical order with releases in the most genres. Please make sure to exclude \"Various Artists\"."
   ]
  },
  {
   "cell_type": "code",
   "execution_count": 139,
   "metadata": {},
   "outputs": [
    {
     "name": "stdout",
     "output_type": "stream",
     "text": [
      " * postgresql://postgres:***@db:5432/postgres\n",
      "1 rows affected.\n"
     ]
    },
    {
     "data": {
      "text/html": [
       "<table>\n",
       "    <thead>\n",
       "        <tr>\n",
       "            <th>artist_id</th>\n",
       "            <th>name</th>\n",
       "            <th>count</th>\n",
       "        </tr>\n",
       "    </thead>\n",
       "    <tbody>\n",
       "        <tr>\n",
       "            <td>47742</td>\n",
       "            <td>Diana Ross</td>\n",
       "            <td>7</td>\n",
       "        </tr>\n",
       "    </tbody>\n",
       "</table>"
      ],
      "text/plain": [
       "[(47742, 'Diana Ross', 7)]"
      ]
     },
     "execution_count": 139,
     "metadata": {},
     "output_type": "execute_result"
    }
   ],
   "source": [
    "%%sql\n",
    "SELECT a.artist_id, a.name, COUNT(DISTINCT r.genre) AS count\n",
    "FROM artists as a\n",
    "JOIN released_by as rb USING(artist_id)\n",
    "JOIN releases as r USING(release_id)\n",
    "WHERE a.name != 'Various Artists'\n",
    "GROUP BY a.artist_id, a.name\n",
    "ORDER BY count DESC, a.name ASC\n",
    "LIMIT 1"
   ]
  },
  {
   "cell_type": "markdown",
   "metadata": {},
   "source": [
    "#### 3. In what year did they (the artist from the previous question) release their first album?"
   ]
  },
  {
   "cell_type": "code",
   "execution_count": 147,
   "metadata": {},
   "outputs": [
    {
     "name": "stdout",
     "output_type": "stream",
     "text": [
      " * postgresql://postgres:***@db:5432/postgres\n",
      "1 rows affected.\n"
     ]
    },
    {
     "data": {
      "text/html": [
       "<table>\n",
       "    <thead>\n",
       "        <tr>\n",
       "            <th>released</th>\n",
       "            <th>artist_id</th>\n",
       "        </tr>\n",
       "    </thead>\n",
       "    <tbody>\n",
       "        <tr>\n",
       "            <td>1967-01-01</td>\n",
       "            <td>47742</td>\n",
       "        </tr>\n",
       "    </tbody>\n",
       "</table>"
      ],
      "text/plain": [
       "[(datetime.date(1967, 1, 1), 47742)]"
      ]
     },
     "execution_count": 147,
     "metadata": {},
     "output_type": "execute_result"
    }
   ],
   "source": [
    "%%sql\n",
    "WITH diana as (\n",
    "SELECT a.artist_id, a.name, COUNT(DISTINCT r.genre) AS count\n",
    "FROM artists as a\n",
    "JOIN released_by as rb USING(artist_id)\n",
    "JOIN releases as r USING(release_id)\n",
    "WHERE a.name != 'Various Artists'\n",
    "GROUP BY a.artist_id, a.name\n",
    "ORDER BY count DESC, a.name ASC\n",
    "LIMIT 1 \n",
    ")\n",
    "\n",
    "SELECT r.released, rb.artist_id\n",
    "FROM releases as r\n",
    "JOIN released_by as rb USING(release_id)\n",
    "JOIN diana as d USING(artist_id)\n",
    "ORDER BY r.released ASC\n",
    "LIMIT 1"
   ]
  },
  {
   "cell_type": "markdown",
   "metadata": {},
   "source": [
    "#### 4. How many artists have released an album with total track duration above twice the average total track duration?\n",
    "\n",
    "<b>Hint</b>: this is not the same as exercise 2.13 since we are lookong at the <b>total</b> track duration of the album."
   ]
  },
  {
   "cell_type": "code",
   "execution_count": 151,
   "metadata": {},
   "outputs": [
    {
     "name": "stdout",
     "output_type": "stream",
     "text": [
      " * postgresql://postgres:***@db:5432/postgres\n",
      "1 rows affected.\n"
     ]
    },
    {
     "data": {
      "text/html": [
       "<table>\n",
       "    <thead>\n",
       "        <tr>\n",
       "            <th>count</th>\n",
       "        </tr>\n",
       "    </thead>\n",
       "    <tbody>\n",
       "        <tr>\n",
       "            <td>3388</td>\n",
       "        </tr>\n",
       "    </tbody>\n",
       "</table>"
      ],
      "text/plain": [
       "[(3388,)]"
      ]
     },
     "execution_count": 151,
     "metadata": {},
     "output_type": "execute_result"
    }
   ],
   "source": [
    "%%sql\n",
    "WITH total_track_durations as (\n",
    "SELECT t.release_id, SUM(t.duration) as total\n",
    "FROM tracks as t\n",
    "GROUP BY t.release_id\n",
    "),\n",
    "avg_total_track_durations as (\n",
    "SELECT AVG(total) as avg_total\n",
    "FROM total_track_durations\n",
    ")\n",
    "\n",
    "SELECT COUNT(DISTINCT rb.artist_id)\n",
    "FROM released_by as rb\n",
    "JOIN total_track_durations as ttd USING(release_id)\n",
    "FULL OUTER JOIN avg_total_track_durations as attd ON true\n",
    "where ttd.total > 2 * attd.avg_total"
   ]
  },
  {
   "cell_type": "markdown",
   "metadata": {},
   "source": [
    "#### 5. How many artists have both a release with a track longer than twice the average and one with total duration longer than twice the average?\n",
    "\n",
    "<b>Hint</b>: you can use `INTERSECT` or `EXISTS` to write your query."
   ]
  },
  {
   "cell_type": "code",
   "execution_count": 159,
   "metadata": {},
   "outputs": [
    {
     "name": "stdout",
     "output_type": "stream",
     "text": [
      " * postgresql://postgres:***@db:5432/postgres\n",
      "1 rows affected.\n"
     ]
    },
    {
     "data": {
      "text/html": [
       "<table>\n",
       "    <thead>\n",
       "        <tr>\n",
       "            <th>count</th>\n",
       "        </tr>\n",
       "    </thead>\n",
       "    <tbody>\n",
       "        <tr>\n",
       "            <td>1870</td>\n",
       "        </tr>\n",
       "    </tbody>\n",
       "</table>"
      ],
      "text/plain": [
       "[(1870,)]"
      ]
     },
     "execution_count": 159,
     "metadata": {},
     "output_type": "execute_result"
    }
   ],
   "source": [
    "%%sql\n",
    "WITH avg_track_duration as (\n",
    "SELECT AVG(t.duration) as avg\n",
    "FROM tracks as t\n",
    "),\n",
    "total_track_durations as (\n",
    "SELECT t.release_id, SUM(t.duration) as total\n",
    "FROM tracks as t\n",
    "GROUP BY t.release_id\n",
    "),\n",
    "avg_total_track_duration as (\n",
    "SELECT AVG(total) as avg_total\n",
    "FROM total_track_durations\n",
    "),\n",
    "artists_longer_track as (\n",
    "SELECT DISTINCT(rb.artist_id)\n",
    "FROM released_by as rb\n",
    "JOIN tracks as t USING(release_id)\n",
    "FULL OUTER JOIN avg_track_duration as atd ON true\n",
    "WHERE t.duration > 2 * atd.avg\n",
    "),\n",
    "artists_longer_total as (\n",
    "SELECT DISTINCT(rb.artist_id)\n",
    "FROM released_by as rb\n",
    "JOIN total_track_durations as ttd USING(release_id)\n",
    "FULL OUTER JOIN avg_total_track_duration as attd ON true\n",
    "WHERE ttd.total > 2 * attd.avg_total\n",
    "),\n",
    "artists_intersect as (\n",
    "(SELECT *\n",
    "FROM artists_longer_track)\n",
    "INTERSECT\n",
    "(SELECT *\n",
    "FROM artists_longer_total)\n",
    ")\n",
    "SELECT COUNT(DISTINCT artist_id)\n",
    "FROM artists_intersect"
   ]
  },
  {
   "cell_type": "markdown",
   "metadata": {},
   "source": [
    "#### 6. Show the artists have more than 200 releases in total but have no releases with the genre 'Pop' in reversed alphabetical order."
   ]
  },
  {
   "cell_type": "markdown",
   "metadata": {},
   "source": [
    "**confused**: below is wrong?\n",
    "answer: because I capitalized pop...jesus"
   ]
  },
  {
   "cell_type": "code",
   "execution_count": 162,
   "metadata": {},
   "outputs": [
    {
     "name": "stdout",
     "output_type": "stream",
     "text": [
      " * postgresql://postgres:***@db:5432/postgres\n",
      "15 rows affected.\n"
     ]
    },
    {
     "data": {
      "text/html": [
       "<table>\n",
       "    <thead>\n",
       "        <tr>\n",
       "            <th>name</th>\n",
       "        </tr>\n",
       "    </thead>\n",
       "    <tbody>\n",
       "        <tr>\n",
       "            <td>Various Artists</td>\n",
       "        </tr>\n",
       "        <tr>\n",
       "            <td>Underworld</td>\n",
       "        </tr>\n",
       "        <tr>\n",
       "            <td>The Shamen</td>\n",
       "        </tr>\n",
       "        <tr>\n",
       "            <td>The Art Of Noise</td>\n",
       "        </tr>\n",
       "        <tr>\n",
       "            <td>Technotronic</td>\n",
       "        </tr>\n",
       "        <tr>\n",
       "            <td>Tangerine Dream</td>\n",
       "        </tr>\n",
       "        <tr>\n",
       "            <td>Pet Shop Boys</td>\n",
       "        </tr>\n",
       "        <tr>\n",
       "            <td>Orbital</td>\n",
       "        </tr>\n",
       "        <tr>\n",
       "            <td>Michael Jackson</td>\n",
       "        </tr>\n",
       "        <tr>\n",
       "            <td>Madonna</td>\n",
       "        </tr>\n",
       "        <tr>\n",
       "            <td>Kool &amp; The Gang</td>\n",
       "        </tr>\n",
       "        <tr>\n",
       "            <td>Janet Jackson</td>\n",
       "        </tr>\n",
       "        <tr>\n",
       "            <td>Faithless</td>\n",
       "        </tr>\n",
       "        <tr>\n",
       "            <td>Beastie Boys</td>\n",
       "        </tr>\n",
       "        <tr>\n",
       "            <td>ATB</td>\n",
       "        </tr>\n",
       "    </tbody>\n",
       "</table>"
      ],
      "text/plain": [
       "[('Various Artists',),\n",
       " ('Underworld',),\n",
       " ('The Shamen',),\n",
       " ('The Art Of Noise',),\n",
       " ('Technotronic',),\n",
       " ('Tangerine Dream',),\n",
       " ('Pet Shop Boys',),\n",
       " ('Orbital',),\n",
       " ('Michael Jackson',),\n",
       " ('Madonna',),\n",
       " ('Kool & The Gang',),\n",
       " ('Janet Jackson',),\n",
       " ('Faithless',),\n",
       " ('Beastie Boys',),\n",
       " ('ATB',)]"
      ]
     },
     "execution_count": 162,
     "metadata": {},
     "output_type": "execute_result"
    }
   ],
   "source": [
    "%%sql\n",
    "WITH artists_many_releases as (\n",
    "SELECT a.artist_id, a.name\n",
    "FROM artists as a\n",
    "JOIN released_by as rb USING(artist_id)\n",
    "GROUP BY a.artist_id, a.name\n",
    "HAVING COUNT(rb.release_id) > 200\n",
    "),\n",
    "artists_pop as (\n",
    "SELECT a.artist_id, a.name\n",
    "FROM artists as a\n",
    "JOIN released_by as rb USING(artist_id)\n",
    "JOIN releases as r USING(release_id)\n",
    "WHERE r.genre = 'POP'\n",
    "),\n",
    "artists_diff as (\n",
    "(SELECT * FROM artists_many_releases) EXCEPT (SELECT * FROM artists_pop)\n",
    ")\n",
    "\n",
    "SELECT DISTINCT(name)\n",
    "FROM artists_diff\n",
    "ORDER BY name DESC"
   ]
  },
  {
   "cell_type": "code",
   "execution_count": 167,
   "metadata": {},
   "outputs": [
    {
     "name": "stdout",
     "output_type": "stream",
     "text": [
      " * postgresql://postgres:***@db:5432/postgres\n",
      "11 rows affected.\n"
     ]
    },
    {
     "data": {
      "text/html": [
       "<table>\n",
       "    <thead>\n",
       "        <tr>\n",
       "            <th>name</th>\n",
       "        </tr>\n",
       "    </thead>\n",
       "    <tbody>\n",
       "        <tr>\n",
       "            <td>Underworld</td>\n",
       "        </tr>\n",
       "        <tr>\n",
       "            <td>The Shamen</td>\n",
       "        </tr>\n",
       "        <tr>\n",
       "            <td>The Art Of Noise</td>\n",
       "        </tr>\n",
       "        <tr>\n",
       "            <td>Technotronic</td>\n",
       "        </tr>\n",
       "        <tr>\n",
       "            <td>Tangerine Dream</td>\n",
       "        </tr>\n",
       "        <tr>\n",
       "            <td>Pet Shop Boys</td>\n",
       "        </tr>\n",
       "        <tr>\n",
       "            <td>Orbital</td>\n",
       "        </tr>\n",
       "        <tr>\n",
       "            <td>Kool &amp; The Gang</td>\n",
       "        </tr>\n",
       "        <tr>\n",
       "            <td>Faithless</td>\n",
       "        </tr>\n",
       "        <tr>\n",
       "            <td>Beastie Boys</td>\n",
       "        </tr>\n",
       "        <tr>\n",
       "            <td>ATB</td>\n",
       "        </tr>\n",
       "    </tbody>\n",
       "</table>"
      ],
      "text/plain": [
       "[('Underworld',),\n",
       " ('The Shamen',),\n",
       " ('The Art Of Noise',),\n",
       " ('Technotronic',),\n",
       " ('Tangerine Dream',),\n",
       " ('Pet Shop Boys',),\n",
       " ('Orbital',),\n",
       " ('Kool & The Gang',),\n",
       " ('Faithless',),\n",
       " ('Beastie Boys',),\n",
       " ('ATB',)]"
      ]
     },
     "execution_count": 167,
     "metadata": {},
     "output_type": "execute_result"
    }
   ],
   "source": [
    "%%sql\n",
    "WITH artists_many_releases as (\n",
    "SELECT a.artist_id, a.name\n",
    "FROM artists as a\n",
    "JOIN released_by as rb USING(artist_id)\n",
    "GROUP BY a.artist_id, a.name\n",
    "HAVING COUNT(rb.release_id) > 200\n",
    "),\n",
    "artists_pop as (\n",
    "SELECT a.artist_id, a.name\n",
    "FROM artists as a\n",
    "JOIN released_by as rb USING(artist_id)\n",
    "JOIN releases as r USING(release_id)\n",
    "WHERE r.genre = 'Pop'\n",
    "),\n",
    "artists_diff as (\n",
    "(SELECT * FROM artists_many_releases) EXCEPT (SELECT * FROM artists_pop)\n",
    ")\n",
    "\n",
    "SELECT DISTINCT(name)\n",
    "FROM artists_diff\n",
    "ORDER BY name DESC"
   ]
  },
  {
   "cell_type": "markdown",
   "metadata": {},
   "source": [
    "## Exercise 4: Discuss query patterns and language features of SQL\n",
    "1. What patterns did you use in many of the queries above? \n",
    "\n",
    "2. What is the usual pattern of an SQL query? Which operations happen pre-grouping and which ones post-grouping?\n",
    "\n",
    "3. What makes SQL a declarative language and what advantages does that have?\n",
    "\n",
    "4. What makes SQL a functional language and what advantages does that have?\n",
    "\n",
    "5. How would the denormalization we talked about previously simplify the queries?"
   ]
  },
  {
   "cell_type": "code",
   "execution_count": null,
   "metadata": {},
   "outputs": [],
   "source": []
  },
  {
   "cell_type": "markdown",
   "metadata": {},
   "source": [
    "## Exercise 5: Limits of SQL (optional)\n",
    "Explain what the following query does.\n",
    "<b>Hints</b>: The query treats the data as if it was in graph shape."
   ]
  },
  {
   "cell_type": "code",
   "execution_count": null,
   "metadata": {},
   "outputs": [],
   "source": [
    "%%sql\n",
    "WITH RECURSIVE\n",
    "    X AS (SELECT 3 AS Value),\n",
    "    artist_releases AS (\n",
    "        SELECT artists.artist_id, artists.name, releases.release_id, releases.title\n",
    "        FROM artists, released_by, releases\n",
    "        WHERE artists.artist_id = released_by.artist_id\n",
    "        AND released_by.release_id = releases.release_id\n",
    "    ),\n",
    "    collaborations AS (\n",
    "        SELECT DISTINCT ar1.artist_id AS left_id, ar1.name AS left_name, \n",
    "                ar2.artist_id AS right_id, ar2.name AS right_name, 1 AS distance\n",
    "        FROM artist_releases AS ar1, artist_releases AS ar2\n",
    "        WHERE ar1.release_id = ar2.release_id\n",
    "        AND ar1.artist_id != ar2.artist_id\n",
    "    ),\n",
    "    X_hop_collaborations AS (\n",
    "        SELECT * FROM collaborations  -- base case\n",
    "        UNION\n",
    "        SELECT c1.left_id, c1.left_name, c2.right_id, c2.right_name, c1.distance + 1 AS distance\n",
    "        FROM X_hop_collaborations AS c1\n",
    "        JOIN collaborations c2 ON c1.right_id = c2.left_id\n",
    "        WHERE c1.distance < (SELECT * FROM X) AND c1.left_id != c2.right_id\n",
    "    )\n",
    "SELECT * \n",
    "FROM X_hop_collaborations\n",
    "WHERE left_name = 'Coldplay'\n",
    "ORDER BY distance, right_name;"
   ]
  },
  {
   "cell_type": "code",
   "execution_count": null,
   "metadata": {},
   "outputs": [],
   "source": []
  }
 ],
 "metadata": {
  "kernelspec": {
   "display_name": "Python 3 (ipykernel)",
   "language": "python",
   "name": "python3"
  },
  "language_info": {
   "codemirror_mode": {
    "name": "ipython",
    "version": 3
   },
   "file_extension": ".py",
   "mimetype": "text/x-python",
   "name": "python",
   "nbconvert_exporter": "python",
   "pygments_lexer": "ipython3",
   "version": "3.11.9"
  }
 },
 "nbformat": 4,
 "nbformat_minor": 4
}
