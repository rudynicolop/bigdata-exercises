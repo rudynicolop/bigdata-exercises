{
 "cells": [
  {
   "cell_type": "markdown",
   "metadata": {},
   "source": [
    "# <center>Big Data &ndash; Exercise 1</center>\n",
    "## <center>Fall 2024 &ndash; Week 1 &ndash; ETH Zurich</center>"
   ]
  },
  {
   "cell_type": "markdown",
   "metadata": {},
   "source": [
    "### Aims\n",
    "- **After this exercise:** \n",
    "    - Understand the SQL language and its common query patterns.\n",
    "    - Understand the 'table' data shape, normalization, and when they can (and should) be used.\n",
    "    - be able to query data in tables with the SQL language.\n",
    "- **Later in the semester:** \n",
    "    - Relate these language features and query patterns relative to other data shapes, technologies, and the languages designed to query them.\n",
    "    - Understand when tables are not the appropriate shape for your data and when you can (and should) throw normalization away!"
   ]
  },
  {
   "cell_type": "markdown",
   "metadata": {},
   "source": [
    "### Prerequisites\n",
    "In this exercise, you will brush-up the fundamental concepts of relational databases and SQL. If you haven't taken an introductory databases course (or want to refresh your knowledge) we recommend you to read the following:\n",
    "\n",
    "Garcia-Molina, Ullman, Widom: Database Systems: The Complete Book. Pearson, 2. Edition, 2008. (Chapters 1, 2, 3, and 6) [Available in the ETH Library] [[Online]](https://ebookcentral.proquest.com/lib/ethz/detail.action?pq-origsite=primo&docID=5832965) [[Selected solutions]](http://infolab.stanford.edu/~ullman/dscbsols/sols.html).\n",
    "\n",
    "Or have a look at the recordings from Information Systems for Engineers - ETH Zurich, available on [[YouTube]](https://www.youtube.com/c/GhislainFournysLectures)."
   ]
  },
  {
   "cell_type": "markdown",
   "metadata": {},
   "source": [
    "### Database Set-up\n",
    "We will be once again working in the ExamMagicBox (you can find it in the following [[link]](https://polybox.ethz.ch/index.php/s/wa57XqDKkxRMb0q) if you have not downloaded it yet): please drag this Notebook in the folder. Just like last week, activate the docker container for the exercise sheet with `docker compose up`; please wait for the message `PostgreSQL init process complete; ready for start up` in the docker logs before proceeding! Alternatively you can start the Docker with `docker compose up -d` and wait for the command to execute: please note that you are creating the containers in the background this way. You can then type `docker compose down` when you are done.\n",
    "\n",
    "As before, we set up our connection to the database and enable use of `%sql` and `%%sql`."
   ]
  },
  {
   "cell_type": "code",
   "execution_count": 2,
   "metadata": {},
   "outputs": [],
   "source": [
    "server='db'\n",
    "user='postgres'\n",
    "password='example'\n",
    "database='postgres'\n",
    "connection_string=f'postgresql://{user}:{password}@{server}:5432/{database}'"
   ]
  },
  {
   "cell_type": "code",
   "execution_count": 3,
   "metadata": {},
   "outputs": [],
   "source": [
    "%reload_ext sql\n",
    "%sql $connection_string"
   ]
  },
  {
   "cell_type": "code",
   "execution_count": 4,
   "metadata": {},
   "outputs": [
    {
     "name": "stdout",
     "output_type": "stream",
     "text": [
      " * postgresql://postgres:***@db:5432/postgres\n",
      "1 rows affected.\n"
     ]
    },
    {
     "data": {
      "text/html": [
       "<table>\n",
       "    <thead>\n",
       "        <tr>\n",
       "            <th>version</th>\n",
       "        </tr>\n",
       "    </thead>\n",
       "    <tbody>\n",
       "        <tr>\n",
       "            <td>PostgreSQL 16.2 (Debian 16.2-1.pgdg120+2) on x86_64-pc-linux-gnu, compiled by gcc (Debian 12.2.0-14) 12.2.0, 64-bit</td>\n",
       "        </tr>\n",
       "    </tbody>\n",
       "</table>"
      ],
      "text/plain": [
       "[('PostgreSQL 16.2 (Debian 16.2-1.pgdg120+2) on x86_64-pc-linux-gnu, compiled by gcc (Debian 12.2.0-14) 12.2.0, 64-bit',)]"
      ]
     },
     "execution_count": 4,
     "metadata": {},
     "output_type": "execute_result"
    }
   ],
   "source": [
    "%%sql\n",
    "SELECT version();"
   ]
  },
  {
   "cell_type": "markdown",
   "metadata": {},
   "source": [
    "### Origin of the data\n",
    "You can find more information on the dataset in the following links\n",
    "- [Discogs](https://www.discogs.com/)\n",
    "- [Discogs XML data dumps](http://data.discogs.com/)\n",
    "\n",
    "If you do not want to use Docker or it does not work you can download the dataset from this [link](https://cloud.inf.ethz.ch/s/DtjCHTLRHT39BRN/download/discogs.dump.xz), see `postgres-init.sh` to see how to import it)"
   ]
  },
  {
   "cell_type": "markdown",
   "metadata": {},
   "source": [
    "## Exercise 1: Explore the dataset\n",
    "We want to first understand the dataset a bit better. You will find some queries below to help you explore the schema."
   ]
  },
  {
   "cell_type": "markdown",
   "metadata": {},
   "source": [
    "### List tables\n",
    "The following query retrieves a list of tables in the database from a system table describing the current database."
   ]
  },
  {
   "cell_type": "code",
   "execution_count": 5,
   "metadata": {},
   "outputs": [
    {
     "name": "stdout",
     "output_type": "stream",
     "text": [
      " * postgresql://postgres:***@db:5432/postgres\n",
      "22 rows affected.\n"
     ]
    },
    {
     "data": {
      "text/html": [
       "<table>\n",
       "    <thead>\n",
       "        <tr>\n",
       "            <th>table_name</th>\n",
       "        </tr>\n",
       "    </thead>\n",
       "    <tbody>\n",
       "        <tr>\n",
       "            <td>companies</td>\n",
       "        </tr>\n",
       "        <tr>\n",
       "            <td>jobs</td>\n",
       "        </tr>\n",
       "        <tr>\n",
       "            <td>employees02</td>\n",
       "        </tr>\n",
       "        <tr>\n",
       "            <td>badges</td>\n",
       "        </tr>\n",
       "        <tr>\n",
       "            <td>comments</td>\n",
       "        </tr>\n",
       "        <tr>\n",
       "            <td>inventory</td>\n",
       "        </tr>\n",
       "        <tr>\n",
       "            <td>posthistory</td>\n",
       "        </tr>\n",
       "        <tr>\n",
       "            <td>postlinks</td>\n",
       "        </tr>\n",
       "        <tr>\n",
       "            <td>posts</td>\n",
       "        </tr>\n",
       "        <tr>\n",
       "            <td>tags</td>\n",
       "        </tr>\n",
       "        <tr>\n",
       "            <td>users</td>\n",
       "        </tr>\n",
       "        <tr>\n",
       "            <td>votes</td>\n",
       "        </tr>\n",
       "        <tr>\n",
       "            <td>artists</td>\n",
       "        </tr>\n",
       "        <tr>\n",
       "            <td>released_by</td>\n",
       "        </tr>\n",
       "        <tr>\n",
       "            <td>releases</td>\n",
       "        </tr>\n",
       "        <tr>\n",
       "            <td>tracks</td>\n",
       "        </tr>\n",
       "        <tr>\n",
       "            <td>employees</td>\n",
       "        </tr>\n",
       "        <tr>\n",
       "            <td>dept_manager</td>\n",
       "        </tr>\n",
       "        <tr>\n",
       "            <td>departments</td>\n",
       "        </tr>\n",
       "        <tr>\n",
       "            <td>dept_emp</td>\n",
       "        </tr>\n",
       "        <tr>\n",
       "            <td>titles</td>\n",
       "        </tr>\n",
       "        <tr>\n",
       "            <td>salaries</td>\n",
       "        </tr>\n",
       "    </tbody>\n",
       "</table>"
      ],
      "text/plain": [
       "[('companies',),\n",
       " ('jobs',),\n",
       " ('employees02',),\n",
       " ('badges',),\n",
       " ('comments',),\n",
       " ('inventory',),\n",
       " ('posthistory',),\n",
       " ('postlinks',),\n",
       " ('posts',),\n",
       " ('tags',),\n",
       " ('users',),\n",
       " ('votes',),\n",
       " ('artists',),\n",
       " ('released_by',),\n",
       " ('releases',),\n",
       " ('tracks',),\n",
       " ('employees',),\n",
       " ('dept_manager',),\n",
       " ('departments',),\n",
       " ('dept_emp',),\n",
       " ('titles',),\n",
       " ('salaries',)]"
      ]
     },
     "execution_count": 5,
     "metadata": {},
     "output_type": "execute_result"
    }
   ],
   "source": [
    "%%sql \n",
    "SELECT table_name\n",
    "FROM information_schema.tables\n",
    "WHERE table_schema = 'public';"
   ]
  },
  {
   "cell_type": "markdown",
   "metadata": {},
   "source": [
    "### List attributes/columns\n",
    "The following query retrieves a list of columns from the tables in the database."
   ]
  },
  {
   "cell_type": "code",
   "execution_count": 6,
   "metadata": {},
   "outputs": [
    {
     "name": "stdout",
     "output_type": "stream",
     "text": [
      " * postgresql://postgres:***@db:5432/postgres\n",
      "17 rows affected.\n"
     ]
    },
    {
     "data": {
      "text/html": [
       "<table>\n",
       "    <thead>\n",
       "        <tr>\n",
       "            <th>table_name</th>\n",
       "            <th>column_name</th>\n",
       "            <th>data_type</th>\n",
       "            <th>is_nullable</th>\n",
       "            <th>ordinal_position</th>\n",
       "        </tr>\n",
       "    </thead>\n",
       "    <tbody>\n",
       "        <tr>\n",
       "            <td>artists</td>\n",
       "            <td>artist_id</td>\n",
       "            <td>integer</td>\n",
       "            <td>NO</td>\n",
       "            <td>1</td>\n",
       "        </tr>\n",
       "        <tr>\n",
       "            <td>artists</td>\n",
       "            <td>name</td>\n",
       "            <td>character varying</td>\n",
       "            <td>YES</td>\n",
       "            <td>2</td>\n",
       "        </tr>\n",
       "        <tr>\n",
       "            <td>artists</td>\n",
       "            <td>realname</td>\n",
       "            <td>text</td>\n",
       "            <td>YES</td>\n",
       "            <td>3</td>\n",
       "        </tr>\n",
       "        <tr>\n",
       "            <td>artists</td>\n",
       "            <td>profile</td>\n",
       "            <td>text</td>\n",
       "            <td>YES</td>\n",
       "            <td>4</td>\n",
       "        </tr>\n",
       "        <tr>\n",
       "            <td>artists</td>\n",
       "            <td>url</td>\n",
       "            <td>text</td>\n",
       "            <td>YES</td>\n",
       "            <td>5</td>\n",
       "        </tr>\n",
       "        <tr>\n",
       "            <td>released_by</td>\n",
       "            <td>release_id</td>\n",
       "            <td>integer</td>\n",
       "            <td>NO</td>\n",
       "            <td>1</td>\n",
       "        </tr>\n",
       "        <tr>\n",
       "            <td>released_by</td>\n",
       "            <td>artist_id</td>\n",
       "            <td>integer</td>\n",
       "            <td>NO</td>\n",
       "            <td>2</td>\n",
       "        </tr>\n",
       "        <tr>\n",
       "            <td>releases</td>\n",
       "            <td>release_id</td>\n",
       "            <td>integer</td>\n",
       "            <td>NO</td>\n",
       "            <td>1</td>\n",
       "        </tr>\n",
       "        <tr>\n",
       "            <td>releases</td>\n",
       "            <td>released</td>\n",
       "            <td>date</td>\n",
       "            <td>NO</td>\n",
       "            <td>2</td>\n",
       "        </tr>\n",
       "        <tr>\n",
       "            <td>releases</td>\n",
       "            <td>title</td>\n",
       "            <td>text</td>\n",
       "            <td>NO</td>\n",
       "            <td>3</td>\n",
       "        </tr>\n",
       "        <tr>\n",
       "            <td>releases</td>\n",
       "            <td>country</td>\n",
       "            <td>character varying</td>\n",
       "            <td>YES</td>\n",
       "            <td>4</td>\n",
       "        </tr>\n",
       "        <tr>\n",
       "            <td>releases</td>\n",
       "            <td>genre</td>\n",
       "            <td>character varying</td>\n",
       "            <td>NO</td>\n",
       "            <td>5</td>\n",
       "        </tr>\n",
       "        <tr>\n",
       "            <td>tracks</td>\n",
       "            <td>release_id</td>\n",
       "            <td>integer</td>\n",
       "            <td>NO</td>\n",
       "            <td>1</td>\n",
       "        </tr>\n",
       "        <tr>\n",
       "            <td>tracks</td>\n",
       "            <td>position</td>\n",
       "            <td>character varying</td>\n",
       "            <td>YES</td>\n",
       "            <td>2</td>\n",
       "        </tr>\n",
       "        <tr>\n",
       "            <td>tracks</td>\n",
       "            <td>title</td>\n",
       "            <td>text</td>\n",
       "            <td>YES</td>\n",
       "            <td>3</td>\n",
       "        </tr>\n",
       "        <tr>\n",
       "            <td>tracks</td>\n",
       "            <td>duration</td>\n",
       "            <td>integer</td>\n",
       "            <td>YES</td>\n",
       "            <td>4</td>\n",
       "        </tr>\n",
       "        <tr>\n",
       "            <td>tracks</td>\n",
       "            <td>track_id</td>\n",
       "            <td>integer</td>\n",
       "            <td>NO</td>\n",
       "            <td>5</td>\n",
       "        </tr>\n",
       "    </tbody>\n",
       "</table>"
      ],
      "text/plain": [
       "[('artists', 'artist_id', 'integer', 'NO', 1),\n",
       " ('artists', 'name', 'character varying', 'YES', 2),\n",
       " ('artists', 'realname', 'text', 'YES', 3),\n",
       " ('artists', 'profile', 'text', 'YES', 4),\n",
       " ('artists', 'url', 'text', 'YES', 5),\n",
       " ('released_by', 'release_id', 'integer', 'NO', 1),\n",
       " ('released_by', 'artist_id', 'integer', 'NO', 2),\n",
       " ('releases', 'release_id', 'integer', 'NO', 1),\n",
       " ('releases', 'released', 'date', 'NO', 2),\n",
       " ('releases', 'title', 'text', 'NO', 3),\n",
       " ('releases', 'country', 'character varying', 'YES', 4),\n",
       " ('releases', 'genre', 'character varying', 'NO', 5),\n",
       " ('tracks', 'release_id', 'integer', 'NO', 1),\n",
       " ('tracks', 'position', 'character varying', 'YES', 2),\n",
       " ('tracks', 'title', 'text', 'YES', 3),\n",
       " ('tracks', 'duration', 'integer', 'YES', 4),\n",
       " ('tracks', 'track_id', 'integer', 'NO', 5)]"
      ]
     },
     "execution_count": 6,
     "metadata": {},
     "output_type": "execute_result"
    }
   ],
   "source": [
    "%%sql \n",
    "SELECT table_name, column_name, data_type, is_nullable, ordinal_position\n",
    "FROM information_schema.columns\n",
    "WHERE table_schema = 'public' AND table_name IN ('artists', 'released_by', 'releases', 'tracks')\n",
    "AND table_name NOT LIKE 'pg_%'\n",
    "ORDER BY table_name, ordinal_position;"
   ]
  },
  {
   "cell_type": "markdown",
   "metadata": {},
   "source": [
    "### Have a look at the datasets\n",
    "The following simple query gives the first 5 rows of the `artists` dataset"
   ]
  },
  {
   "cell_type": "code",
   "execution_count": 7,
   "metadata": {},
   "outputs": [
    {
     "name": "stdout",
     "output_type": "stream",
     "text": [
      " * postgresql://postgres:***@db:5432/postgres\n",
      "5 rows affected.\n"
     ]
    },
    {
     "data": {
      "text/html": [
       "<table>\n",
       "    <thead>\n",
       "        <tr>\n",
       "            <th>artist_id</th>\n",
       "            <th>name</th>\n",
       "            <th>realname</th>\n",
       "            <th>profile</th>\n",
       "            <th>url</th>\n",
       "        </tr>\n",
       "    </thead>\n",
       "    <tbody>\n",
       "        <tr>\n",
       "            <td>1</td>\n",
       "            <td>The Persuader</td>\n",
       "            <td>Jesper Dahlbäck</td>\n",
       "            <td>None</td>\n",
       "            <td>None</td>\n",
       "        </tr>\n",
       "        <tr>\n",
       "            <td>2</td>\n",
       "            <td>Mr. James Barth &amp; A.D.</td>\n",
       "            <td>Cari Lekebusch &amp; Alexi Delano</td>\n",
       "            <td>None</td>\n",
       "            <td>None</td>\n",
       "        </tr>\n",
       "        <tr>\n",
       "            <td>3</td>\n",
       "            <td>Josh Wink</td>\n",
       "            <td>Joshua Winkelman</td>\n",
       "            <td>After forming [l=Ovum Recordings] as an independent label in October 1994 with former partner [a=King Britt], Josh recorded the cult classic &#x27;Liquid Summer&#x27;. He went on to release singles for a wide variety of revered European labels ranging from Belgium&#x27;s [l=R &amp; S Records] to England&#x27;s [l=XL Recordings]. In 1995, Wink became one of the first DJ-producers to translate his hard work into mainstream success when he unleashed a string of classics including &#x27;Don&#x27;t Laugh&#x27;¸ &#x27;I&#x27;m Ready&#x27; and &#x27;Higher State of Consciousness&#x27; that topped charts worldwide. More recently he has had massive club hits such as &#x27;How&#x27;s Your Evening So Far&#x27; and &#x27;Superfreak&#x27; but he has also gained a lot of attention trough his remixes for [a=FC Kahuna], [a=Paul Oakenfold], [a=Ladytron], [a=Clint Mansell], [a=Sting] and [a=Depeche Mode], among others.</td>\n",
       "            <td>http://www.joshwink.com/</td>\n",
       "        </tr>\n",
       "        <tr>\n",
       "            <td>4</td>\n",
       "            <td>Johannes Heil</td>\n",
       "            <td>Johannes Heil</td>\n",
       "            <td>Electronic music producer, musician and live performer, born 3 February 1978 near the town of Bad Nauheim, Germany. Founder of [l=JH] and [l=Metatron Recordings].</td>\n",
       "            <td>http://johannes-heil.com/</td>\n",
       "        </tr>\n",
       "        <tr>\n",
       "            <td>5</td>\n",
       "            <td>Heiko Laux</td>\n",
       "            <td>Heiko Laux</td>\n",
       "            <td>German DJ and producer based in Berlin. He is the founder of [l=Kanzleramt].</td>\n",
       "            <td>http://www.heiko-laux.com</td>\n",
       "        </tr>\n",
       "    </tbody>\n",
       "</table>"
      ],
      "text/plain": [
       "[(1, 'The Persuader', 'Jesper Dahlbäck', None, None),\n",
       " (2, 'Mr. James Barth & A.D.', 'Cari Lekebusch & Alexi Delano', None, None),\n",
       " (3, 'Josh Wink', 'Joshua Winkelman', \"After forming [l=Ovum Recordings] as an independent label in October 1994 with former partner [a=King Britt], Josh recorded the cult classic 'Liquid  ... (527 characters truncated) ... of attention trough his remixes for [a=FC Kahuna], [a=Paul Oakenfold], [a=Ladytron], [a=Clint Mansell], [a=Sting] and [a=Depeche Mode], among others.\", 'http://www.joshwink.com/'),\n",
       " (4, 'Johannes Heil', 'Johannes Heil', 'Electronic music producer, musician and live performer, born 3 February 1978 near the town of Bad Nauheim, Germany. Founder of [l=JH] and [l=Metatron Recordings].', 'http://johannes-heil.com/'),\n",
       " (5, 'Heiko Laux', 'Heiko Laux', 'German DJ and producer based in Berlin. He is the founder of [l=Kanzleramt].', 'http://www.heiko-laux.com')]"
      ]
     },
     "execution_count": 7,
     "metadata": {},
     "output_type": "execute_result"
    }
   ],
   "source": [
    "%%sql\n",
    "SELECT * FROM artists LIMIT 5;"
   ]
  },
  {
   "cell_type": "markdown",
   "metadata": {},
   "source": [
    "Naturally we could write similar queries to better understand each of the other tables."
   ]
  },
  {
   "cell_type": "markdown",
   "metadata": {},
   "source": [
    "#### With what you now know about the datasets, try to answer the following questions\n",
    "\n",
    "1. Which concepts are modelled in the dataset and how do they relate to each other? <b>Hint</b>: how do the tables connect logically?\n",
    "2. Why do you think this shape (table) was chosen for the data and why not the other shapes?\n",
    "3. In which normal forms are the corresponding relations?\n",
    "4. How can we denormalise the data to make some queries more efficient? <b>Hint</b>: have a look at the queries in the next session of the exercises to see if adding some columns to some tables could reduce the need to `JOIN`.\n",
    "5. What potential problems could result from adding redundancy?"
   ]
  },
  {
   "cell_type": "code",
   "execution_count": null,
   "metadata": {},
   "outputs": [],
   "source": []
  },
  {
   "cell_type": "markdown",
   "metadata": {},
   "source": [
    "## Exercise 2: SQL warm-up\n",
    "Now that we familiarised ourself with the tables and relationship, we will begin with several SQL queries to ease us back into the language.\n",
    "\n",
    "<b>Practical tips:</b>\n",
    "- You might want to begin by retrieving a few rows from each of the database tables to get a sense of what is stored. \n",
    "- When testing your queries, it is good practice to add a \"LIMIT\" clause to avoid inadvertedly retrieving hundreds of rows."
   ]
  },
  {
   "cell_type": "markdown",
   "metadata": {},
   "source": [
    "The following is an example query that contains some common SQL expressions. A complete list can be found at: https://www.postgresql.org/docs/current/sql-select.html"
   ]
  },
  {
   "cell_type": "code",
   "execution_count": 8,
   "metadata": {},
   "outputs": [
    {
     "name": "stdout",
     "output_type": "stream",
     "text": [
      " * postgresql://postgres:***@db:5432/postgres\n",
      "5 rows affected.\n"
     ]
    },
    {
     "data": {
      "text/html": [
       "<table>\n",
       "    <thead>\n",
       "        <tr>\n",
       "            <th>column1</th>\n",
       "            <th>column2</th>\n",
       "            <th>column3</th>\n",
       "        </tr>\n",
       "    </thead>\n",
       "    <tbody>\n",
       "        <tr>\n",
       "            <td>Various Artists</td>\n",
       "            <td>2814</td>\n",
       "            <td>349.5806680881307747</td>\n",
       "        </tr>\n",
       "        <tr>\n",
       "            <td>DJ Snowman</td>\n",
       "            <td>548</td>\n",
       "            <td>287.5620437956204380</td>\n",
       "        </tr>\n",
       "        <tr>\n",
       "            <td>DJ Noise</td>\n",
       "            <td>504</td>\n",
       "            <td>401.8650793650793651</td>\n",
       "        </tr>\n",
       "        <tr>\n",
       "            <td>Dave 202</td>\n",
       "            <td>425</td>\n",
       "            <td>326.8800000000000000</td>\n",
       "        </tr>\n",
       "        <tr>\n",
       "            <td>DJ Nonsdrome</td>\n",
       "            <td>242</td>\n",
       "            <td>306.3842975206611570</td>\n",
       "        </tr>\n",
       "    </tbody>\n",
       "</table>"
      ],
      "text/plain": [
       "[('Various Artists', 2814, Decimal('349.5806680881307747')),\n",
       " ('DJ Snowman', 548, Decimal('287.5620437956204380')),\n",
       " ('DJ Noise', 504, Decimal('401.8650793650793651')),\n",
       " ('Dave 202', 425, Decimal('326.8800000000000000')),\n",
       " ('DJ Nonsdrome', 242, Decimal('306.3842975206611570'))]"
      ]
     },
     "execution_count": 8,
     "metadata": {},
     "output_type": "execute_result"
    }
   ],
   "source": [
    "%%sql\n",
    "SELECT DISTINCT\n",
    "    a.name AS column1,\n",
    "    COUNT(t.track_id) AS column2,\n",
    "    AVG(t.duration) AS column3\n",
    "FROM\n",
    "    artists a\n",
    "    JOIN released_by rb USING(artist_id)\n",
    "    JOIN releases r USING(release_id)\n",
    "    JOIN tracks t USING(release_id)\n",
    "WHERE\n",
    "    t.duration > 123\n",
    "    AND t.title != 'My Query'\n",
    "    AND r.country = 'Switzerland'\n",
    "GROUP BY\n",
    "    a.artist_id, a.name\n",
    "HAVING\n",
    "    COUNT(t.track_id) > 0\n",
    "ORDER BY\n",
    "    column2 DESC,\n",
    "    column3 DESC\n",
    "LIMIT 5;"
   ]
  },
  {
   "cell_type": "markdown",
   "metadata": {},
   "source": [
    "The following is a visual representation of the database schema for quick reference.\n",
    "\n",
    "<img src=\"https://polybox.ethz.ch/index.php/s/8CqNffQrR0EDbuC/download\" width=800/>"
   ]
  },
  {
   "cell_type": "markdown",
   "metadata": {},
   "source": [
    "#### 1. Retrieve all releases that were released after January 1, 2017."
   ]
  },
  {
   "cell_type": "code",
   "execution_count": 9,
   "metadata": {},
   "outputs": [
    {
     "name": "stdout",
     "output_type": "stream",
     "text": [
      " * postgresql://postgres:***@db:5432/postgres\n",
      "18 rows affected.\n"
     ]
    },
    {
     "data": {
      "text/html": [
       "<table>\n",
       "    <thead>\n",
       "        <tr>\n",
       "            <th>title</th>\n",
       "            <th>released</th>\n",
       "        </tr>\n",
       "    </thead>\n",
       "    <tbody>\n",
       "        <tr>\n",
       "            <td>Kizomba Mix, Vol. 2 [2018] 2 CDs</td>\n",
       "            <td>2018-12-14</td>\n",
       "        </tr>\n",
       "        <tr>\n",
       "            <td>Shed01</td>\n",
       "            <td>2018-01-01</td>\n",
       "        </tr>\n",
       "        <tr>\n",
       "            <td>Jetlag Disco</td>\n",
       "            <td>2018-01-01</td>\n",
       "        </tr>\n",
       "        <tr>\n",
       "            <td>The Bad Behaviour E.P</td>\n",
       "            <td>2018-01-01</td>\n",
       "        </tr>\n",
       "        <tr>\n",
       "            <td>Volume 1</td>\n",
       "            <td>2018-01-01</td>\n",
       "        </tr>\n",
       "        <tr>\n",
       "            <td>Sudd. Autumn Collection 03</td>\n",
       "            <td>2018-01-01</td>\n",
       "        </tr>\n",
       "        <tr>\n",
       "            <td>Technikal Support</td>\n",
       "            <td>2018-01-01</td>\n",
       "        </tr>\n",
       "        <tr>\n",
       "            <td>You Wanna Do What / In One Hand</td>\n",
       "            <td>2018-01-01</td>\n",
       "        </tr>\n",
       "        <tr>\n",
       "            <td>Happy To Be Sad / I Was Just Leaving</td>\n",
       "            <td>2018-01-01</td>\n",
       "        </tr>\n",
       "        <tr>\n",
       "            <td>No-Harm</td>\n",
       "            <td>2018-01-01</td>\n",
       "        </tr>\n",
       "        <tr>\n",
       "            <td>Melburn / Into The Storm</td>\n",
       "            <td>2018-01-01</td>\n",
       "        </tr>\n",
       "        <tr>\n",
       "            <td>Troika</td>\n",
       "            <td>2018-01-01</td>\n",
       "        </tr>\n",
       "        <tr>\n",
       "            <td>Lectronic</td>\n",
       "            <td>2018-01-01</td>\n",
       "        </tr>\n",
       "        <tr>\n",
       "            <td>Invisible Agent 002</td>\n",
       "            <td>2018-01-01</td>\n",
       "        </tr>\n",
       "        <tr>\n",
       "            <td>Tribal Natty (Aphrodite Remix)</td>\n",
       "            <td>2018-01-01</td>\n",
       "        </tr>\n",
       "        <tr>\n",
       "            <td>Flowers From The Unknown</td>\n",
       "            <td>2018-01-01</td>\n",
       "        </tr>\n",
       "        <tr>\n",
       "            <td>Outlines</td>\n",
       "            <td>2018-01-01</td>\n",
       "        </tr>\n",
       "        <tr>\n",
       "            <td>III</td>\n",
       "            <td>2018-01-01</td>\n",
       "        </tr>\n",
       "    </tbody>\n",
       "</table>"
      ],
      "text/plain": [
       "[('Kizomba Mix, Vol. 2 [2018] 2 CDs', datetime.date(2018, 12, 14)),\n",
       " ('Shed01', datetime.date(2018, 1, 1)),\n",
       " ('Jetlag Disco', datetime.date(2018, 1, 1)),\n",
       " ('The Bad Behaviour E.P', datetime.date(2018, 1, 1)),\n",
       " ('Volume 1', datetime.date(2018, 1, 1)),\n",
       " ('Sudd. Autumn Collection 03', datetime.date(2018, 1, 1)),\n",
       " ('Technikal Support', datetime.date(2018, 1, 1)),\n",
       " ('You Wanna Do What / In One Hand', datetime.date(2018, 1, 1)),\n",
       " ('Happy To Be Sad / I Was Just Leaving', datetime.date(2018, 1, 1)),\n",
       " ('No-Harm', datetime.date(2018, 1, 1)),\n",
       " ('Melburn / Into The Storm', datetime.date(2018, 1, 1)),\n",
       " ('Troika', datetime.date(2018, 1, 1)),\n",
       " ('Lectronic', datetime.date(2018, 1, 1)),\n",
       " ('Invisible Agent 002', datetime.date(2018, 1, 1)),\n",
       " ('Tribal Natty (Aphrodite Remix)', datetime.date(2018, 1, 1)),\n",
       " ('Flowers From The Unknown', datetime.date(2018, 1, 1)),\n",
       " ('Outlines', datetime.date(2018, 1, 1)),\n",
       " ('III', datetime.date(2018, 1, 1))]"
      ]
     },
     "execution_count": 9,
     "metadata": {},
     "output_type": "execute_result"
    }
   ],
   "source": [
    "%%sql\n",
    "SELECT r.title, r.released\n",
    "FROM releases AS r\n",
    "WHERE r.released > '2017-01-01'"
   ]
  },
  {
   "cell_type": "markdown",
   "metadata": {},
   "source": [
    "#### 2. Find all tracks with a duration longer than 7 hours. Assume the 'duration' column in the 'tracks' table is in seconds."
   ]
  },
  {
   "cell_type": "code",
   "execution_count": 10,
   "metadata": {},
   "outputs": [
    {
     "name": "stdout",
     "output_type": "stream",
     "text": [
      " * postgresql://postgres:***@db:5432/postgres\n",
      "3 rows affected.\n"
     ]
    },
    {
     "data": {
      "text/html": [
       "<table>\n",
       "    <thead>\n",
       "        <tr>\n",
       "            <th>release_id</th>\n",
       "            <th>position</th>\n",
       "            <th>title</th>\n",
       "            <th>duration</th>\n",
       "            <th>track_id</th>\n",
       "        </tr>\n",
       "    </thead>\n",
       "    <tbody>\n",
       "        <tr>\n",
       "            <td>47796</td>\n",
       "            <td>9</td>\n",
       "            <td>Rapper&#x27;s Relight</td>\n",
       "            <td>25579</td>\n",
       "            <td>256970</td>\n",
       "        </tr>\n",
       "        <tr>\n",
       "            <td>47796</td>\n",
       "            <td>11</td>\n",
       "            <td>Dialectical Transformation III Peace In Rwanda Mix</td>\n",
       "            <td>27196</td>\n",
       "            <td>256972</td>\n",
       "        </tr>\n",
       "        <tr>\n",
       "            <td>478281</td>\n",
       "            <td>4</td>\n",
       "            <td>Live 1996.12.30.</td>\n",
       "            <td>31934</td>\n",
       "            <td>2526159</td>\n",
       "        </tr>\n",
       "    </tbody>\n",
       "</table>"
      ],
      "text/plain": [
       "[(47796, '9', \"Rapper's Relight\", 25579, 256970),\n",
       " (47796, '11', 'Dialectical Transformation III Peace In Rwanda Mix', 27196, 256972),\n",
       " (478281, '4', 'Live 1996.12.30.', 31934, 2526159)]"
      ]
     },
     "execution_count": 10,
     "metadata": {},
     "output_type": "execute_result"
    }
   ],
   "source": [
    "%%sql\n",
    "SELECT *\n",
    "FROM tracks t\n",
    "WHERE t.duration > 7 * 60 * 60"
   ]
  },
  {
   "cell_type": "markdown",
   "metadata": {},
   "source": [
    "#### 3. Retrieve the titles of 5 releases along with the names of the artists who released them."
   ]
  },
  {
   "cell_type": "code",
   "execution_count": 11,
   "metadata": {},
   "outputs": [
    {
     "name": "stdout",
     "output_type": "stream",
     "text": [
      " * postgresql://postgres:***@db:5432/postgres\n",
      "5 rows affected.\n"
     ]
    },
    {
     "data": {
      "text/html": [
       "<table>\n",
       "    <thead>\n",
       "        <tr>\n",
       "            <th>title</th>\n",
       "            <th>name</th>\n",
       "        </tr>\n",
       "    </thead>\n",
       "    <tbody>\n",
       "        <tr>\n",
       "            <td>Stockholm</td>\n",
       "            <td>The Persuader</td>\n",
       "        </tr>\n",
       "        <tr>\n",
       "            <td>Knockin&#x27; Boots Vol 2 Of 2</td>\n",
       "            <td>Mr. James Barth &amp; A.D.</td>\n",
       "        </tr>\n",
       "        <tr>\n",
       "            <td>Profound Sounds Vol. 1</td>\n",
       "            <td>Josh Wink</td>\n",
       "        </tr>\n",
       "        <tr>\n",
       "            <td>Flowerhead</td>\n",
       "            <td>DATacide</td>\n",
       "        </tr>\n",
       "        <tr>\n",
       "            <td>Knockin&#x27; Boots (Vol 1 Of 2)</td>\n",
       "            <td>Mr. James Barth &amp; A.D.</td>\n",
       "        </tr>\n",
       "    </tbody>\n",
       "</table>"
      ],
      "text/plain": [
       "[('Stockholm', 'The Persuader'),\n",
       " (\"Knockin' Boots Vol 2 Of 2\", 'Mr. James Barth & A.D.'),\n",
       " ('Profound Sounds Vol. 1', 'Josh Wink'),\n",
       " ('Flowerhead', 'DATacide'),\n",
       " (\"Knockin' Boots (Vol 1 Of 2)\", 'Mr. James Barth & A.D.')]"
      ]
     },
     "execution_count": 11,
     "metadata": {},
     "output_type": "execute_result"
    }
   ],
   "source": [
    "%%sql\n",
    "SELECT\n",
    "    r.title,\n",
    "    a.name\n",
    "FROM releases AS r\n",
    "JOIN released_by AS rb ON r.release_id = rb.release_id\n",
    "JOIN artists AS a ON rb.artist_id = a.artist_id\n",
    "LIMIT 5"
   ]
  },
  {
   "cell_type": "markdown",
   "metadata": {},
   "source": [
    "#### 4. List each genre and the number of releases in that genre."
   ]
  },
  {
   "cell_type": "code",
   "execution_count": 12,
   "metadata": {},
   "outputs": [
    {
     "name": "stdout",
     "output_type": "stream",
     "text": [
      " * postgresql://postgres:***@db:5432/postgres\n",
      "15 rows affected.\n"
     ]
    },
    {
     "data": {
      "text/html": [
       "<table>\n",
       "    <thead>\n",
       "        <tr>\n",
       "            <th>genre</th>\n",
       "            <th>num_releases</th>\n",
       "        </tr>\n",
       "    </thead>\n",
       "    <tbody>\n",
       "        <tr>\n",
       "            <td>Blues</td>\n",
       "            <td>48</td>\n",
       "        </tr>\n",
       "        <tr>\n",
       "            <td>Brass &amp; Military</td>\n",
       "            <td>4</td>\n",
       "        </tr>\n",
       "        <tr>\n",
       "            <td>Children&#x27;s</td>\n",
       "            <td>6</td>\n",
       "        </tr>\n",
       "        <tr>\n",
       "            <td>Classical</td>\n",
       "            <td>257</td>\n",
       "        </tr>\n",
       "        <tr>\n",
       "            <td>Electronic</td>\n",
       "            <td>183766</td>\n",
       "        </tr>\n",
       "        <tr>\n",
       "            <td>Folk, World, &amp; Country</td>\n",
       "            <td>101</td>\n",
       "        </tr>\n",
       "        <tr>\n",
       "            <td>Funk / Soul</td>\n",
       "            <td>3674</td>\n",
       "        </tr>\n",
       "        <tr>\n",
       "            <td>Hip Hop</td>\n",
       "            <td>10598</td>\n",
       "        </tr>\n",
       "        <tr>\n",
       "            <td>Jazz</td>\n",
       "            <td>3325</td>\n",
       "        </tr>\n",
       "        <tr>\n",
       "            <td>Latin</td>\n",
       "            <td>153</td>\n",
       "        </tr>\n",
       "        <tr>\n",
       "            <td>Non-Music</td>\n",
       "            <td>353</td>\n",
       "        </tr>\n",
       "        <tr>\n",
       "            <td>Pop</td>\n",
       "            <td>691</td>\n",
       "        </tr>\n",
       "        <tr>\n",
       "            <td>Reggae</td>\n",
       "            <td>1382</td>\n",
       "        </tr>\n",
       "        <tr>\n",
       "            <td>Rock</td>\n",
       "            <td>17541</td>\n",
       "        </tr>\n",
       "        <tr>\n",
       "            <td>Stage &amp; Screen</td>\n",
       "            <td>39</td>\n",
       "        </tr>\n",
       "    </tbody>\n",
       "</table>"
      ],
      "text/plain": [
       "[('Blues', 48),\n",
       " ('Brass & Military', 4),\n",
       " (\"Children's\", 6),\n",
       " ('Classical', 257),\n",
       " ('Electronic', 183766),\n",
       " ('Folk, World, & Country', 101),\n",
       " ('Funk / Soul', 3674),\n",
       " ('Hip Hop', 10598),\n",
       " ('Jazz', 3325),\n",
       " ('Latin', 153),\n",
       " ('Non-Music', 353),\n",
       " ('Pop', 691),\n",
       " ('Reggae', 1382),\n",
       " ('Rock', 17541),\n",
       " ('Stage & Screen', 39)]"
      ]
     },
     "execution_count": 12,
     "metadata": {},
     "output_type": "execute_result"
    }
   ],
   "source": [
    "%%sql\n",
    "SELECT\n",
    "    r.genre,\n",
    "    COUNT(r.*) AS num_releases\n",
    "FROM releases AS r\n",
    "GROUP BY r.genre"
   ]
  },
  {
   "cell_type": "markdown",
   "metadata": {},
   "source": [
    "#### 5. Identify the top 5 artists who have the most releases."
   ]
  },
  {
   "cell_type": "code",
   "execution_count": 13,
   "metadata": {},
   "outputs": [
    {
     "name": "stdout",
     "output_type": "stream",
     "text": [
      " * postgresql://postgres:***@db:5432/postgres\n",
      "5 rows affected.\n"
     ]
    },
    {
     "data": {
      "text/html": [
       "<table>\n",
       "    <thead>\n",
       "        <tr>\n",
       "            <th>artist_id</th>\n",
       "            <th>name</th>\n",
       "            <th>num_releases</th>\n",
       "        </tr>\n",
       "    </thead>\n",
       "    <tbody>\n",
       "        <tr>\n",
       "            <td>194</td>\n",
       "            <td>Various Artists</td>\n",
       "            <td>46123</td>\n",
       "        </tr>\n",
       "        <tr>\n",
       "            <td>8760</td>\n",
       "            <td>Madonna</td>\n",
       "            <td>617</td>\n",
       "        </tr>\n",
       "        <tr>\n",
       "            <td>7552</td>\n",
       "            <td>Pet Shop Boys</td>\n",
       "            <td>600</td>\n",
       "        </tr>\n",
       "        <tr>\n",
       "            <td>4118</td>\n",
       "            <td>Faithless</td>\n",
       "            <td>336</td>\n",
       "        </tr>\n",
       "        <tr>\n",
       "            <td>15885</td>\n",
       "            <td>Michael Jackson</td>\n",
       "            <td>332</td>\n",
       "        </tr>\n",
       "    </tbody>\n",
       "</table>"
      ],
      "text/plain": [
       "[(194, 'Various Artists', 46123),\n",
       " (8760, 'Madonna', 617),\n",
       " (7552, 'Pet Shop Boys', 600),\n",
       " (4118, 'Faithless', 336),\n",
       " (15885, 'Michael Jackson', 332)]"
      ]
     },
     "execution_count": 13,
     "metadata": {},
     "output_type": "execute_result"
    }
   ],
   "source": [
    "%%sql\n",
    "SELECT\n",
    "    a.artist_id,\n",
    "    a.name,\n",
    "    COUNT(r.*) AS num_releases\n",
    "FROM artists AS a\n",
    "JOIN released_by AS rb ON rb.artist_id = a.artist_id\n",
    "JOIN releases AS r ON r.release_id = rb.release_id\n",
    "GROUP BY a.artist_id\n",
    "ORDER BY num_releases DESC\n",
    "LIMIT 5\n"
   ]
  },
  {
   "cell_type": "markdown",
   "metadata": {},
   "source": [
    "#### 6. Find the artist who has the longest total duration of tracks across all their releases."
   ]
  },
  {
   "cell_type": "code",
   "execution_count": 14,
   "metadata": {},
   "outputs": [
    {
     "name": "stdout",
     "output_type": "stream",
     "text": [
      " * postgresql://postgres:***@db:5432/postgres\n",
      "1 rows affected.\n"
     ]
    },
    {
     "data": {
      "text/html": [
       "<table>\n",
       "    <thead>\n",
       "        <tr>\n",
       "            <th>artist_id</th>\n",
       "            <th>name</th>\n",
       "            <th>total_duration</th>\n",
       "        </tr>\n",
       "    </thead>\n",
       "    <tbody>\n",
       "        <tr>\n",
       "            <td>194</td>\n",
       "            <td>Various Artists</td>\n",
       "            <td>227180023</td>\n",
       "        </tr>\n",
       "    </tbody>\n",
       "</table>"
      ],
      "text/plain": [
       "[(194, 'Various Artists', 227180023)]"
      ]
     },
     "execution_count": 14,
     "metadata": {},
     "output_type": "execute_result"
    }
   ],
   "source": [
    "%%sql\n",
    "SELECT\n",
    "    a.artist_id,\n",
    "    a.name,\n",
    "    SUM(t.duration) AS total_duration\n",
    "FROM artists AS a\n",
    "JOIN released_by AS rb ON rb.artist_id = a.artist_id \n",
    "JOIN tracks AS t ON t.release_id = rb.release_id\n",
    "GROUP BY a.artist_id\n",
    "ORDER BY total_duration DESC\n",
    "LIMIT 1"
   ]
  },
  {
   "cell_type": "markdown",
   "metadata": {},
   "source": [
    "#### 7. Find how many releases that have tracks with duplicate titles."
   ]
  },
  {
   "cell_type": "code",
   "execution_count": 15,
   "metadata": {},
   "outputs": [],
   "source": [
    "# %%sql\n",
    "# /*\n",
    "# Why so slow?\n",
    "# SELECT COUNT(DISTINCT r.release_id) AS num_releases_with_dup\n",
    "# FROM releases AS r\n",
    "# WHERE EXISTS(\n",
    "#     SELECT t.title, COUNT(DISTINCT t.release_id) AS title_count\n",
    "#     FROM tracks AS t\n",
    "#     WHERE t.release_id = r.release_id\n",
    "#     GROUP BY t.title\n",
    "#     HAVING COUNT(title) > 1\n",
    "# )\n",
    "# */\n"
   ]
  },
  {
   "cell_type": "code",
   "execution_count": 16,
   "metadata": {},
   "outputs": [
    {
     "name": "stdout",
     "output_type": "stream",
     "text": [
      " * postgresql://postgres:***@db:5432/postgres\n",
      "10 rows affected.\n"
     ]
    },
    {
     "data": {
      "text/html": [
       "<table>\n",
       "    <thead>\n",
       "        <tr>\n",
       "            <th>release_id</th>\n",
       "            <th>title</th>\n",
       "            <th>tile_occurs</th>\n",
       "        </tr>\n",
       "    </thead>\n",
       "    <tbody>\n",
       "        <tr>\n",
       "            <td>110</td>\n",
       "            <td>Untitled</td>\n",
       "            <td>3</td>\n",
       "        </tr>\n",
       "        <tr>\n",
       "            <td>466</td>\n",
       "            <td>Scarlet</td>\n",
       "            <td>2</td>\n",
       "        </tr>\n",
       "        <tr>\n",
       "            <td>695</td>\n",
       "            <td>Communications From The Lab</td>\n",
       "            <td>2</td>\n",
       "        </tr>\n",
       "        <tr>\n",
       "            <td>695</td>\n",
       "            <td>Last Tribute From The 20th Century</td>\n",
       "            <td>2</td>\n",
       "        </tr>\n",
       "        <tr>\n",
       "            <td>710</td>\n",
       "            <td>Meanwhile Back At Home</td>\n",
       "            <td>2</td>\n",
       "        </tr>\n",
       "        <tr>\n",
       "            <td>710</td>\n",
       "            <td>Untitled</td>\n",
       "            <td>2</td>\n",
       "        </tr>\n",
       "        <tr>\n",
       "            <td>734</td>\n",
       "            <td>Der Klang Der Familie (F.U.S.E. Mix)</td>\n",
       "            <td>2</td>\n",
       "        </tr>\n",
       "        <tr>\n",
       "            <td>770</td>\n",
       "            <td>Untitled</td>\n",
       "            <td>4</td>\n",
       "        </tr>\n",
       "        <tr>\n",
       "            <td>1034</td>\n",
       "            <td>Untitled</td>\n",
       "            <td>3</td>\n",
       "        </tr>\n",
       "        <tr>\n",
       "            <td>1140</td>\n",
       "            <td>Always (Original Mix)</td>\n",
       "            <td>2</td>\n",
       "        </tr>\n",
       "    </tbody>\n",
       "</table>"
      ],
      "text/plain": [
       "[(110, 'Untitled', 3),\n",
       " (466, 'Scarlet', 2),\n",
       " (695, 'Communications From The Lab', 2),\n",
       " (695, 'Last Tribute From The 20th Century', 2),\n",
       " (710, 'Meanwhile Back At Home', 2),\n",
       " (710, 'Untitled', 2),\n",
       " (734, 'Der Klang Der Familie (F.U.S.E. Mix)', 2),\n",
       " (770, 'Untitled', 4),\n",
       " (1034, 'Untitled', 3),\n",
       " (1140, 'Always (Original Mix)', 2)]"
      ]
     },
     "execution_count": 16,
     "metadata": {},
     "output_type": "execute_result"
    }
   ],
   "source": [
    "\n",
    "%%sql\n",
    "SELECT r.release_id, t.title, COUNT(t.title) AS tile_occurs\n",
    "FROM releases AS r\n",
    "JOIN tracks AS t ON r.release_id = t.release_id\n",
    "WHERE t.release_id = r.release_id\n",
    "GROUP BY r.release_id, t.title\n",
    "HAVING COUNT(t.title) > 1\n",
    "LIMIT 10\n"
   ]
  },
  {
   "cell_type": "code",
   "execution_count": 17,
   "metadata": {},
   "outputs": [
    {
     "name": "stdout",
     "output_type": "stream",
     "text": [
      " * postgresql://postgres:***@db:5432/postgres\n",
      "1 rows affected.\n"
     ]
    },
    {
     "data": {
      "text/html": [
       "<table>\n",
       "    <thead>\n",
       "        <tr>\n",
       "            <th>num_releases_with_dup</th>\n",
       "        </tr>\n",
       "    </thead>\n",
       "    <tbody>\n",
       "        <tr>\n",
       "            <td>9046</td>\n",
       "        </tr>\n",
       "    </tbody>\n",
       "</table>"
      ],
      "text/plain": [
       "[(9046,)]"
      ]
     },
     "execution_count": 17,
     "metadata": {},
     "output_type": "execute_result"
    }
   ],
   "source": [
    "%%sql\n",
    "WITH releases_with_dup AS (\n",
    "    SELECT r.release_id, t.title, COUNT(t.title) AS tile_occurs\n",
    "    FROM releases AS r\n",
    "    JOIN tracks AS t ON r.release_id = t.release_id\n",
    "    WHERE t.release_id = r.release_id\n",
    "    GROUP BY r.release_id, t.title\n",
    "    HAVING COUNT(t.title) > 1\n",
    ")\n",
    "\n",
    "SELECT COUNT(DISTINCT rwd.release_id) AS num_releases_with_dup\n",
    "FROM releases_with_dup AS rwd"
   ]
  },
  {
   "cell_type": "markdown",
   "metadata": {},
   "source": [
    "#### 8. Retrieve the artists with the name of 'Coldplay'."
   ]
  },
  {
   "cell_type": "code",
   "execution_count": 18,
   "metadata": {},
   "outputs": [
    {
     "name": "stdout",
     "output_type": "stream",
     "text": [
      " * postgresql://postgres:***@db:5432/postgres\n",
      "1 rows affected.\n"
     ]
    },
    {
     "data": {
      "text/html": [
       "<table>\n",
       "    <thead>\n",
       "        <tr>\n",
       "            <th>artist_id</th>\n",
       "            <th>name</th>\n",
       "            <th>realname</th>\n",
       "            <th>profile</th>\n",
       "            <th>url</th>\n",
       "        </tr>\n",
       "    </thead>\n",
       "    <tbody>\n",
       "        <tr>\n",
       "            <td>29735</td>\n",
       "            <td>Coldplay</td>\n",
       "            <td>None</td>\n",
       "            <td>Coldplay is an English rock band from London, England. They&#x27;ve been a band since January 16, 1998 when they lost a demotape competition on XFM in London. Philip Christopher Harvey is the band&#x27;s manager.\r \r [b][u]Line-up:[/u][/b]\r Jonny Buckland (Jonathan Mark Buckland) - Guitar\r Will Champion (William Champion) - Drums\r Guy Berryman (Guy Rupert Berryman) - Bass\r Chris Martin (Christopher Anthony John Martin) - Vocals</td>\n",
       "            <td>http://coldplay.com/</td>\n",
       "        </tr>\n",
       "    </tbody>\n",
       "</table>"
      ],
      "text/plain": [
       "[(29735, 'Coldplay', None, \"Coldplay is an English rock band from London, England. They've been a band since January 16, 1998 when they lost a demotape competition on XFM in Lon ... (128 characters truncated) ... itar\\r Will Champion (William Champion) - Drums\\r Guy Berryman (Guy Rupert Berryman) - Bass\\r Chris Martin (Christopher Anthony John Martin) - Vocals\", 'http://coldplay.com/')]"
      ]
     },
     "execution_count": 18,
     "metadata": {},
     "output_type": "execute_result"
    }
   ],
   "source": [
    "%%sql\n",
    "SELECT a.*\n",
    "FROM artists AS a\n",
    "WHERE a.name = 'Coldplay'"
   ]
  },
  {
   "cell_type": "markdown",
   "metadata": {},
   "source": [
    "#### 9. List the titles of all releases by that artist in alphabetical order.\n",
    "<b>Hint</b>: Ignore the fact that different relases can have the same title."
   ]
  },
  {
   "cell_type": "code",
   "execution_count": 19,
   "metadata": {},
   "outputs": [
    {
     "name": "stdout",
     "output_type": "stream",
     "text": [
      " * postgresql://postgres:***@db:5432/postgres\n",
      "40 rows affected.\n"
     ]
    },
    {
     "data": {
      "text/html": [
       "<table>\n",
       "    <thead>\n",
       "        <tr>\n",
       "            <th>title</th>\n",
       "        </tr>\n",
       "    </thead>\n",
       "    <tbody>\n",
       "        <tr>\n",
       "            <td>Acoustic</td>\n",
       "        </tr>\n",
       "        <tr>\n",
       "            <td>A Rush Of Blood To The Head</td>\n",
       "        </tr>\n",
       "        <tr>\n",
       "            <td>Boot Of Sound</td>\n",
       "        </tr>\n",
       "        <tr>\n",
       "            <td>Brothers &amp; Sisters</td>\n",
       "        </tr>\n",
       "        <tr>\n",
       "            <td>Clocks</td>\n",
       "        </tr>\n",
       "        <tr>\n",
       "            <td>Clocks...</td>\n",
       "        </tr>\n",
       "        <tr>\n",
       "            <td>Clocks / Chime Trance Remixes</td>\n",
       "        </tr>\n",
       "        <tr>\n",
       "            <td>Clocks (Cosmos Rmx)</td>\n",
       "        </tr>\n",
       "        <tr>\n",
       "            <td>Clocks (Dean Coleman Remix)</td>\n",
       "        </tr>\n",
       "        <tr>\n",
       "            <td>Clocks (Planet Rockers Remixes)</td>\n",
       "        </tr>\n",
       "        <tr>\n",
       "            <td>Clocks (Remix)</td>\n",
       "        </tr>\n",
       "        <tr>\n",
       "            <td>Fix You</td>\n",
       "        </tr>\n",
       "        <tr>\n",
       "            <td>Flesh / Don&#x27;t Need No Trouble</td>\n",
       "        </tr>\n",
       "        <tr>\n",
       "            <td>God</td>\n",
       "        </tr>\n",
       "        <tr>\n",
       "            <td>God Put A Smile Upon Your Face (Remixes)</td>\n",
       "        </tr>\n",
       "        <tr>\n",
       "            <td>In My Place</td>\n",
       "        </tr>\n",
       "        <tr>\n",
       "            <td>Murder Was The Bass / Clocks</td>\n",
       "        </tr>\n",
       "        <tr>\n",
       "            <td>One I Love</td>\n",
       "        </tr>\n",
       "        <tr>\n",
       "            <td>Parachutes</td>\n",
       "        </tr>\n",
       "        <tr>\n",
       "            <td>Remixes</td>\n",
       "        </tr>\n",
       "        <tr>\n",
       "            <td>Safety E.P.</td>\n",
       "        </tr>\n",
       "        <tr>\n",
       "            <td>Speed Of Sound</td>\n",
       "        </tr>\n",
       "        <tr>\n",
       "            <td>Speed Of Sound (2005 House Remixes)</td>\n",
       "        </tr>\n",
       "        <tr>\n",
       "            <td>Speed Of Sound (Karl G Remix)</td>\n",
       "        </tr>\n",
       "        <tr>\n",
       "            <td>Talk</td>\n",
       "        </tr>\n",
       "        <tr>\n",
       "            <td>Talk (Remixes)</td>\n",
       "        </tr>\n",
       "        <tr>\n",
       "            <td>Talk (Spencer Collective Mixes)</td>\n",
       "        </tr>\n",
       "        <tr>\n",
       "            <td>Talk - The Remixes</td>\n",
       "        </tr>\n",
       "        <tr>\n",
       "            <td>Talk (Thin White Duke Remix)</td>\n",
       "        </tr>\n",
       "        <tr>\n",
       "            <td>The Blue Room E.P.</td>\n",
       "        </tr>\n",
       "        <tr>\n",
       "            <td>The Metric System EP</td>\n",
       "        </tr>\n",
       "        <tr>\n",
       "            <td>The Scientist</td>\n",
       "        </tr>\n",
       "        <tr>\n",
       "            <td>Time</td>\n",
       "        </tr>\n",
       "        <tr>\n",
       "            <td>Trouble</td>\n",
       "        </tr>\n",
       "        <tr>\n",
       "            <td>Trouble / Clocks</td>\n",
       "        </tr>\n",
       "        <tr>\n",
       "            <td>Trouble In Paradise</td>\n",
       "        </tr>\n",
       "        <tr>\n",
       "            <td>Trouble - Norwegian Live EP</td>\n",
       "        </tr>\n",
       "        <tr>\n",
       "            <td>X&amp;Y</td>\n",
       "        </tr>\n",
       "        <tr>\n",
       "            <td>X&amp;Y (Special Dutch Edition)</td>\n",
       "        </tr>\n",
       "        <tr>\n",
       "            <td>Yellow</td>\n",
       "        </tr>\n",
       "    </tbody>\n",
       "</table>"
      ],
      "text/plain": [
       "[('Acoustic',),\n",
       " ('A Rush Of Blood To The Head',),\n",
       " ('Boot Of Sound',),\n",
       " ('Brothers & Sisters',),\n",
       " ('Clocks',),\n",
       " ('Clocks...',),\n",
       " ('Clocks / Chime Trance Remixes',),\n",
       " ('Clocks (Cosmos Rmx)',),\n",
       " ('Clocks (Dean Coleman Remix)',),\n",
       " ('Clocks (Planet Rockers Remixes)',),\n",
       " ('Clocks (Remix)',),\n",
       " ('Fix You',),\n",
       " (\"Flesh / Don't Need No Trouble\",),\n",
       " ('God',),\n",
       " ('God Put A Smile Upon Your Face (Remixes)',),\n",
       " ('In My Place',),\n",
       " ('Murder Was The Bass / Clocks',),\n",
       " ('One I Love',),\n",
       " ('Parachutes',),\n",
       " ('Remixes',),\n",
       " ('Safety E.P.',),\n",
       " ('Speed Of Sound',),\n",
       " ('Speed Of Sound (2005 House Remixes)',),\n",
       " ('Speed Of Sound (Karl G Remix)',),\n",
       " ('Talk',),\n",
       " ('Talk (Remixes)',),\n",
       " ('Talk (Spencer Collective Mixes)',),\n",
       " ('Talk - The Remixes',),\n",
       " ('Talk (Thin White Duke Remix)',),\n",
       " ('The Blue Room E.P.',),\n",
       " ('The Metric System EP',),\n",
       " ('The Scientist',),\n",
       " ('Time',),\n",
       " ('Trouble',),\n",
       " ('Trouble / Clocks',),\n",
       " ('Trouble In Paradise',),\n",
       " ('Trouble - Norwegian Live EP',),\n",
       " ('X&Y',),\n",
       " ('X&Y (Special Dutch Edition)',),\n",
       " ('Yellow',)]"
      ]
     },
     "execution_count": 19,
     "metadata": {},
     "output_type": "execute_result"
    }
   ],
   "source": [
    "%%sql\n",
    "SELECT DISTINCT r.title\n",
    "FROM releases AS r\n",
    "JOIN released_by AS rb ON rb.release_id = r.release_id\n",
    "JOIN artists AS a ON a.artist_id = rb.artist_id\n",
    "WHERE a.name = 'Coldplay'"
   ]
  },
  {
   "cell_type": "markdown",
   "metadata": {},
   "source": [
    "#### 10. How many tracks from 'Coldplay' have position '1'?"
   ]
  },
  {
   "cell_type": "code",
   "execution_count": 20,
   "metadata": {},
   "outputs": [
    {
     "name": "stdout",
     "output_type": "stream",
     "text": [
      " * postgresql://postgres:***@db:5432/postgres\n",
      "1 rows affected.\n"
     ]
    },
    {
     "data": {
      "text/html": [
       "<table>\n",
       "    <thead>\n",
       "        <tr>\n",
       "            <th>amount</th>\n",
       "        </tr>\n",
       "    </thead>\n",
       "    <tbody>\n",
       "        <tr>\n",
       "            <td>32</td>\n",
       "        </tr>\n",
       "    </tbody>\n",
       "</table>"
      ],
      "text/plain": [
       "[(32,)]"
      ]
     },
     "execution_count": 20,
     "metadata": {},
     "output_type": "execute_result"
    }
   ],
   "source": [
    "%%sql\n",
    "SELECT COUNT(t.*) AS amount\n",
    "FROM tracks AS t\n",
    "JOIN released_by AS rb ON rb.release_id = t.release_id\n",
    "JOIN artists AS a ON a.artist_id = rb.artist_id\n",
    "WHERE a.name = 'Coldplay'\n",
    "AND t.position = '1'"
   ]
  },
  {
   "cell_type": "markdown",
   "metadata": {},
   "source": [
    "#### 11. List the titles of all releases by Coldplay that contain less than 2 tracks."
   ]
  },
  {
   "cell_type": "code",
   "execution_count": 21,
   "metadata": {},
   "outputs": [
    {
     "name": "stdout",
     "output_type": "stream",
     "text": [
      " * postgresql://postgres:***@db:5432/postgres\n",
      "14 rows affected.\n"
     ]
    },
    {
     "data": {
      "text/html": [
       "<table>\n",
       "    <thead>\n",
       "        <tr>\n",
       "            <th>title</th>\n",
       "        </tr>\n",
       "    </thead>\n",
       "    <tbody>\n",
       "        <tr>\n",
       "            <td>Boot Of Sound</td>\n",
       "        </tr>\n",
       "        <tr>\n",
       "            <td>Clocks</td>\n",
       "        </tr>\n",
       "        <tr>\n",
       "            <td>Clocks (Cosmos Rmx)</td>\n",
       "        </tr>\n",
       "        <tr>\n",
       "            <td>Clocks (Dean Coleman Remix)</td>\n",
       "        </tr>\n",
       "        <tr>\n",
       "            <td>Clocks (Remix)</td>\n",
       "        </tr>\n",
       "        <tr>\n",
       "            <td>God</td>\n",
       "        </tr>\n",
       "        <tr>\n",
       "            <td>In My Place</td>\n",
       "        </tr>\n",
       "        <tr>\n",
       "            <td>One I Love</td>\n",
       "        </tr>\n",
       "        <tr>\n",
       "            <td>Speed Of Sound (Karl G Remix)</td>\n",
       "        </tr>\n",
       "        <tr>\n",
       "            <td>Talk</td>\n",
       "        </tr>\n",
       "        <tr>\n",
       "            <td>Talk (Thin White Duke Remix)</td>\n",
       "        </tr>\n",
       "        <tr>\n",
       "            <td>Time</td>\n",
       "        </tr>\n",
       "        <tr>\n",
       "            <td>Trouble</td>\n",
       "        </tr>\n",
       "        <tr>\n",
       "            <td>Trouble In Paradise</td>\n",
       "        </tr>\n",
       "    </tbody>\n",
       "</table>"
      ],
      "text/plain": [
       "[('Boot Of Sound',),\n",
       " ('Clocks',),\n",
       " ('Clocks (Cosmos Rmx)',),\n",
       " ('Clocks (Dean Coleman Remix)',),\n",
       " ('Clocks (Remix)',),\n",
       " ('God',),\n",
       " ('In My Place',),\n",
       " ('One I Love',),\n",
       " ('Speed Of Sound (Karl G Remix)',),\n",
       " ('Talk',),\n",
       " ('Talk (Thin White Duke Remix)',),\n",
       " ('Time',),\n",
       " ('Trouble',),\n",
       " ('Trouble In Paradise',)]"
      ]
     },
     "execution_count": 21,
     "metadata": {},
     "output_type": "execute_result"
    }
   ],
   "source": [
    "%%sql\n",
    "SELECT DISTINCT r.title\n",
    "FROM releases AS r\n",
    "JOIN released_by AS rb ON rb.release_id = r.release_id\n",
    "JOIN artists AS a ON a.artist_id = rb.artist_id\n",
    "JOIN tracks AS t ON t.release_id = r.release_id\n",
    "WHERE a.name = 'Coldplay'\n",
    "GROUP BY r.release_id, r.title\n",
    "HAVING COUNT(t.*) < 2"
   ]
  },
  {
   "cell_type": "markdown",
   "metadata": {},
   "source": [
    "#### 12. What is the average track duration?"
   ]
  },
  {
   "cell_type": "code",
   "execution_count": 22,
   "metadata": {},
   "outputs": [
    {
     "name": "stdout",
     "output_type": "stream",
     "text": [
      " * postgresql://postgres:***@db:5432/postgres\n",
      "1 rows affected.\n"
     ]
    },
    {
     "data": {
      "text/html": [
       "<table>\n",
       "    <thead>\n",
       "        <tr>\n",
       "            <th>avg_duration</th>\n",
       "        </tr>\n",
       "    </thead>\n",
       "    <tbody>\n",
       "        <tr>\n",
       "            <td>325.0749298696787647</td>\n",
       "        </tr>\n",
       "    </tbody>\n",
       "</table>"
      ],
      "text/plain": [
       "[(Decimal('325.0749298696787647'),)]"
      ]
     },
     "execution_count": 22,
     "metadata": {},
     "output_type": "execute_result"
    }
   ],
   "source": [
    "%%sql\n",
    "SELECT AVG(t.duration) AS avg_duration\n",
    "FROM tracks AS t"
   ]
  },
  {
   "cell_type": "markdown",
   "metadata": {},
   "source": [
    "#### 13. How many artists have released tracks longer than twice the average?"
   ]
  },
  {
   "cell_type": "code",
   "execution_count": 23,
   "metadata": {},
   "outputs": [
    {
     "name": "stdout",
     "output_type": "stream",
     "text": [
      " * postgresql://postgres:***@db:5432/postgres\n",
      "1 rows affected.\n"
     ]
    },
    {
     "data": {
      "text/html": [
       "<table>\n",
       "    <thead>\n",
       "        <tr>\n",
       "            <th>count</th>\n",
       "        </tr>\n",
       "    </thead>\n",
       "    <tbody>\n",
       "        <tr>\n",
       "            <td>6386</td>\n",
       "        </tr>\n",
       "    </tbody>\n",
       "</table>"
      ],
      "text/plain": [
       "[(6386,)]"
      ]
     },
     "execution_count": 23,
     "metadata": {},
     "output_type": "execute_result"
    }
   ],
   "source": [
    "%%sql\n",
    "SELECT COUNT(a.*)\n",
    "FROM artists AS a\n",
    "WHERE EXISTS\n",
    "(\n",
    "    SELECT *\n",
    "    FROM tracks t\n",
    "    JOIN released_by AS rb ON t.release_id = rb.release_id\n",
    "    WHERE rb.artist_id = a.artist_id\n",
    "    AND t.duration > 2 * (SELECT AVG(t.duration) AS avg_duration FROM tracks AS t)\n",
    ")"
   ]
  },
  {
   "cell_type": "markdown",
   "metadata": {},
   "source": [
    "## Exercise 3: more SQL\n",
    "We will now see more complex SQL queries.\n",
    "\n",
    "<b>Practical tips:</b>\n",
    "\n",
    "When writing complex queries, you might want to split them into smaller parts by using <b>Common Table Expressions</b> (CTEs). A CTE is a named temporary result set that you can reference within statements (SELECT, INSERT, UPDATE, ... ). You can find more about CTEs at: https://www.postgresql.org/docs/current/queries-with.html\n",
    "\n",
    "The following is an example of a query using two CTEs:"
   ]
  },
  {
   "cell_type": "code",
   "execution_count": 24,
   "metadata": {},
   "outputs": [
    {
     "name": "stdout",
     "output_type": "stream",
     "text": [
      " * postgresql://postgres:***@db:5432/postgres\n",
      "5 rows affected.\n"
     ]
    },
    {
     "data": {
      "text/html": [
       "<table>\n",
       "    <thead>\n",
       "        <tr>\n",
       "            <th>column1</th>\n",
       "            <th>column2</th>\n",
       "        </tr>\n",
       "    </thead>\n",
       "    <tbody>\n",
       "        <tr>\n",
       "            <td>Argentina</td>\n",
       "            <td>Blues</td>\n",
       "        </tr>\n",
       "        <tr>\n",
       "            <td>Argentina</td>\n",
       "            <td>Brass &amp; Military</td>\n",
       "        </tr>\n",
       "        <tr>\n",
       "            <td>Argentina</td>\n",
       "            <td>Children&#x27;s</td>\n",
       "        </tr>\n",
       "        <tr>\n",
       "            <td>Argentina</td>\n",
       "            <td>Classical</td>\n",
       "        </tr>\n",
       "        <tr>\n",
       "            <td>Argentina</td>\n",
       "            <td>Electronic</td>\n",
       "        </tr>\n",
       "    </tbody>\n",
       "</table>"
      ],
      "text/plain": [
       "[('Argentina', 'Blues'),\n",
       " ('Argentina', 'Brass & Military'),\n",
       " ('Argentina', \"Children's\"),\n",
       " ('Argentina', 'Classical'),\n",
       " ('Argentina', 'Electronic')]"
      ]
     },
     "execution_count": 24,
     "metadata": {},
     "output_type": "execute_result"
    }
   ],
   "source": [
    "%%sql\n",
    "WITH countries AS (\n",
    "    SELECT DISTINCT country FROM releases\n",
    "),\n",
    "genres AS (\n",
    "    SELECT DISTINCT genre FROM releases\n",
    ")\n",
    "SELECT c.country as column1, g.genre as column2\n",
    "FROM countries c, genres g\n",
    "LIMIT 5;"
   ]
  },
  {
   "cell_type": "markdown",
   "metadata": {},
   "source": [
    "In some exercises, you might also want to use <b>subqueries</b>. A subquery is a nested query, usually with the purpose of retrieving data that will be used in in the outer query. For instance, subqueries can appear in WHERE, FROM and SELECT clauses.\n",
    "\n",
    "The following is an example of a query than includes a subquery:"
   ]
  },
  {
   "cell_type": "code",
   "execution_count": 25,
   "metadata": {},
   "outputs": [
    {
     "name": "stdout",
     "output_type": "stream",
     "text": [
      " * postgresql://postgres:***@db:5432/postgres\n",
      "5 rows affected.\n"
     ]
    },
    {
     "data": {
      "text/html": [
       "<table>\n",
       "    <thead>\n",
       "        <tr>\n",
       "            <th>column1</th>\n",
       "        </tr>\n",
       "    </thead>\n",
       "    <tbody>\n",
       "        <tr>\n",
       "            <td>110</td>\n",
       "        </tr>\n",
       "        <tr>\n",
       "            <td>466</td>\n",
       "        </tr>\n",
       "        <tr>\n",
       "            <td>695</td>\n",
       "        </tr>\n",
       "        <tr>\n",
       "            <td>695</td>\n",
       "        </tr>\n",
       "        <tr>\n",
       "            <td>710</td>\n",
       "        </tr>\n",
       "    </tbody>\n",
       "</table>"
      ],
      "text/plain": [
       "[(110,), (466,), (695,), (695,), (710,)]"
      ]
     },
     "execution_count": 25,
     "metadata": {},
     "output_type": "execute_result"
    }
   ],
   "source": [
    "%%sql\n",
    "SELECT release_id as column1 FROM (\n",
    "    SELECT release_id, title, COUNT(*) FROM tracks\n",
    "    GROUP BY release_id, title\n",
    "    HAVING COUNT(*) > 1\n",
    ") sub\n",
    "LIMIT 5;"
   ]
  },
  {
   "cell_type": "markdown",
   "metadata": {},
   "source": [
    "#### 1. What is the title of the album from 'Coldplay' with the most amount of tracks?"
   ]
  },
  {
   "cell_type": "code",
   "execution_count": 96,
   "metadata": {},
   "outputs": [
    {
     "name": "stdout",
     "output_type": "stream",
     "text": [
      " * postgresql://postgres:***@db:5432/postgres\n",
      "0 rows affected.\n"
     ]
    },
    {
     "data": {
      "text/html": [
       "<table>\n",
       "    <thead>\n",
       "        <tr>\n",
       "            <th>release_id</th>\n",
       "            <th>title</th>\n",
       "            <th>num_tracks</th>\n",
       "        </tr>\n",
       "    </thead>\n",
       "    <tbody>\n",
       "    </tbody>\n",
       "</table>"
      ],
      "text/plain": [
       "[]"
      ]
     },
     "execution_count": 96,
     "metadata": {},
     "output_type": "execute_result"
    }
   ],
   "source": [
    "%%sql\n",
    "SELECT r.release_id, r.title, COUNT(t.track_id) AS num_tracks\n",
    "FROM releases AS r\n",
    "JOIN tracks AS t ON r.release_id = t.release_id\n",
    "JOIN released_by AS rb ON r.release_id = rb.release_id\n",
    "JOIN artists AS a ON a.artist_id = rb.artist_id\n",
    "WHERE a.name = 'ColdPlay'\n",
    "GROUP BY r.release_id, r.title\n",
    "ORDER BY num_tracks DESC\n",
    "LIMIT 10"
   ]
  },
  {
   "cell_type": "code",
   "execution_count": 99,
   "metadata": {},
   "outputs": [
    {
     "name": "stdout",
     "output_type": "stream",
     "text": [
      " * postgresql://postgres:***@db:5432/postgres\n",
      "1 rows affected.\n"
     ]
    },
    {
     "data": {
      "text/html": [
       "<table>\n",
       "    <thead>\n",
       "        <tr>\n",
       "            <th>release_id</th>\n",
       "            <th>title</th>\n",
       "            <th>num_tracks</th>\n",
       "        </tr>\n",
       "    </thead>\n",
       "    <tbody>\n",
       "        <tr>\n",
       "            <td>617736</td>\n",
       "            <td>X&amp;Y (Special Dutch Edition)</td>\n",
       "            <td>19</td>\n",
       "        </tr>\n",
       "    </tbody>\n",
       "</table>"
      ],
      "text/plain": [
       "[(617736, 'X&Y (Special Dutch Edition)', 19)]"
      ]
     },
     "execution_count": 99,
     "metadata": {},
     "output_type": "execute_result"
    }
   ],
   "source": [
    "%%sql\n",
    "SELECT r.release_id, r.title, COUNT(t.track_id) AS num_tracks\n",
    "FROM tracks AS t\n",
    "JOIN releases AS r USING(release_id)\n",
    "JOIN released_by AS rb USING(release_id)\n",
    "JOIN artists AS a USING(artist_id)\n",
    "WHERE a.name = 'Coldplay'\n",
    "GROUP BY r.release_id\n",
    "ORDER BY num_tracks DESC\n",
    "LIMIT 1"
   ]
  },
  {
   "cell_type": "markdown",
   "metadata": {},
   "source": [
    "#### 2. What is the name of the first artist in alphabetical order with releases in the most genres. Please make sure to exclude \"Various Artists\"."
   ]
  },
  {
   "cell_type": "code",
   "execution_count": 102,
   "metadata": {},
   "outputs": [
    {
     "name": "stdout",
     "output_type": "stream",
     "text": [
      " * postgresql://postgres:***@db:5432/postgres\n",
      "5 rows affected.\n"
     ]
    },
    {
     "data": {
      "text/html": [
       "<table>\n",
       "    <thead>\n",
       "        <tr>\n",
       "            <th>artist_id</th>\n",
       "            <th>name</th>\n",
       "            <th>num_genres</th>\n",
       "        </tr>\n",
       "    </thead>\n",
       "    <tbody>\n",
       "        <tr>\n",
       "            <td>47742</td>\n",
       "            <td>Diana Ross</td>\n",
       "            <td>7</td>\n",
       "        </tr>\n",
       "        <tr>\n",
       "            <td>15885</td>\n",
       "            <td>Michael Jackson</td>\n",
       "            <td>7</td>\n",
       "        </tr>\n",
       "        <tr>\n",
       "            <td>18956</td>\n",
       "            <td>Stevie Wonder</td>\n",
       "            <td>7</td>\n",
       "        </tr>\n",
       "        <tr>\n",
       "            <td>262940</td>\n",
       "            <td>The London Symphony Orchestra</td>\n",
       "            <td>7</td>\n",
       "        </tr>\n",
       "        <tr>\n",
       "            <td>15900</td>\n",
       "            <td>Ennio Morricone</td>\n",
       "            <td>6</td>\n",
       "        </tr>\n",
       "    </tbody>\n",
       "</table>"
      ],
      "text/plain": [
       "[(47742, 'Diana Ross', 7),\n",
       " (15885, 'Michael Jackson', 7),\n",
       " (18956, 'Stevie Wonder', 7),\n",
       " (262940, 'The London Symphony Orchestra', 7),\n",
       " (15900, 'Ennio Morricone', 6)]"
      ]
     },
     "execution_count": 102,
     "metadata": {},
     "output_type": "execute_result"
    }
   ],
   "source": [
    "%%sql\n",
    "SELECT a.artist_id, a.name, COUNT(DISTINCT r.genre) AS num_genres\n",
    "FROM artists AS a\n",
    "JOIN released_by AS rb USING(artist_id)\n",
    "JOIN releases AS r USING(release_id)\n",
    "WHERE a.name <> 'Various Artists'\n",
    "GROUP BY a.artist_id, a.name\n",
    "ORDER BY num_genres DESC, a.name ASC\n",
    "LIMIT 5"
   ]
  },
  {
   "cell_type": "markdown",
   "metadata": {},
   "source": [
    "#### 3. In what year did they (the artist from the previous question) release their first album?"
   ]
  },
  {
   "cell_type": "code",
   "execution_count": 107,
   "metadata": {},
   "outputs": [
    {
     "name": "stdout",
     "output_type": "stream",
     "text": [
      " * postgresql://postgres:***@db:5432/postgres\n",
      "1 rows affected.\n"
     ]
    },
    {
     "data": {
      "text/html": [
       "<table>\n",
       "    <thead>\n",
       "        <tr>\n",
       "            <th>release_id</th>\n",
       "            <th>title</th>\n",
       "            <th>released</th>\n",
       "        </tr>\n",
       "    </thead>\n",
       "    <tbody>\n",
       "        <tr>\n",
       "            <td>391739</td>\n",
       "            <td>Greatest Hits</td>\n",
       "            <td>1967-01-01</td>\n",
       "        </tr>\n",
       "    </tbody>\n",
       "</table>"
      ],
      "text/plain": [
       "[(391739, 'Greatest Hits', datetime.date(1967, 1, 1))]"
      ]
     },
     "execution_count": 107,
     "metadata": {},
     "output_type": "execute_result"
    }
   ],
   "source": [
    "%%sql\n",
    "WITH\n",
    "arists_by_num_genres AS (\n",
    "    SELECT a.artist_id, a.name, COUNT(DISTINCT r.genre) AS num_genres\n",
    "    FROM artists AS a\n",
    "    JOIN released_by AS rb USING(artist_id)\n",
    "    JOIN releases AS r USING(release_id)\n",
    "    WHERE a.name <> 'Various Artists'\n",
    "    GROUP BY a.artist_id, a.name\n",
    "    ORDER BY num_genres DESC, a.name ASC\n",
    "),\n",
    "artist_with_most_genres AS (\n",
    "    SELECT abng.artist_id, abng.name\n",
    "    FROM arists_by_num_genres AS abng\n",
    "    LIMIT 1\n",
    ")\n",
    "\n",
    "SELECT\n",
    "    r.release_id, r.title, r.released\n",
    "FROM releases AS r\n",
    "JOIN released_by AS rb USING (release_id)\n",
    "WHERE rb.artist_id IN (SELECT awmg.artist_id FROM artist_with_most_genres AS awmg)\n",
    "GROUP BY r.release_id\n",
    "ORDER BY r.released ASC\n",
    "LIMIT 1"
   ]
  },
  {
   "cell_type": "markdown",
   "metadata": {},
   "source": [
    "#### 4. How many artists have released an album with total track duration above twice the average total track duration?\n",
    "\n",
    "<b>Hint</b>: this is not the same as exercise 2.13 since we are lookong at the <b>total</b> track duration of the album."
   ]
  },
  {
   "cell_type": "code",
   "execution_count": 48,
   "metadata": {},
   "outputs": [
    {
     "name": "stdout",
     "output_type": "stream",
     "text": [
      " * postgresql://postgres:***@db:5432/postgres\n",
      "5 rows affected.\n"
     ]
    },
    {
     "data": {
      "text/html": [
       "<table>\n",
       "    <thead>\n",
       "        <tr>\n",
       "            <th>release_id</th>\n",
       "            <th>title</th>\n",
       "            <th>total_track_duration</th>\n",
       "        </tr>\n",
       "    </thead>\n",
       "    <tbody>\n",
       "        <tr>\n",
       "            <td>1</td>\n",
       "            <td>Stockholm</td>\n",
       "            <td>1771</td>\n",
       "        </tr>\n",
       "        <tr>\n",
       "            <td>2</td>\n",
       "            <td>Knockin&#x27; Boots Vol 2 Of 2</td>\n",
       "            <td>1117</td>\n",
       "        </tr>\n",
       "        <tr>\n",
       "            <td>3</td>\n",
       "            <td>Profound Sounds Vol. 1</td>\n",
       "            <td>4053</td>\n",
       "        </tr>\n",
       "        <tr>\n",
       "            <td>5</td>\n",
       "            <td>Flowerhead</td>\n",
       "            <td>3879</td>\n",
       "        </tr>\n",
       "        <tr>\n",
       "            <td>6</td>\n",
       "            <td>Knockin&#x27; Boots (Vol 1 Of 2)</td>\n",
       "            <td>934</td>\n",
       "        </tr>\n",
       "    </tbody>\n",
       "</table>"
      ],
      "text/plain": [
       "[(1, 'Stockholm', 1771),\n",
       " (2, \"Knockin' Boots Vol 2 Of 2\", 1117),\n",
       " (3, 'Profound Sounds Vol. 1', 4053),\n",
       " (5, 'Flowerhead', 3879),\n",
       " (6, \"Knockin' Boots (Vol 1 Of 2)\", 934)]"
      ]
     },
     "execution_count": 48,
     "metadata": {},
     "output_type": "execute_result"
    }
   ],
   "source": [
    "%%sql\n",
    "SELECT r.release_id, r.title, SUM(t.duration) AS total_track_duration\n",
    "FROM releases AS r\n",
    "JOIN tracks AS t USING(release_id)\n",
    "GROUP BY r.release_id\n",
    "LIMIT 5"
   ]
  },
  {
   "cell_type": "code",
   "execution_count": 49,
   "metadata": {},
   "outputs": [
    {
     "name": "stdout",
     "output_type": "stream",
     "text": [
      " * postgresql://postgres:***@db:5432/postgres\n",
      "5 rows affected.\n"
     ]
    },
    {
     "data": {
      "text/html": [
       "<table>\n",
       "    <thead>\n",
       "        <tr>\n",
       "            <th>total_track_duration</th>\n",
       "        </tr>\n",
       "    </thead>\n",
       "    <tbody>\n",
       "        <tr>\n",
       "            <td>1771</td>\n",
       "        </tr>\n",
       "        <tr>\n",
       "            <td>1117</td>\n",
       "        </tr>\n",
       "        <tr>\n",
       "            <td>4053</td>\n",
       "        </tr>\n",
       "        <tr>\n",
       "            <td>3879</td>\n",
       "        </tr>\n",
       "        <tr>\n",
       "            <td>934</td>\n",
       "        </tr>\n",
       "    </tbody>\n",
       "</table>"
      ],
      "text/plain": [
       "[(1771,), (1117,), (4053,), (3879,), (934,)]"
      ]
     },
     "execution_count": 49,
     "metadata": {},
     "output_type": "execute_result"
    }
   ],
   "source": [
    "%%sql\n",
    "WITH\n",
    "releases_by_duration AS (\n",
    "    SELECT r.release_id, r.title, SUM(t.duration) AS total_track_duration\n",
    "    FROM releases AS r\n",
    "    JOIN tracks AS t USING(release_id)\n",
    "    GROUP BY r.release_id\n",
    ")\n",
    "\n",
    "SELECT rbd.total_track_duration\n",
    "FROM releases_by_duration AS rbd\n",
    "LIMIT 5"
   ]
  },
  {
   "cell_type": "code",
   "execution_count": 51,
   "metadata": {},
   "outputs": [
    {
     "name": "stdout",
     "output_type": "stream",
     "text": [
      " * postgresql://postgres:***@db:5432/postgres\n",
      "1 rows affected.\n"
     ]
    },
    {
     "data": {
      "text/html": [
       "<table>\n",
       "    <thead>\n",
       "        <tr>\n",
       "            <th>avg</th>\n",
       "        </tr>\n",
       "    </thead>\n",
       "    <tbody>\n",
       "        <tr>\n",
       "            <td>2496.3457361965954456</td>\n",
       "        </tr>\n",
       "    </tbody>\n",
       "</table>"
      ],
      "text/plain": [
       "[(Decimal('2496.3457361965954456'),)]"
      ]
     },
     "execution_count": 51,
     "metadata": {},
     "output_type": "execute_result"
    }
   ],
   "source": [
    "%%sql\n",
    "WITH\n",
    "releases_by_duration AS (\n",
    "    SELECT r.release_id, r.title, SUM(t.duration) AS total_track_duration\n",
    "    FROM releases AS r\n",
    "    JOIN tracks AS t USING(release_id)\n",
    "    GROUP BY r.release_id\n",
    "),\n",
    "\n",
    "total_track_durations AS (\n",
    "    SELECT rbd.total_track_duration\n",
    "    FROM releases_by_duration AS rbd\n",
    ")\n",
    "\n",
    "SELECT AVG(ttd.total_track_duration)\n",
    "FROM total_track_durations AS ttd"
   ]
  },
  {
   "cell_type": "code",
   "execution_count": 56,
   "metadata": {},
   "outputs": [
    {
     "name": "stdout",
     "output_type": "stream",
     "text": [
      " * postgresql://postgres:***@db:5432/postgres\n",
      "5 rows affected.\n"
     ]
    },
    {
     "data": {
      "text/html": [
       "<table>\n",
       "    <thead>\n",
       "        <tr>\n",
       "            <th>release_id</th>\n",
       "            <th>title</th>\n",
       "            <th>total_track_duration</th>\n",
       "        </tr>\n",
       "    </thead>\n",
       "    <tbody>\n",
       "        <tr>\n",
       "            <td>320</td>\n",
       "            <td>Avantgardism Vol. 2 (One Giant Bleep For Mankind)</td>\n",
       "            <td>9272</td>\n",
       "        </tr>\n",
       "        <tr>\n",
       "            <td>333</td>\n",
       "            <td>Lowercase</td>\n",
       "            <td>8364</td>\n",
       "        </tr>\n",
       "        <tr>\n",
       "            <td>334</td>\n",
       "            <td>Further East-Westercisms</td>\n",
       "            <td>8934</td>\n",
       "        </tr>\n",
       "        <tr>\n",
       "            <td>335</td>\n",
       "            <td>Minimalism: More Or Less</td>\n",
       "            <td>9162</td>\n",
       "        </tr>\n",
       "        <tr>\n",
       "            <td>336</td>\n",
       "            <td>East - Westercisms Vol. 3</td>\n",
       "            <td>8732</td>\n",
       "        </tr>\n",
       "    </tbody>\n",
       "</table>"
      ],
      "text/plain": [
       "[(320, 'Avantgardism Vol. 2 (One Giant Bleep For Mankind)', 9272),\n",
       " (333, 'Lowercase', 8364),\n",
       " (334, 'Further East-Westercisms', 8934),\n",
       " (335, 'Minimalism: More Or Less', 9162),\n",
       " (336, 'East - Westercisms Vol. 3', 8732)]"
      ]
     },
     "execution_count": 56,
     "metadata": {},
     "output_type": "execute_result"
    }
   ],
   "source": [
    "%%sql\n",
    "WITH\n",
    "releases_by_duration AS (\n",
    "    SELECT r.release_id, r.title, SUM(t.duration) AS total_track_duration\n",
    "    FROM releases AS r\n",
    "    JOIN tracks AS t USING(release_id)\n",
    "    GROUP BY r.release_id\n",
    "),\n",
    "\n",
    "total_track_durations AS (\n",
    "    SELECT rbd.total_track_duration\n",
    "    FROM releases_by_duration AS rbd\n",
    ")\n",
    "\n",
    "SELECT rbd.*\n",
    "FROM releases_by_duration rbd\n",
    "WHERE rbd.total_track_duration > 2 * (SELECT AVG(ttd.total_track_duration) FROM total_track_durations AS ttd)\n",
    "LIMIT 5"
   ]
  },
  {
   "cell_type": "code",
   "execution_count": 59,
   "metadata": {},
   "outputs": [
    {
     "name": "stdout",
     "output_type": "stream",
     "text": [
      " * postgresql://postgres:***@db:5432/postgres\n",
      "1 rows affected.\n"
     ]
    },
    {
     "data": {
      "text/html": [
       "<table>\n",
       "    <thead>\n",
       "        <tr>\n",
       "            <th>count</th>\n",
       "        </tr>\n",
       "    </thead>\n",
       "    <tbody>\n",
       "        <tr>\n",
       "            <td>3388</td>\n",
       "        </tr>\n",
       "    </tbody>\n",
       "</table>"
      ],
      "text/plain": [
       "[(3388,)]"
      ]
     },
     "execution_count": 59,
     "metadata": {},
     "output_type": "execute_result"
    }
   ],
   "source": [
    "%%sql\n",
    "WITH\n",
    "releases_by_duration AS (\n",
    "    SELECT r.release_id, r.title, SUM(t.duration) AS total_track_duration\n",
    "    FROM releases AS r\n",
    "    JOIN tracks AS t USING(release_id)\n",
    "    GROUP BY r.release_id\n",
    "),\n",
    "\n",
    "total_track_durations AS (\n",
    "    SELECT rbd.total_track_duration\n",
    "    FROM releases_by_duration AS rbd\n",
    "),\n",
    "\n",
    "above_avg_releases_by_duration AS (\n",
    "    SELECT rbd.*\n",
    "    FROM releases_by_duration rbd\n",
    "    WHERE rbd.total_track_duration > 2 * (SELECT AVG(ttd.total_track_duration) FROM total_track_durations AS ttd)\n",
    ")\n",
    "\n",
    "SELECT\n",
    "    COUNT(DISTINCT a.artist_id)\n",
    "FROM artists AS a\n",
    "JOIN released_by AS rb USING (artist_id)\n",
    "WHERE rb.release_id IN (SELECT aarbd.release_id FROM above_avg_releases_by_duration AS aarbd)"
   ]
  },
  {
   "cell_type": "markdown",
   "metadata": {},
   "source": [
    "#### 5. How many artists have both a release with a track longer than twice the average and one with total duration longer than twice the average?\n",
    "\n",
    "<b>Hint</b>: you can use `INTERSECT` or `EXISTS` to write your query."
   ]
  },
  {
   "cell_type": "code",
   "execution_count": 62,
   "metadata": {},
   "outputs": [
    {
     "name": "stdout",
     "output_type": "stream",
     "text": [
      " * postgresql://postgres:***@db:5432/postgres\n",
      "5 rows affected.\n"
     ]
    },
    {
     "data": {
      "text/html": [
       "<table>\n",
       "    <thead>\n",
       "        <tr>\n",
       "            <th>artist_id</th>\n",
       "        </tr>\n",
       "    </thead>\n",
       "    <tbody>\n",
       "        <tr>\n",
       "            <td>56202</td>\n",
       "        </tr>\n",
       "        <tr>\n",
       "            <td>18803</td>\n",
       "        </tr>\n",
       "        <tr>\n",
       "            <td>259644</td>\n",
       "        </tr>\n",
       "        <tr>\n",
       "            <td>38885</td>\n",
       "        </tr>\n",
       "        <tr>\n",
       "            <td>1552</td>\n",
       "        </tr>\n",
       "    </tbody>\n",
       "</table>"
      ],
      "text/plain": [
       "[(56202,), (18803,), (259644,), (38885,), (1552,)]"
      ]
     },
     "execution_count": 62,
     "metadata": {},
     "output_type": "execute_result"
    }
   ],
   "source": [
    "%%sql\n",
    "WITH\n",
    "releases_by_duration AS (\n",
    "    SELECT r.release_id, r.title, SUM(t.duration) AS total_track_duration\n",
    "    FROM releases AS r\n",
    "    JOIN tracks AS t USING(release_id)\n",
    "    GROUP BY r.release_id\n",
    "),\n",
    "\n",
    "total_track_durations AS (\n",
    "    SELECT rbd.total_track_duration\n",
    "    FROM releases_by_duration AS rbd\n",
    "),\n",
    "\n",
    "above_avg_releases_by_duration AS (\n",
    "    SELECT rbd.*\n",
    "    FROM releases_by_duration rbd\n",
    "    WHERE rbd.total_track_duration > 2 * (SELECT AVG(ttd.total_track_duration) FROM total_track_durations AS ttd)\n",
    "),\n",
    "\n",
    "artists_with_above_avg_releases AS (\n",
    "    SELECT a.*\n",
    "    FROM artists AS a\n",
    "    JOIN released_by AS rb USING (artist_id)\n",
    "    WHERE rb.release_id IN (SELECT aarbd.release_id FROM above_avg_releases_by_duration AS aarbd)\n",
    "),\n",
    "\n",
    "artists_with_above_avg_tracks AS (\n",
    "    SELECT a.*\n",
    "    FROM artists AS a\n",
    "    WHERE EXISTS\n",
    "    (\n",
    "        SELECT *\n",
    "        FROM tracks t\n",
    "        JOIN released_by AS rb ON t.release_id = rb.release_id\n",
    "        WHERE rb.artist_id = a.artist_id\n",
    "        AND t.duration > 2 * (SELECT AVG(t.duration) AS avg_duration FROM tracks AS t)\n",
    "    )\n",
    ")\n",
    "\n",
    "SELECT ar.artist_id\n",
    "FROM artists_with_above_avg_releases AS ar\n",
    "\n",
    "INTERSECT\n",
    "\n",
    "SELECT at.artist_id\n",
    "FROM artists_with_above_avg_tracks AS at\n",
    "\n",
    "LIMIT 5"
   ]
  },
  {
   "cell_type": "code",
   "execution_count": 64,
   "metadata": {},
   "outputs": [
    {
     "name": "stdout",
     "output_type": "stream",
     "text": [
      " * postgresql://postgres:***@db:5432/postgres\n",
      "1 rows affected.\n"
     ]
    },
    {
     "data": {
      "text/html": [
       "<table>\n",
       "    <thead>\n",
       "        <tr>\n",
       "            <th>num_artists</th>\n",
       "        </tr>\n",
       "    </thead>\n",
       "    <tbody>\n",
       "        <tr>\n",
       "            <td>1870</td>\n",
       "        </tr>\n",
       "    </tbody>\n",
       "</table>"
      ],
      "text/plain": [
       "[(1870,)]"
      ]
     },
     "execution_count": 64,
     "metadata": {},
     "output_type": "execute_result"
    }
   ],
   "source": [
    "%%sql\n",
    "WITH\n",
    "releases_by_duration AS (\n",
    "    SELECT r.release_id, r.title, SUM(t.duration) AS total_track_duration\n",
    "    FROM releases AS r\n",
    "    JOIN tracks AS t USING(release_id)\n",
    "    GROUP BY r.release_id\n",
    "),\n",
    "\n",
    "total_track_durations AS (\n",
    "    SELECT rbd.total_track_duration\n",
    "    FROM releases_by_duration AS rbd\n",
    "),\n",
    "\n",
    "above_avg_releases_by_duration AS (\n",
    "    SELECT rbd.*\n",
    "    FROM releases_by_duration rbd\n",
    "    WHERE rbd.total_track_duration > 2 * (SELECT AVG(ttd.total_track_duration) FROM total_track_durations AS ttd)\n",
    "),\n",
    "\n",
    "artists_with_above_avg_releases AS (\n",
    "    SELECT a.*\n",
    "    FROM artists AS a\n",
    "    JOIN released_by AS rb USING (artist_id)\n",
    "    WHERE rb.release_id IN (SELECT aarbd.release_id FROM above_avg_releases_by_duration AS aarbd)\n",
    "),\n",
    "\n",
    "artists_with_above_avg_tracks AS (\n",
    "    SELECT a.*\n",
    "    FROM artists AS a\n",
    "    WHERE EXISTS\n",
    "    (\n",
    "        SELECT *\n",
    "        FROM tracks t\n",
    "        JOIN released_by AS rb ON t.release_id = rb.release_id\n",
    "        WHERE rb.artist_id = a.artist_id\n",
    "        AND t.duration > 2 * (SELECT AVG(t.duration) AS avg_duration FROM tracks AS t)\n",
    "    )\n",
    "),\n",
    "\n",
    "intesect_artists AS (\n",
    "    SELECT ar.artist_id\n",
    "    FROM artists_with_above_avg_releases AS ar\n",
    "\n",
    "    INTERSECT\n",
    "\n",
    "    SELECT at.artist_id\n",
    "    FROM artists_with_above_avg_tracks AS at\n",
    ")\n",
    "\n",
    "SELECT COUNT(DISTINCT ia.artist_id) AS num_artists\n",
    "FROM intesect_artists AS ia"
   ]
  },
  {
   "cell_type": "markdown",
   "metadata": {},
   "source": [
    "#### 6. Show the artists have more than 200 releases in total but have no releases with the genre 'Pop' in reversed alphabetical order."
   ]
  },
  {
   "cell_type": "code",
   "execution_count": 80,
   "metadata": {},
   "outputs": [
    {
     "name": "stdout",
     "output_type": "stream",
     "text": [
      " * postgresql://postgres:***@db:5432/postgres\n",
      "5 rows affected.\n"
     ]
    },
    {
     "data": {
      "text/html": [
       "<table>\n",
       "    <thead>\n",
       "        <tr>\n",
       "            <th>artist_id</th>\n",
       "            <th>name</th>\n",
       "            <th>num_releases</th>\n",
       "        </tr>\n",
       "    </thead>\n",
       "    <tbody>\n",
       "        <tr>\n",
       "            <td>1</td>\n",
       "            <td>The Persuader</td>\n",
       "            <td>10</td>\n",
       "        </tr>\n",
       "        <tr>\n",
       "            <td>2</td>\n",
       "            <td>Mr. James Barth &amp; A.D.</td>\n",
       "            <td>3</td>\n",
       "        </tr>\n",
       "        <tr>\n",
       "            <td>3</td>\n",
       "            <td>Josh Wink</td>\n",
       "            <td>159</td>\n",
       "        </tr>\n",
       "        <tr>\n",
       "            <td>4</td>\n",
       "            <td>Johannes Heil</td>\n",
       "            <td>57</td>\n",
       "        </tr>\n",
       "        <tr>\n",
       "            <td>5</td>\n",
       "            <td>Heiko Laux</td>\n",
       "            <td>45</td>\n",
       "        </tr>\n",
       "    </tbody>\n",
       "</table>"
      ],
      "text/plain": [
       "[(1, 'The Persuader', 10),\n",
       " (2, 'Mr. James Barth & A.D.', 3),\n",
       " (3, 'Josh Wink', 159),\n",
       " (4, 'Johannes Heil', 57),\n",
       " (5, 'Heiko Laux', 45)]"
      ]
     },
     "execution_count": 80,
     "metadata": {},
     "output_type": "execute_result"
    }
   ],
   "source": [
    "%%sql\n",
    "SELECT a.artist_id, a.name, COUNT(DISTINCT r.release_id) AS num_releases\n",
    "FROM artists AS a\n",
    "JOIN released_by AS rb USING(artist_id)\n",
    "JOIN releases AS r USING(release_id)\n",
    "GROUP BY a.artist_id\n",
    "LIMIT 5"
   ]
  },
  {
   "cell_type": "code",
   "execution_count": 84,
   "metadata": {},
   "outputs": [
    {
     "name": "stdout",
     "output_type": "stream",
     "text": [
      " * postgresql://postgres:***@db:5432/postgres\n",
      "5 rows affected.\n"
     ]
    },
    {
     "data": {
      "text/html": [
       "<table>\n",
       "    <thead>\n",
       "        <tr>\n",
       "            <th>artist_id</th>\n",
       "            <th>name</th>\n",
       "            <th>realname</th>\n",
       "            <th>profile</th>\n",
       "            <th>url</th>\n",
       "        </tr>\n",
       "    </thead>\n",
       "    <tbody>\n",
       "        <tr>\n",
       "            <td>194</td>\n",
       "            <td>Various Artists</td>\n",
       "            <td>None</td>\n",
       "            <td>Placeholder artist for Various</td>\n",
       "            <td>None</td>\n",
       "        </tr>\n",
       "        <tr>\n",
       "            <td>1279</td>\n",
       "            <td>Orbital</td>\n",
       "            <td>Paul &amp; Phil Hartnoll</td>\n",
       "            <td>Techno outfit, founded in the late 80s by the brothers Paul and Phil Hartnoll.</td>\n",
       "            <td>http://orbitalofficial.com</td>\n",
       "        </tr>\n",
       "        <tr>\n",
       "            <td>1280</td>\n",
       "            <td>Underworld</td>\n",
       "            <td>Karl Hyde, Rick Smith, (Darren Emerson)</td>\n",
       "            <td>UK electronic music act formed by Rick Smith and [a=Karl Hyde] in 1987 after their former band [a=Freur] disbanded. The first line-up released more song oriented funky guitar based pop over the course of two albums. In 1991 the core duo returned with a new track oriented technoid direction and a new ally; DJ [a=Darren Emerson]. In 1996 the former b-side &quot;Born Slippy NUXX&quot; was used in Danny Boyle&#x27;s film &quot;Trainspotting&quot; and became an instant anthem of the mid to late 1990&#x27;s. Emerson left in 2000 after the release of &quot;Everything, Everything&quot; to pursue a solo career and was replaced on tour DJ duties by [a=Darren Price]. Price became a performing member of Underworld Live in 2005. </td>\n",
       "            <td>http://www.underworldlive.com</td>\n",
       "        </tr>\n",
       "        <tr>\n",
       "            <td>4118</td>\n",
       "            <td>Faithless</td>\n",
       "            <td>None</td>\n",
       "            <td>Faithless officially split up in April 2011. Some of the original members (Sister Bliss, Maxi Jazz and percussionist Sudha Kheterpal) continue to perform under the name Faithless Sound System.\r \r Faithless were [a=Maxwell Frazer] AKA [a=Maxi Jazz] (Conscious Rap) [a=Ayalah Bentovim] AKA [a=Sister Bliss] (Music) Roland Armstrong AKA [a=Rollo] (Producer, Music). Many of the songs are sung by [a=Pauline Taylor].  [a=Jamie Catto] was originally part of the group but left after the release of the second album &quot;Sunday 8PM&quot;. [a=Zoë Johnston] joined for the album &quot;Outrospective&quot;.\r \r Their first album, 1996&#x27;s &quot;Reverence&quot;, was an underground sensation but did not quite break the mainstream. 1998&#x27;s &quot;Sunday 8AM&quot; changed all of that, the single &quot;God Is a DJ&quot; became a big club anthem while the album enjoyed bigger sales than anything they had previously released. Critics may have been harsh, but the group kept moving forward with all members also pursuing solo careers on the side.\r \r When playing live they were joined by guitarist [a=Dave Randall (2)] and bassist, [a=Aubrey Nunn].</td>\n",
       "            <td>http://www.faithless.co.uk</td>\n",
       "        </tr>\n",
       "        <tr>\n",
       "            <td>5797</td>\n",
       "            <td>ATB</td>\n",
       "            <td>André Tanneberger</td>\n",
       "            <td>German Producer\r ATB - [b]A[/b]ndré [b]T[/b]anne[b]b[/b]erger\r Born on February 26, 1973 in Freiberg, Saxony, Germany.\r </td>\n",
       "            <td>http://www.atb-music.com/</td>\n",
       "        </tr>\n",
       "    </tbody>\n",
       "</table>"
      ],
      "text/plain": [
       "[(194, 'Various Artists', None, 'Placeholder artist for Various', None),\n",
       " (1279, 'Orbital', 'Paul & Phil Hartnoll', 'Techno outfit, founded in the late 80s by the brothers Paul and Phil Hartnoll.', 'http://orbitalofficial.com'),\n",
       " (1280, 'Underworld', 'Karl Hyde, Rick Smith, (Darren Emerson)', 'UK electronic music act formed by Rick Smith and [a=Karl Hyde] in 1987 after their former band [a=Freur] disbanded. The first line-up released more s ... (390 characters truncated) ... ything\" to pursue a solo career and was replaced on tour DJ duties by [a=Darren Price]. Price became a performing member of Underworld Live in 2005. ', 'http://www.underworldlive.com'),\n",
       " (4118, 'Faithless', None, 'Faithless officially split up in April 2011. Some of the original members (Sister Bliss, Maxi Jazz and percussionist Sudha Kheterpal) continue to per ... (793 characters truncated) ... mbers also pursuing solo careers on the side.\\r \\r When playing live they were joined by guitarist [a=Dave Randall (2)] and bassist, [a=Aubrey Nunn].', 'http://www.faithless.co.uk'),\n",
       " (5797, 'ATB', 'André Tanneberger', 'German Producer\\r ATB - [b]A[/b]ndré [b]T[/b]anne[b]b[/b]erger\\r Born on February 26, 1973 in Freiberg, Saxony, Germany.\\r ', 'http://www.atb-music.com/')]"
      ]
     },
     "execution_count": 84,
     "metadata": {},
     "output_type": "execute_result"
    }
   ],
   "source": [
    "%%sql\n",
    "WITH artists_by_num_releases AS (\n",
    "    SELECT a.*, COUNT(DISTINCT r.release_id) AS num_releases\n",
    "    FROM artists AS a\n",
    "    JOIN released_by AS rb USING(artist_id)\n",
    "    JOIN releases AS r USING(release_id)\n",
    "    GROUP BY a.artist_id\n",
    ")\n",
    "\n",
    "SELECT a.*\n",
    "FROM artists AS a\n",
    "JOIN artists_by_num_releases AS abnr USING(artist_id)\n",
    "WHERE abnr.num_releases > 200\n",
    "LIMIT 5\n"
   ]
  },
  {
   "cell_type": "code",
   "execution_count": 85,
   "metadata": {},
   "outputs": [
    {
     "name": "stdout",
     "output_type": "stream",
     "text": [
      " * postgresql://postgres:***@db:5432/postgres\n",
      "5 rows affected.\n"
     ]
    },
    {
     "data": {
      "text/html": [
       "<table>\n",
       "    <thead>\n",
       "        <tr>\n",
       "            <th>artist_id</th>\n",
       "            <th>name</th>\n",
       "            <th>realname</th>\n",
       "            <th>profile</th>\n",
       "            <th>url</th>\n",
       "        </tr>\n",
       "    </thead>\n",
       "    <tbody>\n",
       "        <tr>\n",
       "            <td>2807</td>\n",
       "            <td>Saint Etienne</td>\n",
       "            <td>Sarah Cracknell, Bob Stanley &amp; Pete Wiggs.</td>\n",
       "            <td>English alternative pop band, founded in London in 1990. They are named after the French football team AS Saint-Étienne.</td>\n",
       "            <td>http://www.saintetienne.com</td>\n",
       "        </tr>\n",
       "        <tr>\n",
       "            <td>235979</td>\n",
       "            <td>Boney M.</td>\n",
       "            <td>None</td>\n",
       "            <td>Producer [a=Frank Farian] created Boney M. as a studio project in 1975. On the first output, &quot;Baby Do You Wanna Bump&quot;, Farian performed all vocals himself. Soon, however, TV stations started to demand &#x27;Boney M.&#x27; to perform the track on TV shows, which made Farian form an actual group. After some initial changes, Frank Farian arrived at the lineup with which the group had their biggest successes: Maizie Williams, Marcia Barrett, Bobby Farrell and Liz Mitchell. The group&#x27;s major break came in 1978 with &quot;Rivers Of Babylon&quot;, the second highest selling single of all time in the UK. Boney M. enjoyed over a dozen hit singles throughout Europe between 1976 and 1981. After Farrell was replaced by Reggie Tsiboe, Boney M. had two more hits in 1984.\r \r Frank Farian announced the end of Boney M. in 1986, but the group has continued in some form or other ever since. No new material has been released, except for a couple of singles and the odd new track on compilations. Numerous &quot;best of&quot; compilations and remix albums have been released. All members continue performing with their own Boney M. formations even today, except for Tsiboe – and Farrell, who passed away in late 2010.\r </td>\n",
       "            <td>http://en.wikipedia.org/wiki/Boney_M.</td>\n",
       "        </tr>\n",
       "        <tr>\n",
       "            <td>59637</td>\n",
       "            <td>Anne Pigalle</td>\n",
       "            <td>None</td>\n",
       "            <td>None</td>\n",
       "            <td>http://www.annepigalle.com</td>\n",
       "        </tr>\n",
       "        <tr>\n",
       "            <td>48404</td>\n",
       "            <td>Tom Tom Club</td>\n",
       "            <td>Chris Frantz &amp; Tina Weymouth</td>\n",
       "            <td>U.S. group formed at the start of the &#x27;80&#x27;s by Tina Weymouth and Chris Frantz of Talking Heads. Other members of the group were Steve Scales, Alex Weir, Tyrone Downie and Tina&#x27;s sisters Loric, Lani and Laura.</td>\n",
       "            <td>http://tomtomclub.com</td>\n",
       "        </tr>\n",
       "        <tr>\n",
       "            <td>8024</td>\n",
       "            <td>Janet Jackson</td>\n",
       "            <td>Janet Damita Jo Jackson</td>\n",
       "            <td>American recording artist and actress, born 16 May 1966 in Gary, Indiana, USA.\r Daughter of [a=Joe Jackson (5)], sister of [a=Michael Jackson], [a=Jermaine Jackson], [a=Jackie Jackson], [a=Tito Jackson], [a=Marlon Jackson], [a=Randy Jackson], [a=Rebbie Jackson] and [a=La Toya Jackson].</td>\n",
       "            <td>http://www.janetjackson.com</td>\n",
       "        </tr>\n",
       "    </tbody>\n",
       "</table>"
      ],
      "text/plain": [
       "[(2807, 'Saint Etienne', 'Sarah Cracknell, Bob Stanley & Pete Wiggs.', 'English alternative pop band, founded in London in 1990. They are named after the French football team AS Saint-Étienne.', 'http://www.saintetienne.com'),\n",
       " (235979, 'Boney M.', None, 'Producer [a=Frank Farian] created Boney M. as a studio project in 1975. On the first output, \"Baby Do You Wanna Bump\", Farian performed all vocals hi ... (890 characters truncated) ... sed. All members continue performing with their own Boney M. formations even today, except for Tsiboe – and Farrell, who passed away in late 2010.\\r ', 'http://en.wikipedia.org/wiki/Boney_M.'),\n",
       " (59637, 'Anne Pigalle', None, None, 'http://www.annepigalle.com'),\n",
       " (48404, 'Tom Tom Club', 'Chris Frantz & Tina Weymouth', \"U.S. group formed at the start of the '80's by Tina Weymouth and Chris Frantz of Talking Heads. Other members of the group were Steve Scales, Alex Weir, Tyrone Downie and Tina's sisters Loric, Lani and Laura.\", 'http://tomtomclub.com'),\n",
       " (8024, 'Janet Jackson', 'Janet Damita Jo Jackson', 'American recording artist and actress, born 16 May 1966 in Gary, Indiana, USA.\\r Daughter of [a=Joe Jackson (5)], sister of [a=Michael Jackson], [a=Jermaine Jackson], [a=Jackie Jackson], [a=Tito Jackson], [a=Marlon Jackson], [a=Randy Jackson], [a=Rebbie Jackson] and [a=La Toya Jackson].', 'http://www.janetjackson.com')]"
      ]
     },
     "execution_count": 85,
     "metadata": {},
     "output_type": "execute_result"
    }
   ],
   "source": [
    "%%sql\n",
    "SELECT a.*\n",
    "FROM artists AS a\n",
    "JOIN released_by AS rb USING(artist_id)\n",
    "JOIN releases AS r USING(release_id)\n",
    "WHERE r.genre = 'Pop'\n",
    "LIMIT 5"
   ]
  },
  {
   "cell_type": "code",
   "execution_count": 88,
   "metadata": {},
   "outputs": [
    {
     "name": "stdout",
     "output_type": "stream",
     "text": [
      " * postgresql://postgres:***@db:5432/postgres\n",
      "10 rows affected.\n"
     ]
    },
    {
     "data": {
      "text/html": [
       "<table>\n",
       "    <thead>\n",
       "        <tr>\n",
       "            <th>artist_id</th>\n",
       "            <th>name</th>\n",
       "            <th>realname</th>\n",
       "            <th>profile</th>\n",
       "            <th>url</th>\n",
       "        </tr>\n",
       "    </thead>\n",
       "    <tbody>\n",
       "        <tr>\n",
       "            <td>1279</td>\n",
       "            <td>Orbital</td>\n",
       "            <td>Paul &amp; Phil Hartnoll</td>\n",
       "            <td>Techno outfit, founded in the late 80s by the brothers Paul and Phil Hartnoll.</td>\n",
       "            <td>http://orbitalofficial.com</td>\n",
       "        </tr>\n",
       "        <tr>\n",
       "            <td>1280</td>\n",
       "            <td>Underworld</td>\n",
       "            <td>Karl Hyde, Rick Smith, (Darren Emerson)</td>\n",
       "            <td>UK electronic music act formed by Rick Smith and [a=Karl Hyde] in 1987 after their former band [a=Freur] disbanded. The first line-up released more song oriented funky guitar based pop over the course of two albums. In 1991 the core duo returned with a new track oriented technoid direction and a new ally; DJ [a=Darren Emerson]. In 1996 the former b-side &quot;Born Slippy NUXX&quot; was used in Danny Boyle&#x27;s film &quot;Trainspotting&quot; and became an instant anthem of the mid to late 1990&#x27;s. Emerson left in 2000 after the release of &quot;Everything, Everything&quot; to pursue a solo career and was replaced on tour DJ duties by [a=Darren Price]. Price became a performing member of Underworld Live in 2005. </td>\n",
       "            <td>http://www.underworldlive.com</td>\n",
       "        </tr>\n",
       "        <tr>\n",
       "            <td>4118</td>\n",
       "            <td>Faithless</td>\n",
       "            <td>None</td>\n",
       "            <td>Faithless officially split up in April 2011. Some of the original members (Sister Bliss, Maxi Jazz and percussionist Sudha Kheterpal) continue to perform under the name Faithless Sound System.\r \r Faithless were [a=Maxwell Frazer] AKA [a=Maxi Jazz] (Conscious Rap) [a=Ayalah Bentovim] AKA [a=Sister Bliss] (Music) Roland Armstrong AKA [a=Rollo] (Producer, Music). Many of the songs are sung by [a=Pauline Taylor].  [a=Jamie Catto] was originally part of the group but left after the release of the second album &quot;Sunday 8PM&quot;. [a=Zoë Johnston] joined for the album &quot;Outrospective&quot;.\r \r Their first album, 1996&#x27;s &quot;Reverence&quot;, was an underground sensation but did not quite break the mainstream. 1998&#x27;s &quot;Sunday 8AM&quot; changed all of that, the single &quot;God Is a DJ&quot; became a big club anthem while the album enjoyed bigger sales than anything they had previously released. Critics may have been harsh, but the group kept moving forward with all members also pursuing solo careers on the side.\r \r When playing live they were joined by guitarist [a=Dave Randall (2)] and bassist, [a=Aubrey Nunn].</td>\n",
       "            <td>http://www.faithless.co.uk</td>\n",
       "        </tr>\n",
       "        <tr>\n",
       "            <td>5797</td>\n",
       "            <td>ATB</td>\n",
       "            <td>André Tanneberger</td>\n",
       "            <td>German Producer\r ATB - [b]A[/b]ndré [b]T[/b]anne[b]b[/b]erger\r Born on February 26, 1973 in Freiberg, Saxony, Germany.\r </td>\n",
       "            <td>http://www.atb-music.com/</td>\n",
       "        </tr>\n",
       "        <tr>\n",
       "            <td>7142</td>\n",
       "            <td>The Art Of Noise</td>\n",
       "            <td>None</td>\n",
       "            <td>The Art Of Noise, an art-pop group established in 1983, scored hits with &quot;Beat Box&quot;, &quot;Close (to the Edit)&quot;, &quot;Moments in Love&quot;, &quot;Paranoimia&quot;, and cover versions, with guest performers, of &quot;Peter Gunn&quot; and Prince&#x27;s &quot;Kiss&quot;. Often cited as a pioneer in electronic music and sampling, The Art Of Noise used technology to rework the same recordings many times over, a novel approach at the time. Although only a relatively small amount of original material was commercially released during the project&#x27;s active periods (1983–1989 and 1998–2000), the Art Of Noise&#x27;s legacy includes scores of reissues, remixes, and compilations of previously released and unreleased material.\r \r The Art Of Noise began as a project of studio engineer [a=Gary Langan] and Fairlight sampler whiz [a=J.J. Jeczalik], who were working together with producer/performer [a=Trevor Horn] and pianist/composer/arranger [a=Anne Dudley] on several of Horn&#x27;s productions for other artists. Writer [a=Paul Morley] was brought in to tailor the group&#x27;s image, which was at first that of a faceless &quot;non-group&quot; inspired by early 20th Century modernism. An acrimonious split in 1985 left Art Of Noise as a trio, sans Horn and Morley, and with a more tongue-in-cheek musical direction. Langan moved on amicably in 1987, leaving Dudley and Jeczalik to carry on until they, too, called it quits in 1990. In 1998, Horn, Dudley and Morley temporarily reformed The Art Of Noise with the addition of guitarist [a=Lol Creme]. The resulting album, [i]The Seduction of Claude Debussy[/i] (1999), was another attempt to raid the 20th Century&#x27;s musical forms, this time focusing on the life and work of longtime influence Debussy. The group went dormant again in 2000.\r </td>\n",
       "            <td>http://artofnoiseofficial.com</td>\n",
       "        </tr>\n",
       "        <tr>\n",
       "            <td>7297</td>\n",
       "            <td>The Shamen</td>\n",
       "            <td>Colin Angus, Will Sin</td>\n",
       "            <td>Founded in Aberdeen, Scotland in 1985 by [a=Colin Angus], [a=Derek McKenzie], &amp; [a=Keith McKenzie] with the band name [a=Alone Again Or]. The group changed its name to [b]The Shamen[/b] in late 1985 or early 1986. Early Alone Again Or and The Shamen material was primarily psychedelic indie rock. The group&#x27;s first album under the name The Shamen was 1987&#x27;s &quot;Drop&quot;.\r \r By 1987, Colin was inspired by M/A/R/R/S and similar new groups that used sampling and beats. As he delved into exploring new technology and dance sounds, the new direction caused the Shamen lineup to shift: Derek McKenzie, unimpressed with the changes, left the fold to return to school in 1987. Colin added energetic new bass player [a=Will Sin] (a.k.a. Will Sinnott) in October 1987 and he himself moved to concentrate on vocals and guitar. At this point, the pieces were in place for the group to become what they would eventually be remembered for: one of the early pioneers of what became known as &quot;indie-dance&quot;, inspiring a glut of late-&#x27;80s pop bands like [a=EMF] and [a=Jesus Jones] and also paving the way for more influential groups like [a=Saint Etienne].\r \r The Shamen single &quot;Jesus Loves Amerika&quot; (1988) was both a politically-charged release and an advancement of their sonic aesthetic, showcasing the group&#x27;s adventurous new electronic-rock hybrid sound with the newly-added Will Sin. After 1989&#x27;s &quot;In Gorbachev We Trust&quot; album, the group relocated to London. They fell in with [a=Paul Oakenfold], [a=Orbital], [a=Mixmaster Morris], [url=http://www.discogs.com/artist/eddie+richards]Evil Eddie Richards[/url], and the Synergy tour. Soon they released the drastic sea change that was their mini-album &quot;Phorward&quot;, which embraced electronic completely and was the final stepping stone into the group&#x27;s most successful and influential era.\r \r With the release of 1990&#x27;s wide-eyed &quot;En-Tact&quot;, with its all-embracing, psychedelic utopian worldview embodied by its accompanying singles (&quot;Pro&gt;gen&quot;, &quot;Hyperreal&quot;, &quot;Omega Amigo&quot;, &quot;Make It Mine&quot;, &quot;Possible Worlds&quot;), the group became an internationally charting electronic act. [a=Mr. C] (raps, vocals) and [a29921] (vocals) were added to increase the group&#x27;s vocal presence (Plavka, who provided the enthusiastic lead vocal on single &quot;Hyperreal&quot;, only stayed in the lineup until 1991). Tragically, Will Sin drowned on May 23, 1991, immediately after the filming of a Shamen promotional video in Tenerife for the song &quot;Move Any Mountain&quot; (the popularized title of &quot;Pro&gt;Gen&quot;). His untimely death lent the otherwise hugely optimistic and ebullient song a subcurrent of strangely contrasting sadness and mortality.\r \r After a necessary break to deal with the death of friend and bandmate Will, The Shamen reconvened and released the album &quot;Boss Drum&quot;, a massive hit with multiple singles. It charted worldwide, going platinum in the UK. After the success of this era, the group&#x27;s popularity waned: underground dance and electronic circles felt the success Colin et al had achieved made them a pop act, and therefore to be perceived as less substantial. Two albums were released in the mid 1990s, 1995&#x27;s &quot;Axis Mutatis&quot; and 1996&#x27;s &quot;Hempton Manor&quot;. The group continued on until 1998, when their final album, &quot;UV&quot;, was released.\r \r The Shamen had fifteen hits in the British singles chart, five of which made the top ten. Standout hits included &quot;Ebeneezer Goode&quot; (which went to number one despite — and likely because of — its transparent drug content: &quot;E&#x27;s are good - Ebeneezer Goode&quot;) and the widescreen rave sounds of &quot;Pro&gt;gen&quot; (later renamed &quot;Move Any Mountain&quot; after its infectious chorus) (which went to number four).\r </td>\n",
       "            <td>https://www.facebook.com/TheShamen1/</td>\n",
       "        </tr>\n",
       "        <tr>\n",
       "            <td>7552</td>\n",
       "            <td>Pet Shop Boys</td>\n",
       "            <td>Neil Tennant, Chris Lowe</td>\n",
       "            <td>Pet Shop Boys are an English musical duo, formed in London in 1981 and consisting of Neil Tennant (main vocals, keyboards, occasional guitar) and Chris Lowe (keyboards, occasional vocals). They are listed as the most successful duo in UK music history by The Guinness Book of Records. \r In the early 90s they ran [l=Spaghetti Recordings] and more recently, [l=Olde English] and [l=Lucky Kunst] labels. \r In March 2013, the duo officially left [l=Parlophone] after 28 years and entered into a new arrangement with [l=Kobalt Label Services] for their 12th studio album which would be the band&#x27;s first release on their own music imprint [l=x2 (2)].</td>\n",
       "            <td>http://www.petshopboys.co.uk (Official Site)</td>\n",
       "        </tr>\n",
       "        <tr>\n",
       "            <td>10343</td>\n",
       "            <td>Tangerine Dream</td>\n",
       "            <td>None</td>\n",
       "            <td>Founded by the late [a=Edgar Froese], Tangerine Dream is perhaps the premier exponent of &quot;electronic rock&quot; music of the &quot;Berlin School&quot;. From their &quot;free-rock&quot; beginnings in the nascent &quot;krautrock&quot; scene to the eventual synthesizer-based trio which signed to [l=Virgin], this German group can take significant credit in introducing synthesizer/sequenced electronic music to most of the Western rock world. At the height of their success - during the mid to late 1970s - the Dream&#x27;s spacey, pulsing music earned them a tenacious cult following. By the late Seventies, however, line-ups, and more importantly, the formula changed, tilting towards more conventional &quot;rock&quot; music. By the early 1980s, TD was primarily releasing influential  soundtrack work, before settling into New Age content by mid-decade.\r \r Formed in Berlin in 1967, the initial line up (on their first release Electronic Meditation) included [a=Edgar Froese], [a=Conrad Schnitzler] (cello) and [a=Klaus Schulze] (drums). Their compositions, or rather experimental improvisations, had roots in the psychedelia of London albeit with the &quot;krautrock&quot; twist. [i]Electronic Meditation[/i] is perhaps a misnomer; traditional instrumentation of organ, drums, guitar, cello, flute were hardly electronic and &quot;freak out jamming&quot; is the more appropriate adjective, reflecting the confluence of Twentieth Century avant-garde music. Both Schnitzler and Schulze would depart after this album, with the latter forming [a=Ash Ra Tempel] and going on to become the other major proponent of the &quot;Berlin School&quot;. Second album, [i]Alpha Centauri[/i], saw the addition of long-standing member [a=Christopher Franke] replacing Schulze, while [a=Peter Baumann] would come aboard for [i]Zeit[/i]. Although unissued until the mid-1980s, [i]Green Desert[/i] was recorded in 1973. The core of Froese, Franke and Baumann would sign to Virgin Records in 1973, and the subsequent release [i]Phaedra[/i] would cement their style for years to come. Understated, droning keyboard and guitar melodies intertwined with ambient washes of reverberating electronic textures, utilizing synthesizers and sequencers, was typical of the TD sound. Compositions were long, melodic, pulsing pieces. [a=Michael Hoenig] temporarily replaced Baumann for an Australian tour in 1975. One highlight of the Virgin period was [i]Sorcerer[/i], a soundtrack to the film of the same name. After Baumann&#x27;s departure in 1978, TD experimented with the formula on [i]Cyclone[/i], which saw the addition of [a=Steve Jolliffe], adding vocals and woodwinds and [a=Klaus Krüger] on drums. [i]Force Majeure[/i] was the classic of this period. [a=Johannes Schmölling] would join for [i]Tangram[/i]. This line-up remained stable until the mid-1980s, as the group shifted toward more rhythmic textures. The increased emphasis on sequencers and rhythm in the first half of the 1980s divided fans, as did subsequent releases which veered heavily into relatively accessible, uplifting melodies.\r \r After a brief stint with [l=Jive Records] from 1984 to 1988, TD signed to Baumann&#x27;s [l=Private Music] label and then the equally New Agey [l=Miramar], fully embracing digital textures and seeking to distance the group from its moody, psychedelic past. [a=Paul Haslinger] replaced Schmölling in 1985, and was in turn replaced by Froese&#x27;s son [a=Jerome Froese] in 1990. Franke left in 1987 over creative differences with Froese. After a mid-1990s move to Edgar Froese&#x27;s own [l=TDI Music] label (later renamed [l=Eastgate]), TD&#x27;s reputation as a New Age band became less appropriate - father and son experimented with more modern sounds and revisited elements of past glories - but the group&#x27;s artist direction remained fairly entrenched in melodic pop-rock territory, with an increased use of acoustic instruments, particularly on stage. With Edgar Froese&#x27;s death in 2015, the band continues, but with none of its original members. \r </td>\n",
       "            <td>http://www.tangerinedream-music.com</td>\n",
       "        </tr>\n",
       "        <tr>\n",
       "            <td>10783</td>\n",
       "            <td>Beastie Boys</td>\n",
       "            <td>None</td>\n",
       "            <td>American hip hop band formed in New York in 1981 as a hardcore punk combo. After the success of their first hip hop track, &quot;Cooky Puss&quot; in 1983, they turned into a rap group that sometimes include punk rock tracks in their albums. From 1992 to 2001, they ran the [l=Grand Royal] label. The band officially stopped in June 2014, following the death of [a=Adam Yauch] in 2012.\r \r Members: \r [a=Ad Rock] ([a=Adam Horovitz]): vocals, guitar (1982-2014)\r [a=MCA] ([a=Adam Yauch]): vocals, bass (1981-2012)\r [a=Mike D] ([url=http://www.discogs.com/artist/4043933-Michael-Diamond-3]Michael Diamond[/url]): vocals, drums (1981-2014)\r [a797069]: guitar (1981-1982)\r [a110727]: drums (1981-1984)\r \r + touring members:\r [a=Rick Rubin] (as DJ Double R): disc jockey (1984-1985)\r [a185889] ([a191439]) – disc jockey (1986)\r DJ [a128173] ([a555935])  – disc jockey (1986–1997)\r [a130898] ([a750830]) – percussion (1992–1996)\r [a3880] ([a252213]) – keyboards, vocals (1992–2014)\r [a48084] ([a436745])  – drums (1994–1995)\r [a394805] – drums, percussion (1996–2014)\r [a9838] ([a756781])  – disc jockey, turntablist and backing vocals (1998–2014)</td>\n",
       "            <td>http://www.beastieboys.com/</td>\n",
       "        </tr>\n",
       "        <tr>\n",
       "            <td>14457</td>\n",
       "            <td>Technotronic</td>\n",
       "            <td>None</td>\n",
       "            <td>Technotronic (started in 1989) was the restless offspring of innovative Belgian producer [a=Jo Bogaert] AKA [a=Thomas De Quincey]. He had already made his mark on the &quot;Eurobeat&quot; with various high-profile dance concepts such as [a=Nux Nemo] and [a=Acts Of Madmen]. \r The track that would later become &quot;Pump Up The Jam&quot; was first released by Bogaert under the alias [a=The Pro 24&#x27;s] in 1989. Inspired by the sound of [a=Farley &quot;Jackmaster&quot; Funk], &quot;Technotronic&quot; featured samples of [a=Eddie Murphy], later replaced by new vocals.\r \r The first &quot;public face&quot; of Technotronic was a &quot;blue lipped&quot; pouting temptress known as [a=Felly], a renowned fashion-model. It wasn&#x27;t until the second single, &quot;Get Up&quot;, that the public saw and heard [a=Manuela Kamosi] AKA [a=Ya Kid K] for the first time. She had already performed the original vocals on &quot;Pump Up The Jam&quot; and now finally the world could bear witness to her strutting deliverance of &quot;Get Up&quot;. By the end of 1990, &quot;Pump Up The Jam&quot; had reached pole position on the &quot;Billboard 12&quot; singles dance chart. [a=Eric Martin (4)] AKA [a=MC Eric] also contributed vocally to Bogaert&#x27;s first opus (&quot;This Beat Is Technotronic&quot;. \r After a short collaboration with [a=Colin Case] AKA [a=Einstein (2)] and [a=Melissa] on the single &quot;Turn It Up&quot; (1990), Technotronic&#x27;s second album, &quot;Body To Body&quot; (1991), was released only in Europe. It featured vocals by [a=Réjane Magloire] AKA [a=Reggie].\r Their third album, &quot;Recall&quot; was released 4 years later and fitted in the Eurodance parameters of the era. It featured the return of [a=Ya Kid K] on vocals and the inclusion of [a=Daisy Rollocks] AKA [a=Daisy Dee] and [a=C. Davis] AKA [a=Black Diamond].\r From 1999 to recent days, Technotronic recorded with [a=Monday Osaigbovo Agbonze] AKA [a=Monday Midnite] and [a=Ya Kid K]. Many remixes of their old hits still entertain the clubbers today.\r The last significant chart success was in 1992 when &quot;Move This&quot; (used by Revlon in an advertising campaign) peaked at No.5 on the U.S. Billboard charts. Up until now Technotronic have retailed more than 14 million albums.\r </td>\n",
       "            <td>https://en.wikipedia.org/wiki/Technotronic</td>\n",
       "        </tr>\n",
       "    </tbody>\n",
       "</table>"
      ],
      "text/plain": [
       "[(1279, 'Orbital', 'Paul & Phil Hartnoll', 'Techno outfit, founded in the late 80s by the brothers Paul and Phil Hartnoll.', 'http://orbitalofficial.com'),\n",
       " (1280, 'Underworld', 'Karl Hyde, Rick Smith, (Darren Emerson)', 'UK electronic music act formed by Rick Smith and [a=Karl Hyde] in 1987 after their former band [a=Freur] disbanded. The first line-up released more s ... (390 characters truncated) ... ything\" to pursue a solo career and was replaced on tour DJ duties by [a=Darren Price]. Price became a performing member of Underworld Live in 2005. ', 'http://www.underworldlive.com'),\n",
       " (4118, 'Faithless', None, 'Faithless officially split up in April 2011. Some of the original members (Sister Bliss, Maxi Jazz and percussionist Sudha Kheterpal) continue to per ... (793 characters truncated) ... mbers also pursuing solo careers on the side.\\r \\r When playing live they were joined by guitarist [a=Dave Randall (2)] and bassist, [a=Aubrey Nunn].', 'http://www.faithless.co.uk'),\n",
       " (5797, 'ATB', 'André Tanneberger', 'German Producer\\r ATB - [b]A[/b]ndré [b]T[/b]anne[b]b[/b]erger\\r Born on February 26, 1973 in Freiberg, Saxony, Germany.\\r ', 'http://www.atb-music.com/'),\n",
       " (7142, 'The Art Of Noise', None, 'The Art Of Noise, an art-pop group established in 1983, scored hits with \"Beat Box\", \"Close (to the Edit)\", \"Moments in Love\", \"Paranoimia\", and cove ... (1427 characters truncated) ... id the 20th Century\\'s musical forms, this time focusing on the life and work of longtime influence Debussy. The group went dormant again in 2000.\\r ', 'http://artofnoiseofficial.com'),\n",
       " (7297, 'The Shamen', 'Colin Angus, Will Sin', 'Founded in Aberdeen, Scotland in 1985 by [a=Colin Angus], [a=Derek McKenzie], & [a=Keith McKenzie] with the band name [a=Alone Again Or]. The group c ... (3365 characters truncated) ... r Goode\") and the widescreen rave sounds of \"Pro>gen\" (later renamed \"Move Any Mountain\" after its infectious chorus) (which went to number four).\\r ', 'https://www.facebook.com/TheShamen1/'),\n",
       " (7552, 'Pet Shop Boys', 'Neil Tennant, Chris Lowe', \"Pet Shop Boys are an English musical duo, formed in London in 1981 and consisting of Neil Tennant (main vocals, keyboards, occasional guitar) and Chr ... (349 characters truncated) ... arrangement with [l=Kobalt Label Services] for their 12th studio album which would be the band's first release on their own music imprint [l=x2 (2)].\", 'http://www.petshopboys.co.uk (Official Site)'),\n",
       " (10343, 'Tangerine Dream', None, 'Founded by the late [a=Edgar Froese], Tangerine Dream is perhaps the premier exponent of \"electronic rock\" music of the \"Berlin School\". From their \" ... (3643 characters truncated) ... se of acoustic instruments, particularly on stage. With Edgar Froese\\'s death in 2015, the band continues, but with none of its original members. \\r ', 'http://www.tangerinedream-music.com'),\n",
       " (10783, 'Beastie Boys', None, 'American hip hop band formed in New York in 1981 as a hardcore punk combo. After the success of their first hip hop track, \"Cooky Puss\" in 1983, they ... (848 characters truncated) ... 5])  – drums (1994–1995)\\r [a394805] – drums, percussion (1996–2014)\\r [a9838] ([a756781])  – disc jockey, turntablist and backing vocals (1998–2014)', 'http://www.beastieboys.com/'),\n",
       " (14457, 'Technotronic', None, 'Technotronic (started in 1989) was the restless offspring of innovative Belgian producer [a=Jo Bogaert] AKA [a=Thomas De Quincey]. He had already mad ... (1806 characters truncated) ... vlon in an advertising campaign) peaked at No.5 on the U.S. Billboard charts. Up until now Technotronic have retailed more than 14 million albums.\\r ', 'https://en.wikipedia.org/wiki/Technotronic')]"
      ]
     },
     "execution_count": 88,
     "metadata": {},
     "output_type": "execute_result"
    }
   ],
   "source": [
    "%%sql\n",
    "WITH artists_by_num_releases AS (\n",
    "    SELECT a.*, COUNT(DISTINCT r.release_id) AS num_releases\n",
    "    FROM artists AS a\n",
    "    JOIN released_by AS rb USING(artist_id)\n",
    "    JOIN releases AS r USING(release_id)\n",
    "    GROUP BY a.artist_id\n",
    "),\n",
    "\n",
    "artists_two_hundred AS (\n",
    "    SELECT a.*\n",
    "    FROM artists AS a\n",
    "    JOIN artists_by_num_releases AS abnr USING(artist_id)\n",
    "    WHERE abnr.num_releases > 200\n",
    "),\n",
    "\n",
    "artists_pop AS (\n",
    "    SELECT a.*\n",
    "    FROM artists AS a\n",
    "    JOIN released_by AS rb USING(artist_id)\n",
    "    JOIN releases AS r USING(release_id)\n",
    "    WHERE r.genre = 'Pop'\n",
    ")\n",
    "\n",
    "SELECT ath.*\n",
    "FROM artists_two_hundred AS ath\n",
    "EXCEPT\n",
    "SELECT ap.*\n",
    "FROM artists_pop AS ap\n",
    "LIMIT 10\n"
   ]
  },
  {
   "cell_type": "markdown",
   "metadata": {},
   "source": [
    "## Exercise 4: Discuss query patterns and language features of SQL\n",
    "1. What patterns did you use in many of the queries above? \n",
    "\n",
    "2. What is the usual pattern of an SQL query? Which operations happen pre-grouping and which ones post-grouping?\n",
    "\n",
    "3. What makes SQL a declarative language and what advantages does that have?\n",
    "\n",
    "4. What makes SQL a functional language and what advantages does that have?\n",
    "\n",
    "5. How would the denormalization we talked about previously simplify the queries?"
   ]
  },
  {
   "cell_type": "code",
   "execution_count": null,
   "metadata": {},
   "outputs": [],
   "source": []
  },
  {
   "cell_type": "markdown",
   "metadata": {},
   "source": [
    "## Exercise 5: Limits of SQL (optional)\n",
    "Explain what the following query does.\n",
    "<b>Hints</b>: The query treats the data as if it was in graph shape."
   ]
  },
  {
   "cell_type": "code",
   "execution_count": 55,
   "metadata": {},
   "outputs": [
    {
     "name": "stdout",
     "output_type": "stream",
     "text": [
      " * postgresql://postgres:***@db:5432/postgres\n",
      "23 rows affected.\n"
     ]
    },
    {
     "data": {
      "text/html": [
       "<table>\n",
       "    <thead>\n",
       "        <tr>\n",
       "            <th>left_id</th>\n",
       "            <th>left_name</th>\n",
       "            <th>right_id</th>\n",
       "            <th>right_name</th>\n",
       "            <th>distance</th>\n",
       "        </tr>\n",
       "    </thead>\n",
       "    <tbody>\n",
       "        <tr>\n",
       "            <td>29735</td>\n",
       "            <td>Coldplay</td>\n",
       "            <td>1654</td>\n",
       "            <td>DK</td>\n",
       "            <td>1</td>\n",
       "        </tr>\n",
       "        <tr>\n",
       "            <td>29735</td>\n",
       "            <td>Coldplay</td>\n",
       "            <td>392179</td>\n",
       "            <td>G Synth</td>\n",
       "            <td>1</td>\n",
       "        </tr>\n",
       "        <tr>\n",
       "            <td>29735</td>\n",
       "            <td>Coldplay</td>\n",
       "            <td>10916</td>\n",
       "            <td>Jan Johnston</td>\n",
       "            <td>1</td>\n",
       "        </tr>\n",
       "        <tr>\n",
       "            <td>29735</td>\n",
       "            <td>Coldplay</td>\n",
       "            <td>1279</td>\n",
       "            <td>Orbital</td>\n",
       "            <td>1</td>\n",
       "        </tr>\n",
       "        <tr>\n",
       "            <td>29735</td>\n",
       "            <td>Coldplay</td>\n",
       "            <td>10785</td>\n",
       "            <td>Angelo Badalamenti</td>\n",
       "            <td>2</td>\n",
       "        </tr>\n",
       "        <tr>\n",
       "            <td>29735</td>\n",
       "            <td>Coldplay</td>\n",
       "            <td>11101</td>\n",
       "            <td>Cosmic Gate</td>\n",
       "            <td>2</td>\n",
       "        </tr>\n",
       "        <tr>\n",
       "            <td>29735</td>\n",
       "            <td>Coldplay</td>\n",
       "            <td>7090</td>\n",
       "            <td>Freefall</td>\n",
       "            <td>2</td>\n",
       "        </tr>\n",
       "        <tr>\n",
       "            <td>29735</td>\n",
       "            <td>Coldplay</td>\n",
       "            <td>2604010</td>\n",
       "            <td>Jada (7)</td>\n",
       "            <td>2</td>\n",
       "        </tr>\n",
       "        <tr>\n",
       "            <td>29735</td>\n",
       "            <td>Coldplay</td>\n",
       "            <td>18836</td>\n",
       "            <td>Kirk Hammett</td>\n",
       "            <td>2</td>\n",
       "        </tr>\n",
       "        <tr>\n",
       "            <td>29735</td>\n",
       "            <td>Coldplay</td>\n",
       "            <td>11749</td>\n",
       "            <td>Knuckleheadz</td>\n",
       "            <td>2</td>\n",
       "        </tr>\n",
       "        <tr>\n",
       "            <td>29735</td>\n",
       "            <td>Coldplay</td>\n",
       "            <td>166466</td>\n",
       "            <td>Skip Raiders</td>\n",
       "            <td>2</td>\n",
       "        </tr>\n",
       "        <tr>\n",
       "            <td>29735</td>\n",
       "            <td>Coldplay</td>\n",
       "            <td>11101</td>\n",
       "            <td>Cosmic Gate</td>\n",
       "            <td>3</td>\n",
       "        </tr>\n",
       "        <tr>\n",
       "            <td>29735</td>\n",
       "            <td>Coldplay</td>\n",
       "            <td>29121</td>\n",
       "            <td>DJ Work!</td>\n",
       "            <td>3</td>\n",
       "        </tr>\n",
       "        <tr>\n",
       "            <td>29735</td>\n",
       "            <td>Coldplay</td>\n",
       "            <td>7090</td>\n",
       "            <td>Freefall</td>\n",
       "            <td>3</td>\n",
       "        </tr>\n",
       "        <tr>\n",
       "            <td>29735</td>\n",
       "            <td>Coldplay</td>\n",
       "            <td>2604010</td>\n",
       "            <td>Jada (7)</td>\n",
       "            <td>3</td>\n",
       "        </tr>\n",
       "        <tr>\n",
       "            <td>29735</td>\n",
       "            <td>Coldplay</td>\n",
       "            <td>10916</td>\n",
       "            <td>Jan Johnston</td>\n",
       "            <td>3</td>\n",
       "        </tr>\n",
       "        <tr>\n",
       "            <td>29735</td>\n",
       "            <td>Coldplay</td>\n",
       "            <td>5525</td>\n",
       "            <td>KGB</td>\n",
       "            <td>3</td>\n",
       "        </tr>\n",
       "        <tr>\n",
       "            <td>29735</td>\n",
       "            <td>Coldplay</td>\n",
       "            <td>223468</td>\n",
       "            <td>Mark N-R-G</td>\n",
       "            <td>3</td>\n",
       "        </tr>\n",
       "        <tr>\n",
       "            <td>29735</td>\n",
       "            <td>Coldplay</td>\n",
       "            <td>114414</td>\n",
       "            <td>Nemesis</td>\n",
       "            <td>3</td>\n",
       "        </tr>\n",
       "        <tr>\n",
       "            <td>29735</td>\n",
       "            <td>Coldplay</td>\n",
       "            <td>1279</td>\n",
       "            <td>Orbital</td>\n",
       "            <td>3</td>\n",
       "        </tr>\n",
       "        <tr>\n",
       "            <td>29735</td>\n",
       "            <td>Coldplay</td>\n",
       "            <td>166466</td>\n",
       "            <td>Skip Raiders</td>\n",
       "            <td>3</td>\n",
       "        </tr>\n",
       "        <tr>\n",
       "            <td>29735</td>\n",
       "            <td>Coldplay</td>\n",
       "            <td>11887</td>\n",
       "            <td>Talla 2XLC</td>\n",
       "            <td>3</td>\n",
       "        </tr>\n",
       "        <tr>\n",
       "            <td>29735</td>\n",
       "            <td>Coldplay</td>\n",
       "            <td>25501</td>\n",
       "            <td>Tillmann Uhrmacher</td>\n",
       "            <td>3</td>\n",
       "        </tr>\n",
       "    </tbody>\n",
       "</table>"
      ],
      "text/plain": [
       "[(29735, 'Coldplay', 1654, 'DK', 1),\n",
       " (29735, 'Coldplay', 392179, 'G Synth', 1),\n",
       " (29735, 'Coldplay', 10916, 'Jan Johnston', 1),\n",
       " (29735, 'Coldplay', 1279, 'Orbital', 1),\n",
       " (29735, 'Coldplay', 10785, 'Angelo Badalamenti', 2),\n",
       " (29735, 'Coldplay', 11101, 'Cosmic Gate', 2),\n",
       " (29735, 'Coldplay', 7090, 'Freefall', 2),\n",
       " (29735, 'Coldplay', 2604010, 'Jada (7)', 2),\n",
       " (29735, 'Coldplay', 18836, 'Kirk Hammett', 2),\n",
       " (29735, 'Coldplay', 11749, 'Knuckleheadz', 2),\n",
       " (29735, 'Coldplay', 166466, 'Skip Raiders', 2),\n",
       " (29735, 'Coldplay', 11101, 'Cosmic Gate', 3),\n",
       " (29735, 'Coldplay', 29121, 'DJ Work!', 3),\n",
       " (29735, 'Coldplay', 7090, 'Freefall', 3),\n",
       " (29735, 'Coldplay', 2604010, 'Jada (7)', 3),\n",
       " (29735, 'Coldplay', 10916, 'Jan Johnston', 3),\n",
       " (29735, 'Coldplay', 5525, 'KGB', 3),\n",
       " (29735, 'Coldplay', 223468, 'Mark N-R-G', 3),\n",
       " (29735, 'Coldplay', 114414, 'Nemesis', 3),\n",
       " (29735, 'Coldplay', 1279, 'Orbital', 3),\n",
       " (29735, 'Coldplay', 166466, 'Skip Raiders', 3),\n",
       " (29735, 'Coldplay', 11887, 'Talla 2XLC', 3),\n",
       " (29735, 'Coldplay', 25501, 'Tillmann Uhrmacher', 3)]"
      ]
     },
     "execution_count": 55,
     "metadata": {},
     "output_type": "execute_result"
    }
   ],
   "source": [
    "%%sql\n",
    "WITH RECURSIVE\n",
    "    X AS (SELECT 3 AS Value),\n",
    "    artist_releases AS (\n",
    "        SELECT artists.artist_id, artists.name, releases.release_id, releases.title\n",
    "        FROM artists, released_by, releases\n",
    "        WHERE artists.artist_id = released_by.artist_id\n",
    "        AND released_by.release_id = releases.release_id\n",
    "    ),\n",
    "    collaborations AS (\n",
    "        SELECT DISTINCT ar1.artist_id AS left_id, ar1.name AS left_name, \n",
    "                ar2.artist_id AS right_id, ar2.name AS right_name, 1 AS distance\n",
    "        FROM artist_releases AS ar1, artist_releases AS ar2\n",
    "        WHERE ar1.release_id = ar2.release_id\n",
    "        AND ar1.artist_id != ar2.artist_id\n",
    "    ),\n",
    "    X_hop_collaborations AS (\n",
    "        SELECT * FROM collaborations  -- base case\n",
    "        UNION\n",
    "        SELECT c1.left_id, c1.left_name, c2.right_id, c2.right_name, c1.distance + 1 AS distance\n",
    "        FROM X_hop_collaborations AS c1\n",
    "        JOIN collaborations c2 ON c1.right_id = c2.left_id\n",
    "        WHERE c1.distance < (SELECT * FROM X) AND c1.left_id != c2.right_id\n",
    "    )\n",
    "SELECT * \n",
    "FROM X_hop_collaborations\n",
    "WHERE left_name = 'Coldplay'\n",
    "ORDER BY distance, right_name;"
   ]
  },
  {
   "cell_type": "code",
   "execution_count": null,
   "metadata": {},
   "outputs": [],
   "source": []
  }
 ],
 "metadata": {
  "kernelspec": {
   "display_name": "Python 3 (ipykernel)",
   "language": "python",
   "name": "python3"
  },
  "language_info": {
   "codemirror_mode": {
    "name": "ipython",
    "version": 3
   },
   "file_extension": ".py",
   "mimetype": "text/x-python",
   "name": "python",
   "nbconvert_exporter": "python",
   "pygments_lexer": "ipython3",
   "version": "3.9.18"
  }
 },
 "nbformat": 4,
 "nbformat_minor": 4
}
