{
 "cells": [
  {
   "cell_type": "markdown",
   "metadata": {},
   "source": [
    "#### Big Data – Exercises\n",
    "\n",
    "# Fall 2024 -  Week 11 - RumbleDB"
   ]
  },
  {
   "cell_type": "markdown",
   "metadata": {},
   "source": [
    "# Moodle quiz (11.2): querying a bigger git-archive dataset\n",
    "\n",
    "You will have to submit the results of this exercise to Moodle to obtain the weekly bonus. You will need these things:\n",
    "- Something related to the query output (we will grade this)\n",
    "- The query you wrote (ungraded)"
   ]
  },
  {
   "cell_type": "markdown",
   "metadata": {},
   "source": [
    "This exercise was designed to run on the exam magic box (and tested there too). It should work on all systems, but if you run into issues there you can look at the tutorial on how to run docker on [GitHub codespaces](https://github.com/RumbleDB/bigdata-exercises/blob/master/Big_Data/exercise05/GitHub_Codespaces.pdf), or the alternative instructions in [last year's exercises](https://github.com/RumbleDB/bigdata-exercises/tree/08ba6ba6222d96003ad7bd895a71ab6c32bcc872/Big_Data/exercise11).\n",
    "\n",
    "To get started, run the cell below to properly connect jupyter with rumbleDB (don't worry about the cell, we don't expect you to know what this does)."
   ]
  },
  {
   "cell_type": "code",
   "execution_count": 1,
   "metadata": {
    "scrolled": true
   },
   "outputs": [
    {
     "name": "stdout",
     "output_type": "stream",
     "text": [
      "Requirement already satisfied: rumbledb in /usr/local/lib/python3.11/site-packages (1.17.3)\n",
      "Requirement already satisfied: requests in /usr/local/lib/python3.11/site-packages (from rumbledb) (2.32.3)\n",
      "Requirement already satisfied: jupyter in /usr/local/lib/python3.11/site-packages (from rumbledb) (1.1.1)\n",
      "Requirement already satisfied: notebook in /usr/local/lib/python3.11/site-packages (from jupyter->rumbledb) (7.2.2)\n",
      "Requirement already satisfied: jupyter-console in /usr/local/lib/python3.11/site-packages (from jupyter->rumbledb) (6.6.3)\n",
      "Requirement already satisfied: nbconvert in /usr/local/lib/python3.11/site-packages (from jupyter->rumbledb) (7.16.4)\n",
      "Requirement already satisfied: ipykernel in /usr/local/lib/python3.11/site-packages (from jupyter->rumbledb) (6.29.5)\n",
      "Requirement already satisfied: ipywidgets in /usr/local/lib/python3.11/site-packages (from jupyter->rumbledb) (8.1.5)\n",
      "Requirement already satisfied: jupyterlab in /usr/local/lib/python3.11/site-packages (from jupyter->rumbledb) (4.2.6)\n",
      "Requirement already satisfied: charset-normalizer<4,>=2 in /usr/local/lib/python3.11/site-packages (from requests->rumbledb) (3.4.0)\n",
      "Requirement already satisfied: idna<4,>=2.5 in /usr/local/lib/python3.11/site-packages (from requests->rumbledb) (3.10)\n",
      "Requirement already satisfied: urllib3<3,>=1.21.1 in /usr/local/lib/python3.11/site-packages (from requests->rumbledb) (2.2.3)\n",
      "Requirement already satisfied: certifi>=2017.4.17 in /usr/local/lib/python3.11/site-packages (from requests->rumbledb) (2024.8.30)\n",
      "Requirement already satisfied: comm>=0.1.1 in /usr/local/lib/python3.11/site-packages (from ipykernel->jupyter->rumbledb) (0.2.2)\n",
      "Requirement already satisfied: debugpy>=1.6.5 in /usr/local/lib/python3.11/site-packages (from ipykernel->jupyter->rumbledb) (1.8.9)\n",
      "Requirement already satisfied: ipython>=7.23.1 in /usr/local/lib/python3.11/site-packages (from ipykernel->jupyter->rumbledb) (8.30.0)\n",
      "Requirement already satisfied: jupyter-client>=6.1.12 in /usr/local/lib/python3.11/site-packages (from ipykernel->jupyter->rumbledb) (8.6.3)\n",
      "Requirement already satisfied: jupyter-core!=5.0.*,>=4.12 in /usr/local/lib/python3.11/site-packages (from ipykernel->jupyter->rumbledb) (5.7.2)\n",
      "Requirement already satisfied: matplotlib-inline>=0.1 in /usr/local/lib/python3.11/site-packages (from ipykernel->jupyter->rumbledb) (0.1.7)\n",
      "Requirement already satisfied: nest-asyncio in /usr/local/lib/python3.11/site-packages (from ipykernel->jupyter->rumbledb) (1.6.0)\n",
      "Requirement already satisfied: packaging in /usr/local/lib/python3.11/site-packages (from ipykernel->jupyter->rumbledb) (24.2)\n",
      "Requirement already satisfied: psutil in /usr/local/lib/python3.11/site-packages (from ipykernel->jupyter->rumbledb) (6.1.0)\n",
      "Requirement already satisfied: pyzmq>=24 in /usr/local/lib/python3.11/site-packages (from ipykernel->jupyter->rumbledb) (26.2.0)\n",
      "Requirement already satisfied: tornado>=6.1 in /usr/local/lib/python3.11/site-packages (from ipykernel->jupyter->rumbledb) (6.4.2)\n",
      "Requirement already satisfied: traitlets>=5.4.0 in /usr/local/lib/python3.11/site-packages (from ipykernel->jupyter->rumbledb) (5.14.3)\n",
      "Requirement already satisfied: widgetsnbextension~=4.0.12 in /usr/local/lib/python3.11/site-packages (from ipywidgets->jupyter->rumbledb) (4.0.13)\n",
      "Requirement already satisfied: jupyterlab-widgets~=3.0.12 in /usr/local/lib/python3.11/site-packages (from ipywidgets->jupyter->rumbledb) (3.0.13)\n",
      "Requirement already satisfied: prompt-toolkit>=3.0.30 in /usr/local/lib/python3.11/site-packages (from jupyter-console->jupyter->rumbledb) (3.0.48)\n",
      "Requirement already satisfied: pygments in /usr/local/lib/python3.11/site-packages (from jupyter-console->jupyter->rumbledb) (2.18.0)\n",
      "Requirement already satisfied: async-lru>=1.0.0 in /usr/local/lib/python3.11/site-packages (from jupyterlab->jupyter->rumbledb) (2.0.4)\n",
      "Requirement already satisfied: httpx>=0.25.0 in /usr/local/lib/python3.11/site-packages (from jupyterlab->jupyter->rumbledb) (0.28.0)\n",
      "Requirement already satisfied: jinja2>=3.0.3 in /usr/local/lib/python3.11/site-packages (from jupyterlab->jupyter->rumbledb) (3.1.4)\n",
      "Requirement already satisfied: jupyter-lsp>=2.0.0 in /usr/local/lib/python3.11/site-packages (from jupyterlab->jupyter->rumbledb) (2.2.5)\n",
      "Requirement already satisfied: jupyter-server<3,>=2.4.0 in /usr/local/lib/python3.11/site-packages (from jupyterlab->jupyter->rumbledb) (2.14.2)\n",
      "Requirement already satisfied: jupyterlab-server<3,>=2.27.1 in /usr/local/lib/python3.11/site-packages (from jupyterlab->jupyter->rumbledb) (2.27.3)\n",
      "Requirement already satisfied: notebook-shim>=0.2 in /usr/local/lib/python3.11/site-packages (from jupyterlab->jupyter->rumbledb) (0.2.4)\n",
      "Requirement already satisfied: setuptools>=40.1.0 in /usr/local/lib/python3.11/site-packages (from jupyterlab->jupyter->rumbledb) (65.5.1)\n",
      "Requirement already satisfied: beautifulsoup4 in /usr/local/lib/python3.11/site-packages (from nbconvert->jupyter->rumbledb) (4.12.3)\n",
      "Requirement already satisfied: bleach!=5.0.0 in /usr/local/lib/python3.11/site-packages (from nbconvert->jupyter->rumbledb) (6.2.0)\n",
      "Requirement already satisfied: defusedxml in /usr/local/lib/python3.11/site-packages (from nbconvert->jupyter->rumbledb) (0.7.1)\n",
      "Requirement already satisfied: jupyterlab-pygments in /usr/local/lib/python3.11/site-packages (from nbconvert->jupyter->rumbledb) (0.3.0)\n",
      "Requirement already satisfied: markupsafe>=2.0 in /usr/local/lib/python3.11/site-packages (from nbconvert->jupyter->rumbledb) (3.0.2)\n",
      "Requirement already satisfied: mistune<4,>=2.0.3 in /usr/local/lib/python3.11/site-packages (from nbconvert->jupyter->rumbledb) (3.0.2)\n",
      "Requirement already satisfied: nbclient>=0.5.0 in /usr/local/lib/python3.11/site-packages (from nbconvert->jupyter->rumbledb) (0.10.1)\n",
      "Requirement already satisfied: nbformat>=5.7 in /usr/local/lib/python3.11/site-packages (from nbconvert->jupyter->rumbledb) (5.10.4)\n",
      "Requirement already satisfied: pandocfilters>=1.4.1 in /usr/local/lib/python3.11/site-packages (from nbconvert->jupyter->rumbledb) (1.5.1)\n",
      "Requirement already satisfied: tinycss2 in /usr/local/lib/python3.11/site-packages (from nbconvert->jupyter->rumbledb) (1.4.0)\n",
      "Requirement already satisfied: webencodings in /usr/local/lib/python3.11/site-packages (from bleach!=5.0.0->nbconvert->jupyter->rumbledb) (0.5.1)\n",
      "Requirement already satisfied: anyio in /usr/local/lib/python3.11/site-packages (from httpx>=0.25.0->jupyterlab->jupyter->rumbledb) (4.6.2.post1)\n",
      "Requirement already satisfied: httpcore==1.* in /usr/local/lib/python3.11/site-packages (from httpx>=0.25.0->jupyterlab->jupyter->rumbledb) (1.0.7)\n",
      "Requirement already satisfied: h11<0.15,>=0.13 in /usr/local/lib/python3.11/site-packages (from httpcore==1.*->httpx>=0.25.0->jupyterlab->jupyter->rumbledb) (0.14.0)\n",
      "Requirement already satisfied: decorator in /usr/local/lib/python3.11/site-packages (from ipython>=7.23.1->ipykernel->jupyter->rumbledb) (5.1.1)\n",
      "Requirement already satisfied: jedi>=0.16 in /usr/local/lib/python3.11/site-packages (from ipython>=7.23.1->ipykernel->jupyter->rumbledb) (0.19.2)\n",
      "Requirement already satisfied: pexpect>4.3 in /usr/local/lib/python3.11/site-packages (from ipython>=7.23.1->ipykernel->jupyter->rumbledb) (4.9.0)\n",
      "Requirement already satisfied: stack_data in /usr/local/lib/python3.11/site-packages (from ipython>=7.23.1->ipykernel->jupyter->rumbledb) (0.6.3)\n",
      "Requirement already satisfied: typing_extensions>=4.6 in /usr/local/lib/python3.11/site-packages (from ipython>=7.23.1->ipykernel->jupyter->rumbledb) (4.12.2)\n",
      "Requirement already satisfied: python-dateutil>=2.8.2 in /usr/local/lib/python3.11/site-packages (from jupyter-client>=6.1.12->ipykernel->jupyter->rumbledb) (2.9.0.post0)\n",
      "Requirement already satisfied: platformdirs>=2.5 in /usr/local/lib/python3.11/site-packages (from jupyter-core!=5.0.*,>=4.12->ipykernel->jupyter->rumbledb) (4.3.6)\n",
      "Requirement already satisfied: argon2-cffi>=21.1 in /usr/local/lib/python3.11/site-packages (from jupyter-server<3,>=2.4.0->jupyterlab->jupyter->rumbledb) (23.1.0)\n",
      "Requirement already satisfied: jupyter-events>=0.9.0 in /usr/local/lib/python3.11/site-packages (from jupyter-server<3,>=2.4.0->jupyterlab->jupyter->rumbledb) (0.10.0)\n",
      "Requirement already satisfied: jupyter-server-terminals>=0.4.4 in /usr/local/lib/python3.11/site-packages (from jupyter-server<3,>=2.4.0->jupyterlab->jupyter->rumbledb) (0.5.3)\n",
      "Requirement already satisfied: overrides>=5.0 in /usr/local/lib/python3.11/site-packages (from jupyter-server<3,>=2.4.0->jupyterlab->jupyter->rumbledb) (7.7.0)\n",
      "Requirement already satisfied: prometheus-client>=0.9 in /usr/local/lib/python3.11/site-packages (from jupyter-server<3,>=2.4.0->jupyterlab->jupyter->rumbledb) (0.21.1)\n",
      "Requirement already satisfied: send2trash>=1.8.2 in /usr/local/lib/python3.11/site-packages (from jupyter-server<3,>=2.4.0->jupyterlab->jupyter->rumbledb) (1.8.3)\n",
      "Requirement already satisfied: terminado>=0.8.3 in /usr/local/lib/python3.11/site-packages (from jupyter-server<3,>=2.4.0->jupyterlab->jupyter->rumbledb) (0.18.1)\n",
      "Requirement already satisfied: websocket-client>=1.7 in /usr/local/lib/python3.11/site-packages (from jupyter-server<3,>=2.4.0->jupyterlab->jupyter->rumbledb) (1.8.0)\n",
      "Requirement already satisfied: babel>=2.10 in /usr/local/lib/python3.11/site-packages (from jupyterlab-server<3,>=2.27.1->jupyterlab->jupyter->rumbledb) (2.16.0)\n",
      "Requirement already satisfied: json5>=0.9.0 in /usr/local/lib/python3.11/site-packages (from jupyterlab-server<3,>=2.27.1->jupyterlab->jupyter->rumbledb) (0.10.0)\n",
      "Requirement already satisfied: jsonschema>=4.18.0 in /usr/local/lib/python3.11/site-packages (from jupyterlab-server<3,>=2.27.1->jupyterlab->jupyter->rumbledb) (4.23.0)\n",
      "Requirement already satisfied: fastjsonschema>=2.15 in /usr/local/lib/python3.11/site-packages (from nbformat>=5.7->nbconvert->jupyter->rumbledb) (2.21.1)\n",
      "Requirement already satisfied: wcwidth in /usr/local/lib/python3.11/site-packages (from prompt-toolkit>=3.0.30->jupyter-console->jupyter->rumbledb) (0.2.13)\n",
      "Requirement already satisfied: soupsieve>1.2 in /usr/local/lib/python3.11/site-packages (from beautifulsoup4->nbconvert->jupyter->rumbledb) (2.6)\n",
      "Requirement already satisfied: sniffio>=1.1 in /usr/local/lib/python3.11/site-packages (from anyio->httpx>=0.25.0->jupyterlab->jupyter->rumbledb) (1.3.1)\n",
      "Requirement already satisfied: argon2-cffi-bindings in /usr/local/lib/python3.11/site-packages (from argon2-cffi>=21.1->jupyter-server<3,>=2.4.0->jupyterlab->jupyter->rumbledb) (21.2.0)\n",
      "Requirement already satisfied: parso<0.9.0,>=0.8.4 in /usr/local/lib/python3.11/site-packages (from jedi>=0.16->ipython>=7.23.1->ipykernel->jupyter->rumbledb) (0.8.4)\n",
      "Requirement already satisfied: attrs>=22.2.0 in /usr/local/lib/python3.11/site-packages (from jsonschema>=4.18.0->jupyterlab-server<3,>=2.27.1->jupyterlab->jupyter->rumbledb) (24.2.0)\n",
      "Requirement already satisfied: jsonschema-specifications>=2023.03.6 in /usr/local/lib/python3.11/site-packages (from jsonschema>=4.18.0->jupyterlab-server<3,>=2.27.1->jupyterlab->jupyter->rumbledb) (2024.10.1)\n",
      "Requirement already satisfied: referencing>=0.28.4 in /usr/local/lib/python3.11/site-packages (from jsonschema>=4.18.0->jupyterlab-server<3,>=2.27.1->jupyterlab->jupyter->rumbledb) (0.35.1)\n",
      "Requirement already satisfied: rpds-py>=0.7.1 in /usr/local/lib/python3.11/site-packages (from jsonschema>=4.18.0->jupyterlab-server<3,>=2.27.1->jupyterlab->jupyter->rumbledb) (0.22.1)\n",
      "Requirement already satisfied: python-json-logger>=2.0.4 in /usr/local/lib/python3.11/site-packages (from jupyter-events>=0.9.0->jupyter-server<3,>=2.4.0->jupyterlab->jupyter->rumbledb) (2.0.7)\n",
      "Requirement already satisfied: pyyaml>=5.3 in /usr/local/lib/python3.11/site-packages (from jupyter-events>=0.9.0->jupyter-server<3,>=2.4.0->jupyterlab->jupyter->rumbledb) (6.0.2)\n",
      "Requirement already satisfied: rfc3339-validator in /usr/local/lib/python3.11/site-packages (from jupyter-events>=0.9.0->jupyter-server<3,>=2.4.0->jupyterlab->jupyter->rumbledb) (0.1.4)\n",
      "Requirement already satisfied: rfc3986-validator>=0.1.1 in /usr/local/lib/python3.11/site-packages (from jupyter-events>=0.9.0->jupyter-server<3,>=2.4.0->jupyterlab->jupyter->rumbledb) (0.1.1)\n",
      "Requirement already satisfied: ptyprocess>=0.5 in /usr/local/lib/python3.11/site-packages (from pexpect>4.3->ipython>=7.23.1->ipykernel->jupyter->rumbledb) (0.7.0)\n",
      "Requirement already satisfied: six>=1.5 in /usr/local/lib/python3.11/site-packages (from python-dateutil>=2.8.2->jupyter-client>=6.1.12->ipykernel->jupyter->rumbledb) (1.16.0)\n",
      "Requirement already satisfied: executing>=1.2.0 in /usr/local/lib/python3.11/site-packages (from stack_data->ipython>=7.23.1->ipykernel->jupyter->rumbledb) (2.1.0)\n",
      "Requirement already satisfied: asttokens>=2.1.0 in /usr/local/lib/python3.11/site-packages (from stack_data->ipython>=7.23.1->ipykernel->jupyter->rumbledb) (3.0.0)\n",
      "Requirement already satisfied: pure-eval in /usr/local/lib/python3.11/site-packages (from stack_data->ipython>=7.23.1->ipykernel->jupyter->rumbledb) (0.2.3)\n",
      "Requirement already satisfied: fqdn in /usr/local/lib/python3.11/site-packages (from jsonschema[format-nongpl]>=4.18.0->jupyter-events>=0.9.0->jupyter-server<3,>=2.4.0->jupyterlab->jupyter->rumbledb) (1.5.1)\n",
      "Requirement already satisfied: isoduration in /usr/local/lib/python3.11/site-packages (from jsonschema[format-nongpl]>=4.18.0->jupyter-events>=0.9.0->jupyter-server<3,>=2.4.0->jupyterlab->jupyter->rumbledb) (20.11.0)\n",
      "Requirement already satisfied: jsonpointer>1.13 in /usr/local/lib/python3.11/site-packages (from jsonschema[format-nongpl]>=4.18.0->jupyter-events>=0.9.0->jupyter-server<3,>=2.4.0->jupyterlab->jupyter->rumbledb) (3.0.0)\n",
      "Requirement already satisfied: uri-template in /usr/local/lib/python3.11/site-packages (from jsonschema[format-nongpl]>=4.18.0->jupyter-events>=0.9.0->jupyter-server<3,>=2.4.0->jupyterlab->jupyter->rumbledb) (1.3.0)\n",
      "Requirement already satisfied: webcolors>=24.6.0 in /usr/local/lib/python3.11/site-packages (from jsonschema[format-nongpl]>=4.18.0->jupyter-events>=0.9.0->jupyter-server<3,>=2.4.0->jupyterlab->jupyter->rumbledb) (24.11.1)\n",
      "Requirement already satisfied: cffi>=1.0.1 in /usr/local/lib/python3.11/site-packages (from argon2-cffi-bindings->argon2-cffi>=21.1->jupyter-server<3,>=2.4.0->jupyterlab->jupyter->rumbledb) (1.17.1)\n",
      "Requirement already satisfied: pycparser in /usr/local/lib/python3.11/site-packages (from cffi>=1.0.1->argon2-cffi-bindings->argon2-cffi>=21.1->jupyter-server<3,>=2.4.0->jupyterlab->jupyter->rumbledb) (2.22)\n",
      "Requirement already satisfied: arrow>=0.15.0 in /usr/local/lib/python3.11/site-packages (from isoduration->jsonschema[format-nongpl]>=4.18.0->jupyter-events>=0.9.0->jupyter-server<3,>=2.4.0->jupyterlab->jupyter->rumbledb) (1.3.0)\n",
      "Requirement already satisfied: types-python-dateutil>=2.8.10 in /usr/local/lib/python3.11/site-packages (from arrow>=0.15.0->isoduration->jsonschema[format-nongpl]>=4.18.0->jupyter-events>=0.9.0->jupyter-server<3,>=2.4.0->jupyterlab->jupyter->rumbledb) (2.9.0.20241003)\n",
      "\u001b[33mWARNING: Running pip as the 'root' user can result in broken permissions and conflicting behaviour with the system package manager, possibly rendering your system unusable.It is recommended to use a virtual environment instead: https://pip.pypa.io/warnings/venv. Use the --root-user-action option if you know what you are doing and want to suppress this warning.\u001b[0m\u001b[33m\n",
      "\u001b[0menv: RUMBLEDB_SERVER=http://rumble:9090/jsoniq\n"
     ]
    }
   ],
   "source": [
    "!pip install rumbledb\n",
    "%load_ext rumbledb\n",
    "%env RUMBLEDB_SERVER=http://rumble:9090/jsoniq"
   ]
  },
  {
   "cell_type": "markdown",
   "metadata": {},
   "source": [
    "### Check the data\n",
    "We provide you with a bigger git-archive dataset [git-archive-big.json](https://www.rumbledb.org/samples/git-archive-big.json), you can already check that you get the correct number of records. The dataset should contain 206978 records. You can either use `wget` to download and read the dataset locally or simply read with `json-file` from the URI.\n",
    "\n",
    "We recommend running the cell below to download the data (reading it directly from the URL is slow and hard to debug using the notebook interface)."
   ]
  },
  {
   "cell_type": "code",
   "execution_count": 2,
   "metadata": {},
   "outputs": [
    {
     "name": "stdout",
     "output_type": "stream",
     "text": [
      "--2025-01-23 13:27:24--  https://www.rumbledb.org/samples/git-archive-big.json\n",
      "Resolving www.rumbledb.org (www.rumbledb.org)... 3.165.190.127, 3.165.190.108, 3.165.190.49, ...\n",
      "Connecting to www.rumbledb.org (www.rumbledb.org)|3.165.190.127|:443... connected.\n",
      "HTTP request sent, awaiting response... 200 OK\n",
      "Length: 532404791 (508M) [application/json]\n",
      "Saving to: ‘git-archive-big.json’\n",
      "\n",
      "git-archive-big.jso 100%[===================>] 507.74M   112MB/s    in 4.5s    \n",
      "\n",
      "2025-01-23 13:27:29 (112 MB/s) - ‘git-archive-big.json’ saved [532404791/532404791]\n",
      "\n"
     ]
    }
   ],
   "source": [
    "!wget https://www.rumbledb.org/samples/git-archive-big.json"
   ]
  },
  {
   "cell_type": "code",
   "execution_count": 3,
   "metadata": {},
   "outputs": [
    {
     "name": "stdout",
     "output_type": "stream",
     "text": [
      "Took: 1.5011537075042725 ms\n",
      "206978\n"
     ]
    }
   ],
   "source": [
    "%%jsoniq\n",
    "count(for $i in json-file(\"git-archive-big.json\")\n",
    "return $i)"
   ]
  },
  {
   "cell_type": "code",
   "execution_count": 4,
   "metadata": {},
   "outputs": [],
   "source": [
    "# json-file(\"https://www.rumbledb.org/samples/git-archive-big.json\") # to read it from the URL"
   ]
  },
  {
   "cell_type": "code",
   "execution_count": 5,
   "metadata": {},
   "outputs": [
    {
     "name": "stdout",
     "output_type": "stream",
     "text": [
      "Took: 0.8167319297790527 ms\n",
      "\"PullRequestEvent\"\n",
      "\"MemberEvent\"\n",
      "\"PushEvent\"\n",
      "\"IssuesEvent\"\n",
      "\"PublicEvent\"\n",
      "\"CommitCommentEvent\"\n",
      "\"ReleaseEvent\"\n",
      "\"IssueCommentEvent\"\n",
      "\"ForkEvent\"\n",
      "\"GollumEvent\"\n",
      "\"WatchEvent\"\n",
      "\"PullRequestReviewCommentEvent\"\n",
      "\"CreateEvent\"\n",
      "\"DeleteEvent\"\n"
     ]
    }
   ],
   "source": [
    "%%jsoniq\n",
    "distinct-values(json-file(\"git-archive-big.json\").type)"
   ]
  },
  {
   "cell_type": "markdown",
   "metadata": {},
   "source": [
    "## Question 1: Give the login name of the two actors that committed to master the most in PushEvent events.\n",
    "\n",
    "Write the two names, separated by a comma with no space in between them.\n",
    "\n",
    "Hint: Note that all commits in a push event are stored in a list (you should count those as distinct commits)."
   ]
  },
  {
   "cell_type": "code",
   "execution_count": 7,
   "metadata": {},
   "outputs": [
    {
     "name": "stdout",
     "output_type": "stream",
     "text": [
      "Took: 0.7827973365783691 ms\n",
      "\"repo\"\n",
      "\"org\"\n",
      "\"actor\"\n",
      "\"public\"\n",
      "\"type\"\n",
      "\"created_at\"\n",
      "\"id\"\n",
      "\"payload\"\n"
     ]
    }
   ],
   "source": [
    "%%jsoniq\n",
    "let $path as string := \"git-archive-big.json\"\n",
    "let $events := json-file($path)\n",
    "return keys($events)"
   ]
  },
  {
   "cell_type": "code",
   "execution_count": 8,
   "metadata": {},
   "outputs": [
    {
     "name": "stdout",
     "output_type": "stream",
     "text": [
      "Took: 0.7545630931854248 ms\n",
      "\"gravatar_id\"\n",
      "\"login\"\n",
      "\"avatar_url\"\n",
      "\"id\"\n",
      "\"url\"\n"
     ]
    }
   ],
   "source": [
    "%%jsoniq\n",
    "let $path as string := \"git-archive-big.json\"\n",
    "let $events := json-file($path)\n",
    "return keys($events.actor)"
   ]
  },
  {
   "cell_type": "code",
   "execution_count": 9,
   "metadata": {},
   "outputs": [
    {
     "name": "stdout",
     "output_type": "stream",
     "text": [
      "Took: 0.7732892036437988 ms\n",
      "\"push_id\"\n",
      "\"head\"\n",
      "\"size\"\n",
      "\"pusher_type\"\n",
      "\"forkee\"\n",
      "\"ref\"\n",
      "\"distinct_size\"\n",
      "\"pages\"\n",
      "\"pull_request\"\n",
      "\"ref_type\"\n",
      "\"action\"\n",
      "\"release\"\n",
      "\"issue\"\n",
      "\"number\"\n",
      "\"member\"\n",
      "\"commits\"\n",
      "\"description\"\n",
      "\"before\"\n",
      "\"master_branch\"\n",
      "\"comment\"\n"
     ]
    }
   ],
   "source": [
    "%%jsoniq\n",
    "let $path as string := \"git-archive-big.json\"\n",
    "let $events := json-file($path)\n",
    "return keys($events.payload)"
   ]
  },
  {
   "cell_type": "code",
   "execution_count": 36,
   "metadata": {},
   "outputs": [
    {
     "name": "stdout",
     "output_type": "stream",
     "text": [
      "Took: 0.03875374794006348 ms\n",
      "{\"push_id\": 536740396, \"size\": 1, \"distinct_size\": 1, \"ref\": \"refs/heads/master\", \"head\": \"a9b22a6d80c1e0bb49c1cf75a3c075b642c28f81\", \"before\": \"86ffa724b4d70fce46e760f8cc080f5ec3d7d85f\", \"commits\": [{\"sha\": \"a9b22a6d80c1e0bb49c1cf75a3c075b642c28f81\", \"author\": {\"email\": \"da8d7d1118ca5befd4d0d3e4f449c76ba6f1ee7e@live.com\", \"name\": \"davidjhulse\"}, \"message\": \"Altered BingBot.jar\\n\\nFixed issue with multiple account support\", \"distinct\": true, \"url\": \"https://api.github.com/repos/davidjhulse/davesbingrewardsbot/commits/a9b22a6d80c1e0bb49c1cf75a3c075b642c28f81\"}]}\n"
     ]
    }
   ],
   "source": [
    "%%jsoniq\n",
    "let $path as string := \"git-archive-big.json\"\n",
    "let $events := json-file($path)\n",
    "return $events[$$.type eq \"PushEvent\"].payload[1]"
   ]
  },
  {
   "cell_type": "code",
   "execution_count": 10,
   "metadata": {},
   "outputs": [
    {
     "name": "stdout",
     "output_type": "stream",
     "text": [
      "Took: 0.7553353309631348 ms\n",
      "\"message\"\n",
      "\"author\"\n",
      "\"sha\"\n",
      "\"distinct\"\n",
      "\"url\"\n"
     ]
    }
   ],
   "source": [
    "%%jsoniq\n",
    "let $path as string := \"git-archive-big.json\"\n",
    "let $events := json-file($path)\n",
    "return keys($events.payload.commits[])"
   ]
  },
  {
   "cell_type": "code",
   "execution_count": 17,
   "metadata": {},
   "outputs": [
    {
     "name": "stdout",
     "output_type": "stream",
     "text": [
      "Took: 0.03885340690612793 ms\n",
      "{\"name\": \"davidjhulse\", \"commits\": [{\"sha\": \"a9b22a6d80c1e0bb49c1cf75a3c075b642c28f81\", \"author\": {\"email\": \"da8d7d1118ca5befd4d0d3e4f449c76ba6f1ee7e@live.com\", \"name\": \"davidjhulse\"}, \"message\": \"Altered BingBot.jar\\n\\nFixed issue with multiple account support\", \"distinct\": true, \"url\": \"https://api.github.com/repos/davidjhulse/davesbingrewardsbot/commits/a9b22a6d80c1e0bb49c1cf75a3c075b642c28f81\"}]}\n"
     ]
    }
   ],
   "source": [
    "%%jsoniq\n",
    "let $path as string := \"git-archive-big.json\"\n",
    "let $events := json-file($path)\n",
    "let $event := $events[$$.type eq \"PushEvent\"][1]\n",
    "return { \"name\" : $event.actor.login, \"commits\": $event.payload.commits }"
   ]
  },
  {
   "cell_type": "code",
   "execution_count": 19,
   "metadata": {
    "scrolled": true
   },
   "outputs": [
    {
     "name": "stdout",
     "output_type": "stream",
     "text": [
      "Took: 1.796821117401123 ms\n",
      "{\"name\": \"davidjhulse\", \"commits\": [[{\"sha\": \"8c8e4d569815d7e9a9174d26b8fda883afa11021\", \"author\": {\"email\": \"da8d7d1118ca5befd4d0d3e4f449c76ba6f1ee7e@live.com\", \"name\": \"davidjhulse\"}, \"message\": \"Altered BingBot.jar Again\\n\\nSwapped it for the real deal\", \"distinct\": true, \"url\": \"https://api.github.com/repos/davidjhulse/davesbingrewardsbot/commits/8c8e4d569815d7e9a9174d26b8fda883afa11021\"}], [{\"sha\": \"a9b22a6d80c1e0bb49c1cf75a3c075b642c28f81\", \"author\": {\"email\": \"da8d7d1118ca5befd4d0d3e4f449c76ba6f1ee7e@live.com\", \"name\": \"davidjhulse\"}, \"message\": \"Altered BingBot.jar\\n\\nFixed issue with multiple account support\", \"distinct\": true, \"url\": \"https://api.github.com/repos/davidjhulse/davesbingrewardsbot/commits/a9b22a6d80c1e0bb49c1cf75a3c075b642c28f81\"}]]}\n"
     ]
    }
   ],
   "source": [
    "%%jsoniq\n",
    "let $path as string := \"git-archive-big.json\"\n",
    "let $events := json-file($path)\n",
    "for $event in $events\n",
    "where $event.type eq \"PushEvent\"\n",
    "group by $name := $event.actor.login\n",
    "let $commits := $event.payload.commits\n",
    "where $name eq \"davidjhulse\"\n",
    "count $c\n",
    "where $c le 2\n",
    "return { \"name\" : $name, \"commits\" : $commits }"
   ]
  },
  {
   "cell_type": "code",
   "execution_count": 20,
   "metadata": {},
   "outputs": [
    {
     "name": "stdout",
     "output_type": "stream",
     "text": [
      "Took: 2.8177366256713867 ms\n",
      "{\"name\": \"kinlane\", \"num-commits\": 3843}\n",
      "{\"name\": \"KenanSulayman\", \"num-commits\": 1832}\n"
     ]
    }
   ],
   "source": [
    "%%jsoniq\n",
    "let $path as string := \"git-archive-big.json\"\n",
    "let $events := json-file($path)\n",
    "for $event in $events\n",
    "where $event.type eq \"PushEvent\"\n",
    "group by $name := $event.actor.login\n",
    "let $num-commits := count($event.payload.commits)\n",
    "order by $num-commits descending\n",
    "count $c\n",
    "where $c le 2\n",
    "return { \"name\" : $name, \"num-commits\" : $num-commits }"
   ]
  },
  {
   "cell_type": "markdown",
   "metadata": {},
   "source": [
    "Above is wrong because I forgot to filter by pushes to master!"
   ]
  },
  {
   "cell_type": "code",
   "execution_count": 37,
   "metadata": {},
   "outputs": [
    {
     "name": "stdout",
     "output_type": "stream",
     "text": [
      "Took: 2.7198431491851807 ms\n",
      "{\"name\": \"KenanSulayman\", \"num-commits\": 1832}\n",
      "{\"name\": \"qdm\", \"num-commits\": 673}\n"
     ]
    }
   ],
   "source": [
    "%%jsoniq\n",
    "let $path as string := \"git-archive-big.json\"\n",
    "let $events := json-file($path)\n",
    "for $event in $events\n",
    "where $event.type eq \"PushEvent\"\n",
    "where $event.payload.ref eq \"refs/heads/master\"\n",
    "group by $name := $event.actor.login\n",
    "let $num-commits := count($event.payload.commits)\n",
    "order by $num-commits descending\n",
    "count $c\n",
    "where $c le 2\n",
    "return { \"name\" : $name, \"num-commits\" : $num-commits }"
   ]
  },
  {
   "cell_type": "markdown",
   "metadata": {},
   "source": [
    "Above is wrong because i need to unfold the array into a sequence..."
   ]
  },
  {
   "cell_type": "code",
   "execution_count": 38,
   "metadata": {},
   "outputs": [
    {
     "name": "stdout",
     "output_type": "stream",
     "text": [
      "Took: 2.660771131515503 ms\n",
      "{\"name\": \"mirror-updates\", \"num-commits\": 2530}\n",
      "{\"name\": \"KenanSulayman\", \"num-commits\": 1832}\n"
     ]
    }
   ],
   "source": [
    "%%jsoniq\n",
    "let $path as string := \"git-archive-big.json\"\n",
    "let $events := json-file($path)\n",
    "for $event in $events\n",
    "where $event.type eq \"PushEvent\"\n",
    "where $event.payload.ref eq \"refs/heads/master\"\n",
    "group by $name := $event.actor.login\n",
    "let $num-commits := count($event.payload.commits[])\n",
    "order by $num-commits descending\n",
    "count $c\n",
    "where $c le 2\n",
    "return { \"name\" : $name, \"num-commits\" : $num-commits }"
   ]
  },
  {
   "cell_type": "markdown",
   "metadata": {},
   "source": [
    "## Question 2: For how many repos do we have both a creation and deletion event in the data?\n",
    "\n",
    "Write the number and nothing else."
   ]
  },
  {
   "cell_type": "code",
   "execution_count": 21,
   "metadata": {},
   "outputs": [
    {
     "name": "stdout",
     "output_type": "stream",
     "text": [
      "Took: 0.7448616027832031 ms\n",
      "\"repo\"\n",
      "\"org\"\n",
      "\"actor\"\n",
      "\"public\"\n",
      "\"type\"\n",
      "\"created_at\"\n",
      "\"id\"\n",
      "\"payload\"\n"
     ]
    }
   ],
   "source": [
    "%%jsoniq\n",
    "let $path as string := \"git-archive-big.json\"\n",
    "let $events := json-file($path)\n",
    "return keys($events)"
   ]
  },
  {
   "cell_type": "code",
   "execution_count": 22,
   "metadata": {},
   "outputs": [
    {
     "name": "stdout",
     "output_type": "stream",
     "text": [
      "Took: 0.7668747901916504 ms\n",
      "\"name\"\n",
      "\"id\"\n",
      "\"url\"\n"
     ]
    }
   ],
   "source": [
    "%%jsoniq\n",
    "let $path as string := \"git-archive-big.json\"\n",
    "let $events := json-file($path)\n",
    "return keys($events.repo)"
   ]
  },
  {
   "cell_type": "code",
   "execution_count": 23,
   "metadata": {},
   "outputs": [
    {
     "name": "stdout",
     "output_type": "stream",
     "text": [
      "Took: 0.77705979347229 ms\n",
      "\"PullRequestEvent\"\n",
      "\"MemberEvent\"\n",
      "\"PushEvent\"\n",
      "\"IssuesEvent\"\n",
      "\"PublicEvent\"\n",
      "\"CommitCommentEvent\"\n",
      "\"ReleaseEvent\"\n",
      "\"IssueCommentEvent\"\n",
      "\"ForkEvent\"\n",
      "\"GollumEvent\"\n",
      "\"WatchEvent\"\n",
      "\"PullRequestReviewCommentEvent\"\n",
      "\"CreateEvent\"\n",
      "\"DeleteEvent\"\n"
     ]
    }
   ],
   "source": [
    "%%jsoniq\n",
    "let $path as string := \"git-archive-big.json\"\n",
    "let $events := json-file($path)\n",
    "return distinct-values($events.type)"
   ]
  },
  {
   "cell_type": "code",
   "execution_count": 24,
   "metadata": {},
   "outputs": [
    {
     "name": "stdout",
     "output_type": "stream",
     "text": [
      "Took: 2.980253219604492 ms\n",
      "1242\n"
     ]
    }
   ],
   "source": [
    "%%jsoniq\n",
    "let $path as string := \"git-archive-big.json\"\n",
    "let $events := json-file($path)\n",
    "let $repos :=\n",
    "    for $event in $events\n",
    "    group by $repo-id := $event.repo.id\n",
    "    let $types := $event.type\n",
    "    where \"CreateEvent\" = $types\n",
    "    where \"DeleteEvent\" = $types\n",
    "    return $repo-id\n",
    "return count(distinct-values($repos))"
   ]
  },
  {
   "cell_type": "code",
   "execution_count": 27,
   "metadata": {},
   "outputs": [
    {
     "name": "stdout",
     "output_type": "stream",
     "text": [
      "Took: 2.44370698928833 ms\n",
      "1241\n"
     ]
    }
   ],
   "source": [
    "%%jsoniq\n",
    "let $path as string := \"git-archive-big.json\"\n",
    "let $events := json-file($path)\n",
    "let $repos :=\n",
    "    for $event in $events\n",
    "    group by $repo-id := $event.repo.url\n",
    "    let $types := $event.type\n",
    "    where \"CreateEvent\" = $types\n",
    "    where \"DeleteEvent\" = $types\n",
    "    return $repo-id\n",
    "return count(distinct-values($repos))"
   ]
  },
  {
   "cell_type": "code",
   "execution_count": 29,
   "metadata": {},
   "outputs": [
    {
     "name": "stdout",
     "output_type": "stream",
     "text": [
      "Took: 2.445394515991211 ms\n",
      "1241\n"
     ]
    }
   ],
   "source": [
    "%%jsoniq\n",
    "let $path as string := \"git-archive-big.json\"\n",
    "let $events := json-file($path)\n",
    "let $repos :=\n",
    "    for $event in $events\n",
    "    group by $repo-id := $event.repo.name\n",
    "    let $types := $event.type\n",
    "    where \"CreateEvent\" = $types\n",
    "    where \"DeleteEvent\" = $types\n",
    "    return $repo-id\n",
    "return count(distinct-values($repos))"
   ]
  },
  {
   "cell_type": "code",
   "execution_count": null,
   "metadata": {},
   "outputs": [],
   "source": []
  },
  {
   "cell_type": "markdown",
   "metadata": {},
   "source": [
    "## Question 3: Which repository has the highest number of people pushing to it?\n",
    "\n",
    "Give both the repository id and the number of people, separated by a comma with spaces in between.\n",
    "\n",
    "Hint: Differentiate users (_actors_) using their actor id."
   ]
  },
  {
   "cell_type": "code",
   "execution_count": 25,
   "metadata": {},
   "outputs": [
    {
     "name": "stdout",
     "output_type": "stream",
     "text": [
      "Took: 0.7698550224304199 ms\n",
      "\"repo\"\n",
      "\"org\"\n",
      "\"actor\"\n",
      "\"public\"\n",
      "\"type\"\n",
      "\"created_at\"\n",
      "\"id\"\n",
      "\"payload\"\n"
     ]
    }
   ],
   "source": [
    "%%jsoniq\n",
    "let $path as string := \"git-archive-big.json\"\n",
    "let $events := json-file($path)\n",
    "return keys($events)"
   ]
  },
  {
   "cell_type": "code",
   "execution_count": 26,
   "metadata": {},
   "outputs": [
    {
     "name": "stdout",
     "output_type": "stream",
     "text": [
      "Took: 0.7647500038146973 ms\n",
      "\"gravatar_id\"\n",
      "\"login\"\n",
      "\"avatar_url\"\n",
      "\"id\"\n",
      "\"url\"\n"
     ]
    }
   ],
   "source": [
    "%%jsoniq\n",
    "let $path as string := \"git-archive-big.json\"\n",
    "let $events := json-file($path)\n",
    "return keys($events.actor)"
   ]
  },
  {
   "cell_type": "code",
   "execution_count": 33,
   "metadata": {},
   "outputs": [
    {
     "name": "stdout",
     "output_type": "stream",
     "text": [
      "Took: 3.5710954666137695 ms\n",
      "\"odoo-dev/odoo\"\n"
     ]
    }
   ],
   "source": [
    "%%jsoniq\n",
    "let $path as string := \"git-archive-big.json\"\n",
    "let $events := json-file($path)\n",
    "for $event in $events\n",
    "where $event.type eq \"PushEvent\"\n",
    "group by $repo-name := $event.repo.name\n",
    "let $num-actors := count(distinct-values($event.actor.id))\n",
    "order by $num-actors descending\n",
    "count $c\n",
    "where $c = 1\n",
    "return $repo-name"
   ]
  },
  {
   "cell_type": "code",
   "execution_count": 39,
   "metadata": {},
   "outputs": [
    {
     "name": "stdout",
     "output_type": "stream",
     "text": [
      "Took: 3.4483160972595215 ms\n",
      "19853934\n"
     ]
    }
   ],
   "source": [
    "%%jsoniq\n",
    "let $path as string := \"git-archive-big.json\"\n",
    "let $events := json-file($path)\n",
    "for $event in $events\n",
    "where $event.type eq \"PushEvent\"\n",
    "group by $repo-name := $event.repo.id\n",
    "let $num-actors := count(distinct-values($event.actor.id))\n",
    "order by $num-actors descending\n",
    "count $c\n",
    "where $c = 1\n",
    "return $repo-name"
   ]
  },
  {
   "cell_type": "code",
   "execution_count": null,
   "metadata": {},
   "outputs": [],
   "source": []
  }
 ],
 "metadata": {
  "anaconda-cloud": {},
  "kernelspec": {
   "display_name": "Python 3 (ipykernel)",
   "language": "python",
   "name": "python3"
  },
  "language_info": {
   "codemirror_mode": {
    "name": "ipython",
    "version": 3
   },
   "file_extension": ".py",
   "mimetype": "text/x-python",
   "name": "python",
   "nbconvert_exporter": "python",
   "pygments_lexer": "ipython3",
   "version": "3.11.9"
  }
 },
 "nbformat": 4,
 "nbformat_minor": 4
}
