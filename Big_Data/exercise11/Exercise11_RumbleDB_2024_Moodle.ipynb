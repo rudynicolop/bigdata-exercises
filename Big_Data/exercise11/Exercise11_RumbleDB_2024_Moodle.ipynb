{
 "cells": [
  {
   "cell_type": "markdown",
   "metadata": {},
   "source": [
    "#### Big Data – Exercises\n",
    "\n",
    "# Fall 2024 -  Week 11 - RumbleDB"
   ]
  },
  {
   "cell_type": "markdown",
   "metadata": {},
   "source": [
    "# Moodle quiz (11.2): querying a bigger git-archive dataset\n",
    "\n",
    "You will have to submit the results of this exercise to Moodle to obtain the weekly bonus. You will need these things:\n",
    "- Something related to the query output (we will grade this)\n",
    "- The query you wrote (ungraded)"
   ]
  },
  {
   "cell_type": "markdown",
   "metadata": {},
   "source": [
    "This exercise was designed to run on the exam magic box (and tested there too). It should work on all systems, but if you run into issues there you can look at the tutorial on how to run docker on [GitHub codespaces](https://github.com/RumbleDB/bigdata-exercises/blob/master/Big_Data/exercise05/GitHub_Codespaces.pdf), or the alternative instructions in [last year's exercises](https://github.com/RumbleDB/bigdata-exercises/tree/08ba6ba6222d96003ad7bd895a71ab6c32bcc872/Big_Data/exercise11).\n",
    "\n",
    "To get started, run the cell below to properly connect jupyter with rumbleDB (don't worry about the cell, we don't expect you to know what this does)."
   ]
  },
  {
   "cell_type": "code",
   "execution_count": 1,
   "metadata": {},
   "outputs": [
    {
     "name": "stdout",
     "output_type": "stream",
     "text": [
      "Requirement already satisfied: rumbledb in /usr/local/lib/python3.11/site-packages (1.17.3)\n",
      "Requirement already satisfied: requests in /usr/local/lib/python3.11/site-packages (from rumbledb) (2.32.3)\n",
      "Requirement already satisfied: jupyter in /usr/local/lib/python3.11/site-packages (from rumbledb) (1.1.1)\n",
      "Requirement already satisfied: notebook in /usr/local/lib/python3.11/site-packages (from jupyter->rumbledb) (7.2.2)\n",
      "Requirement already satisfied: jupyter-console in /usr/local/lib/python3.11/site-packages (from jupyter->rumbledb) (6.6.3)\n",
      "Requirement already satisfied: nbconvert in /usr/local/lib/python3.11/site-packages (from jupyter->rumbledb) (7.16.4)\n",
      "Requirement already satisfied: ipykernel in /usr/local/lib/python3.11/site-packages (from jupyter->rumbledb) (6.29.5)\n",
      "Requirement already satisfied: ipywidgets in /usr/local/lib/python3.11/site-packages (from jupyter->rumbledb) (8.1.5)\n",
      "Requirement already satisfied: jupyterlab in /usr/local/lib/python3.11/site-packages (from jupyter->rumbledb) (4.2.6)\n",
      "Requirement already satisfied: charset-normalizer<4,>=2 in /usr/local/lib/python3.11/site-packages (from requests->rumbledb) (3.4.0)\n",
      "Requirement already satisfied: idna<4,>=2.5 in /usr/local/lib/python3.11/site-packages (from requests->rumbledb) (3.10)\n",
      "Requirement already satisfied: urllib3<3,>=1.21.1 in /usr/local/lib/python3.11/site-packages (from requests->rumbledb) (2.2.3)\n",
      "Requirement already satisfied: certifi>=2017.4.17 in /usr/local/lib/python3.11/site-packages (from requests->rumbledb) (2024.8.30)\n",
      "Requirement already satisfied: comm>=0.1.1 in /usr/local/lib/python3.11/site-packages (from ipykernel->jupyter->rumbledb) (0.2.2)\n",
      "Requirement already satisfied: debugpy>=1.6.5 in /usr/local/lib/python3.11/site-packages (from ipykernel->jupyter->rumbledb) (1.8.9)\n",
      "Requirement already satisfied: ipython>=7.23.1 in /usr/local/lib/python3.11/site-packages (from ipykernel->jupyter->rumbledb) (8.30.0)\n",
      "Requirement already satisfied: jupyter-client>=6.1.12 in /usr/local/lib/python3.11/site-packages (from ipykernel->jupyter->rumbledb) (8.6.3)\n",
      "Requirement already satisfied: jupyter-core!=5.0.*,>=4.12 in /usr/local/lib/python3.11/site-packages (from ipykernel->jupyter->rumbledb) (5.7.2)\n",
      "Requirement already satisfied: matplotlib-inline>=0.1 in /usr/local/lib/python3.11/site-packages (from ipykernel->jupyter->rumbledb) (0.1.7)\n",
      "Requirement already satisfied: nest-asyncio in /usr/local/lib/python3.11/site-packages (from ipykernel->jupyter->rumbledb) (1.6.0)\n",
      "Requirement already satisfied: packaging in /usr/local/lib/python3.11/site-packages (from ipykernel->jupyter->rumbledb) (24.2)\n",
      "Requirement already satisfied: psutil in /usr/local/lib/python3.11/site-packages (from ipykernel->jupyter->rumbledb) (6.1.0)\n",
      "Requirement already satisfied: pyzmq>=24 in /usr/local/lib/python3.11/site-packages (from ipykernel->jupyter->rumbledb) (26.2.0)\n",
      "Requirement already satisfied: tornado>=6.1 in /usr/local/lib/python3.11/site-packages (from ipykernel->jupyter->rumbledb) (6.4.2)\n",
      "Requirement already satisfied: traitlets>=5.4.0 in /usr/local/lib/python3.11/site-packages (from ipykernel->jupyter->rumbledb) (5.14.3)\n",
      "Requirement already satisfied: widgetsnbextension~=4.0.12 in /usr/local/lib/python3.11/site-packages (from ipywidgets->jupyter->rumbledb) (4.0.13)\n",
      "Requirement already satisfied: jupyterlab-widgets~=3.0.12 in /usr/local/lib/python3.11/site-packages (from ipywidgets->jupyter->rumbledb) (3.0.13)\n",
      "Requirement already satisfied: prompt-toolkit>=3.0.30 in /usr/local/lib/python3.11/site-packages (from jupyter-console->jupyter->rumbledb) (3.0.48)\n",
      "Requirement already satisfied: pygments in /usr/local/lib/python3.11/site-packages (from jupyter-console->jupyter->rumbledb) (2.18.0)\n",
      "Requirement already satisfied: async-lru>=1.0.0 in /usr/local/lib/python3.11/site-packages (from jupyterlab->jupyter->rumbledb) (2.0.4)\n",
      "Requirement already satisfied: httpx>=0.25.0 in /usr/local/lib/python3.11/site-packages (from jupyterlab->jupyter->rumbledb) (0.28.0)\n",
      "Requirement already satisfied: jinja2>=3.0.3 in /usr/local/lib/python3.11/site-packages (from jupyterlab->jupyter->rumbledb) (3.1.4)\n",
      "Requirement already satisfied: jupyter-lsp>=2.0.0 in /usr/local/lib/python3.11/site-packages (from jupyterlab->jupyter->rumbledb) (2.2.5)\n",
      "Requirement already satisfied: jupyter-server<3,>=2.4.0 in /usr/local/lib/python3.11/site-packages (from jupyterlab->jupyter->rumbledb) (2.14.2)\n",
      "Requirement already satisfied: jupyterlab-server<3,>=2.27.1 in /usr/local/lib/python3.11/site-packages (from jupyterlab->jupyter->rumbledb) (2.27.3)\n",
      "Requirement already satisfied: notebook-shim>=0.2 in /usr/local/lib/python3.11/site-packages (from jupyterlab->jupyter->rumbledb) (0.2.4)\n",
      "Requirement already satisfied: setuptools>=40.1.0 in /usr/local/lib/python3.11/site-packages (from jupyterlab->jupyter->rumbledb) (65.5.1)\n",
      "Requirement already satisfied: beautifulsoup4 in /usr/local/lib/python3.11/site-packages (from nbconvert->jupyter->rumbledb) (4.12.3)\n",
      "Requirement already satisfied: bleach!=5.0.0 in /usr/local/lib/python3.11/site-packages (from nbconvert->jupyter->rumbledb) (6.2.0)\n",
      "Requirement already satisfied: defusedxml in /usr/local/lib/python3.11/site-packages (from nbconvert->jupyter->rumbledb) (0.7.1)\n",
      "Requirement already satisfied: jupyterlab-pygments in /usr/local/lib/python3.11/site-packages (from nbconvert->jupyter->rumbledb) (0.3.0)\n",
      "Requirement already satisfied: markupsafe>=2.0 in /usr/local/lib/python3.11/site-packages (from nbconvert->jupyter->rumbledb) (3.0.2)\n",
      "Requirement already satisfied: mistune<4,>=2.0.3 in /usr/local/lib/python3.11/site-packages (from nbconvert->jupyter->rumbledb) (3.0.2)\n",
      "Requirement already satisfied: nbclient>=0.5.0 in /usr/local/lib/python3.11/site-packages (from nbconvert->jupyter->rumbledb) (0.10.1)\n",
      "Requirement already satisfied: nbformat>=5.7 in /usr/local/lib/python3.11/site-packages (from nbconvert->jupyter->rumbledb) (5.10.4)\n",
      "Requirement already satisfied: pandocfilters>=1.4.1 in /usr/local/lib/python3.11/site-packages (from nbconvert->jupyter->rumbledb) (1.5.1)\n",
      "Requirement already satisfied: tinycss2 in /usr/local/lib/python3.11/site-packages (from nbconvert->jupyter->rumbledb) (1.4.0)\n",
      "Requirement already satisfied: webencodings in /usr/local/lib/python3.11/site-packages (from bleach!=5.0.0->nbconvert->jupyter->rumbledb) (0.5.1)\n",
      "Requirement already satisfied: anyio in /usr/local/lib/python3.11/site-packages (from httpx>=0.25.0->jupyterlab->jupyter->rumbledb) (4.6.2.post1)\n",
      "Requirement already satisfied: httpcore==1.* in /usr/local/lib/python3.11/site-packages (from httpx>=0.25.0->jupyterlab->jupyter->rumbledb) (1.0.7)\n",
      "Requirement already satisfied: h11<0.15,>=0.13 in /usr/local/lib/python3.11/site-packages (from httpcore==1.*->httpx>=0.25.0->jupyterlab->jupyter->rumbledb) (0.14.0)\n",
      "Requirement already satisfied: decorator in /usr/local/lib/python3.11/site-packages (from ipython>=7.23.1->ipykernel->jupyter->rumbledb) (5.1.1)\n",
      "Requirement already satisfied: jedi>=0.16 in /usr/local/lib/python3.11/site-packages (from ipython>=7.23.1->ipykernel->jupyter->rumbledb) (0.19.2)\n",
      "Requirement already satisfied: pexpect>4.3 in /usr/local/lib/python3.11/site-packages (from ipython>=7.23.1->ipykernel->jupyter->rumbledb) (4.9.0)\n",
      "Requirement already satisfied: stack_data in /usr/local/lib/python3.11/site-packages (from ipython>=7.23.1->ipykernel->jupyter->rumbledb) (0.6.3)\n",
      "Requirement already satisfied: typing_extensions>=4.6 in /usr/local/lib/python3.11/site-packages (from ipython>=7.23.1->ipykernel->jupyter->rumbledb) (4.12.2)\n",
      "Requirement already satisfied: python-dateutil>=2.8.2 in /usr/local/lib/python3.11/site-packages (from jupyter-client>=6.1.12->ipykernel->jupyter->rumbledb) (2.9.0.post0)\n",
      "Requirement already satisfied: platformdirs>=2.5 in /usr/local/lib/python3.11/site-packages (from jupyter-core!=5.0.*,>=4.12->ipykernel->jupyter->rumbledb) (4.3.6)\n",
      "Requirement already satisfied: argon2-cffi>=21.1 in /usr/local/lib/python3.11/site-packages (from jupyter-server<3,>=2.4.0->jupyterlab->jupyter->rumbledb) (23.1.0)\n",
      "Requirement already satisfied: jupyter-events>=0.9.0 in /usr/local/lib/python3.11/site-packages (from jupyter-server<3,>=2.4.0->jupyterlab->jupyter->rumbledb) (0.10.0)\n",
      "Requirement already satisfied: jupyter-server-terminals>=0.4.4 in /usr/local/lib/python3.11/site-packages (from jupyter-server<3,>=2.4.0->jupyterlab->jupyter->rumbledb) (0.5.3)\n",
      "Requirement already satisfied: overrides>=5.0 in /usr/local/lib/python3.11/site-packages (from jupyter-server<3,>=2.4.0->jupyterlab->jupyter->rumbledb) (7.7.0)\n",
      "Requirement already satisfied: prometheus-client>=0.9 in /usr/local/lib/python3.11/site-packages (from jupyter-server<3,>=2.4.0->jupyterlab->jupyter->rumbledb) (0.21.1)\n",
      "Requirement already satisfied: send2trash>=1.8.2 in /usr/local/lib/python3.11/site-packages (from jupyter-server<3,>=2.4.0->jupyterlab->jupyter->rumbledb) (1.8.3)\n",
      "Requirement already satisfied: terminado>=0.8.3 in /usr/local/lib/python3.11/site-packages (from jupyter-server<3,>=2.4.0->jupyterlab->jupyter->rumbledb) (0.18.1)\n",
      "Requirement already satisfied: websocket-client>=1.7 in /usr/local/lib/python3.11/site-packages (from jupyter-server<3,>=2.4.0->jupyterlab->jupyter->rumbledb) (1.8.0)\n",
      "Requirement already satisfied: babel>=2.10 in /usr/local/lib/python3.11/site-packages (from jupyterlab-server<3,>=2.27.1->jupyterlab->jupyter->rumbledb) (2.16.0)\n",
      "Requirement already satisfied: json5>=0.9.0 in /usr/local/lib/python3.11/site-packages (from jupyterlab-server<3,>=2.27.1->jupyterlab->jupyter->rumbledb) (0.10.0)\n",
      "Requirement already satisfied: jsonschema>=4.18.0 in /usr/local/lib/python3.11/site-packages (from jupyterlab-server<3,>=2.27.1->jupyterlab->jupyter->rumbledb) (4.23.0)\n",
      "Requirement already satisfied: fastjsonschema>=2.15 in /usr/local/lib/python3.11/site-packages (from nbformat>=5.7->nbconvert->jupyter->rumbledb) (2.21.1)\n",
      "Requirement already satisfied: wcwidth in /usr/local/lib/python3.11/site-packages (from prompt-toolkit>=3.0.30->jupyter-console->jupyter->rumbledb) (0.2.13)\n",
      "Requirement already satisfied: soupsieve>1.2 in /usr/local/lib/python3.11/site-packages (from beautifulsoup4->nbconvert->jupyter->rumbledb) (2.6)\n",
      "Requirement already satisfied: sniffio>=1.1 in /usr/local/lib/python3.11/site-packages (from anyio->httpx>=0.25.0->jupyterlab->jupyter->rumbledb) (1.3.1)\n",
      "Requirement already satisfied: argon2-cffi-bindings in /usr/local/lib/python3.11/site-packages (from argon2-cffi>=21.1->jupyter-server<3,>=2.4.0->jupyterlab->jupyter->rumbledb) (21.2.0)\n",
      "Requirement already satisfied: parso<0.9.0,>=0.8.4 in /usr/local/lib/python3.11/site-packages (from jedi>=0.16->ipython>=7.23.1->ipykernel->jupyter->rumbledb) (0.8.4)\n",
      "Requirement already satisfied: attrs>=22.2.0 in /usr/local/lib/python3.11/site-packages (from jsonschema>=4.18.0->jupyterlab-server<3,>=2.27.1->jupyterlab->jupyter->rumbledb) (24.2.0)\n",
      "Requirement already satisfied: jsonschema-specifications>=2023.03.6 in /usr/local/lib/python3.11/site-packages (from jsonschema>=4.18.0->jupyterlab-server<3,>=2.27.1->jupyterlab->jupyter->rumbledb) (2024.10.1)\n",
      "Requirement already satisfied: referencing>=0.28.4 in /usr/local/lib/python3.11/site-packages (from jsonschema>=4.18.0->jupyterlab-server<3,>=2.27.1->jupyterlab->jupyter->rumbledb) (0.35.1)\n",
      "Requirement already satisfied: rpds-py>=0.7.1 in /usr/local/lib/python3.11/site-packages (from jsonschema>=4.18.0->jupyterlab-server<3,>=2.27.1->jupyterlab->jupyter->rumbledb) (0.22.1)\n",
      "Requirement already satisfied: python-json-logger>=2.0.4 in /usr/local/lib/python3.11/site-packages (from jupyter-events>=0.9.0->jupyter-server<3,>=2.4.0->jupyterlab->jupyter->rumbledb) (2.0.7)\n",
      "Requirement already satisfied: pyyaml>=5.3 in /usr/local/lib/python3.11/site-packages (from jupyter-events>=0.9.0->jupyter-server<3,>=2.4.0->jupyterlab->jupyter->rumbledb) (6.0.2)\n",
      "Requirement already satisfied: rfc3339-validator in /usr/local/lib/python3.11/site-packages (from jupyter-events>=0.9.0->jupyter-server<3,>=2.4.0->jupyterlab->jupyter->rumbledb) (0.1.4)\n",
      "Requirement already satisfied: rfc3986-validator>=0.1.1 in /usr/local/lib/python3.11/site-packages (from jupyter-events>=0.9.0->jupyter-server<3,>=2.4.0->jupyterlab->jupyter->rumbledb) (0.1.1)\n",
      "Requirement already satisfied: ptyprocess>=0.5 in /usr/local/lib/python3.11/site-packages (from pexpect>4.3->ipython>=7.23.1->ipykernel->jupyter->rumbledb) (0.7.0)\n",
      "Requirement already satisfied: six>=1.5 in /usr/local/lib/python3.11/site-packages (from python-dateutil>=2.8.2->jupyter-client>=6.1.12->ipykernel->jupyter->rumbledb) (1.16.0)\n",
      "Requirement already satisfied: executing>=1.2.0 in /usr/local/lib/python3.11/site-packages (from stack_data->ipython>=7.23.1->ipykernel->jupyter->rumbledb) (2.1.0)\n",
      "Requirement already satisfied: asttokens>=2.1.0 in /usr/local/lib/python3.11/site-packages (from stack_data->ipython>=7.23.1->ipykernel->jupyter->rumbledb) (3.0.0)\n",
      "Requirement already satisfied: pure-eval in /usr/local/lib/python3.11/site-packages (from stack_data->ipython>=7.23.1->ipykernel->jupyter->rumbledb) (0.2.3)\n",
      "Requirement already satisfied: fqdn in /usr/local/lib/python3.11/site-packages (from jsonschema[format-nongpl]>=4.18.0->jupyter-events>=0.9.0->jupyter-server<3,>=2.4.0->jupyterlab->jupyter->rumbledb) (1.5.1)\n",
      "Requirement already satisfied: isoduration in /usr/local/lib/python3.11/site-packages (from jsonschema[format-nongpl]>=4.18.0->jupyter-events>=0.9.0->jupyter-server<3,>=2.4.0->jupyterlab->jupyter->rumbledb) (20.11.0)\n",
      "Requirement already satisfied: jsonpointer>1.13 in /usr/local/lib/python3.11/site-packages (from jsonschema[format-nongpl]>=4.18.0->jupyter-events>=0.9.0->jupyter-server<3,>=2.4.0->jupyterlab->jupyter->rumbledb) (3.0.0)\n",
      "Requirement already satisfied: uri-template in /usr/local/lib/python3.11/site-packages (from jsonschema[format-nongpl]>=4.18.0->jupyter-events>=0.9.0->jupyter-server<3,>=2.4.0->jupyterlab->jupyter->rumbledb) (1.3.0)\n",
      "Requirement already satisfied: webcolors>=24.6.0 in /usr/local/lib/python3.11/site-packages (from jsonschema[format-nongpl]>=4.18.0->jupyter-events>=0.9.0->jupyter-server<3,>=2.4.0->jupyterlab->jupyter->rumbledb) (24.11.1)\n",
      "Requirement already satisfied: cffi>=1.0.1 in /usr/local/lib/python3.11/site-packages (from argon2-cffi-bindings->argon2-cffi>=21.1->jupyter-server<3,>=2.4.0->jupyterlab->jupyter->rumbledb) (1.17.1)\n",
      "Requirement already satisfied: pycparser in /usr/local/lib/python3.11/site-packages (from cffi>=1.0.1->argon2-cffi-bindings->argon2-cffi>=21.1->jupyter-server<3,>=2.4.0->jupyterlab->jupyter->rumbledb) (2.22)\n",
      "Requirement already satisfied: arrow>=0.15.0 in /usr/local/lib/python3.11/site-packages (from isoduration->jsonschema[format-nongpl]>=4.18.0->jupyter-events>=0.9.0->jupyter-server<3,>=2.4.0->jupyterlab->jupyter->rumbledb) (1.3.0)\n",
      "Requirement already satisfied: types-python-dateutil>=2.8.10 in /usr/local/lib/python3.11/site-packages (from arrow>=0.15.0->isoduration->jsonschema[format-nongpl]>=4.18.0->jupyter-events>=0.9.0->jupyter-server<3,>=2.4.0->jupyterlab->jupyter->rumbledb) (2.9.0.20241003)\n",
      "\u001b[33mWARNING: Running pip as the 'root' user can result in broken permissions and conflicting behaviour with the system package manager, possibly rendering your system unusable.It is recommended to use a virtual environment instead: https://pip.pypa.io/warnings/venv. Use the --root-user-action option if you know what you are doing and want to suppress this warning.\u001b[0m\u001b[33m\n",
      "\u001b[0menv: RUMBLEDB_SERVER=http://rumble:9090/jsoniq\n"
     ]
    }
   ],
   "source": [
    "!pip install rumbledb\n",
    "%load_ext rumbledb\n",
    "%env RUMBLEDB_SERVER=http://rumble:9090/jsoniq"
   ]
  },
  {
   "cell_type": "markdown",
   "metadata": {},
   "source": [
    "### Check the data\n",
    "We provide you with a bigger git-archive dataset [git-archive-big.json](https://www.rumbledb.org/samples/git-archive-big.json), you can already check that you get the correct number of records. The dataset should contain 206978 records. You can either use `wget` to download and read the dataset locally or simply read with `json-file` from the URI.\n",
    "\n",
    "We recommend running the cell below to download the data (reading it directly from the URL is slow and hard to debug using the notebook interface)."
   ]
  },
  {
   "cell_type": "code",
   "execution_count": 2,
   "metadata": {},
   "outputs": [
    {
     "name": "stdout",
     "output_type": "stream",
     "text": [
      "--2024-12-04 15:35:51--  https://www.rumbledb.org/samples/git-archive-big.json\n",
      "Resolving www.rumbledb.org (www.rumbledb.org)... 3.165.190.49, 3.165.190.75, 3.165.190.108, ...\n",
      "Connecting to www.rumbledb.org (www.rumbledb.org)|3.165.190.49|:443... connected.\n",
      "HTTP request sent, awaiting response... 200 OK\n",
      "Length: 532404791 (508M) [application/json]\n",
      "Saving to: ‘git-archive-big.json’\n",
      "\n",
      "git-archive-big.jso 100%[===================>] 507.74M   112MB/s    in 4.5s    \n",
      "\n",
      "2024-12-04 15:35:56 (112 MB/s) - ‘git-archive-big.json’ saved [532404791/532404791]\n",
      "\n"
     ]
    }
   ],
   "source": [
    "!wget https://www.rumbledb.org/samples/git-archive-big.json"
   ]
  },
  {
   "cell_type": "code",
   "execution_count": 3,
   "metadata": {},
   "outputs": [
    {
     "name": "stdout",
     "output_type": "stream",
     "text": [
      "Took: 1.0146398544311523 ms\n",
      "206978\n"
     ]
    }
   ],
   "source": [
    "%%jsoniq\n",
    "count(for $i in json-file(\"git-archive-big.json\")\n",
    "return $i)"
   ]
  },
  {
   "cell_type": "code",
   "execution_count": 4,
   "metadata": {},
   "outputs": [],
   "source": [
    "# json-file(\"https://www.rumbledb.org/samples/git-archive-big.json\") # to read it from the URL"
   ]
  },
  {
   "cell_type": "code",
   "execution_count": 5,
   "metadata": {},
   "outputs": [
    {
     "name": "stdout",
     "output_type": "stream",
     "text": [
      "Took: 0.5265016555786133 ms\n",
      "\"PullRequestEvent\"\n",
      "\"MemberEvent\"\n",
      "\"PushEvent\"\n",
      "\"IssuesEvent\"\n",
      "\"PublicEvent\"\n",
      "\"CommitCommentEvent\"\n",
      "\"ReleaseEvent\"\n",
      "\"IssueCommentEvent\"\n",
      "\"ForkEvent\"\n",
      "\"GollumEvent\"\n",
      "\"WatchEvent\"\n",
      "\"PullRequestReviewCommentEvent\"\n",
      "\"CreateEvent\"\n",
      "\"DeleteEvent\"\n"
     ]
    }
   ],
   "source": [
    "%%jsoniq\n",
    "distinct-values(json-file(\"git-archive-big.json\").type)"
   ]
  },
  {
   "cell_type": "code",
   "execution_count": 11,
   "metadata": {},
   "outputs": [
    {
     "name": "stdout",
     "output_type": "stream",
     "text": [
      "Took: 0.6636226177215576 ms\n",
      "\"repo\"\n",
      "\"org\"\n",
      "\"actor\"\n",
      "\"public\"\n",
      "\"type\"\n",
      "\"created_at\"\n",
      "\"id\"\n",
      "\"payload\"\n"
     ]
    }
   ],
   "source": [
    "%%jsoniq\n",
    "keys(json-file(\"git-archive-big.json\"))"
   ]
  },
  {
   "cell_type": "code",
   "execution_count": 14,
   "metadata": {},
   "outputs": [
    {
     "name": "stdout",
     "output_type": "stream",
     "text": [
      "Took: 0.512007474899292 ms\n",
      "\"push_id\"\n",
      "\"head\"\n",
      "\"size\"\n",
      "\"pusher_type\"\n",
      "\"forkee\"\n",
      "\"ref\"\n",
      "\"distinct_size\"\n",
      "\"pages\"\n",
      "\"pull_request\"\n",
      "\"ref_type\"\n",
      "\"action\"\n",
      "\"release\"\n",
      "\"issue\"\n",
      "\"number\"\n",
      "\"member\"\n",
      "\"commits\"\n",
      "\"description\"\n",
      "\"before\"\n",
      "\"master_branch\"\n",
      "\"comment\"\n"
     ]
    }
   ],
   "source": [
    "%%jsoniq\n",
    "keys(json-file(\"git-archive-big.json\").payload)"
   ]
  },
  {
   "cell_type": "code",
   "execution_count": 18,
   "metadata": {},
   "outputs": [
    {
     "name": "stdout",
     "output_type": "stream",
     "text": [
      "Took: 0.4760148525238037 ms\n",
      "\"message\"\n",
      "\"author\"\n",
      "\"sha\"\n",
      "\"distinct\"\n",
      "\"url\"\n"
     ]
    }
   ],
   "source": [
    "%%jsoniq\n",
    "keys(json-file(\"git-archive-big.json\").payload.commits[])"
   ]
  },
  {
   "cell_type": "code",
   "execution_count": 21,
   "metadata": {},
   "outputs": [
    {
     "name": "stdout",
     "output_type": "stream",
     "text": [
      "Took: 0.5734133720397949 ms\n",
      "\"name\"\n",
      "\"email\"\n"
     ]
    }
   ],
   "source": [
    "%%jsoniq\n",
    "keys(json-file(\"git-archive-big.json\").payload.commits[].author)"
   ]
  },
  {
   "cell_type": "code",
   "execution_count": 20,
   "metadata": {},
   "outputs": [
    {
     "name": "stdout",
     "output_type": "stream",
     "text": [
      "Took: 0.591423749923706 ms\n",
      "\"gravatar_id\"\n",
      "\"login\"\n",
      "\"avatar_url\"\n",
      "\"id\"\n",
      "\"url\"\n"
     ]
    }
   ],
   "source": [
    "%%jsoniq\n",
    "keys(json-file(\"git-archive-big.json\").actor)"
   ]
  },
  {
   "cell_type": "code",
   "execution_count": 44,
   "metadata": {},
   "outputs": [
    {
     "name": "stdout",
     "output_type": "stream",
     "text": [
      "Took: 0.663179874420166 ms\n",
      "\"name\"\n",
      "\"id\"\n",
      "\"url\"\n"
     ]
    }
   ],
   "source": [
    "%%jsoniq\n",
    "keys(json-file(\"git-archive-big.json\").repo)"
   ]
  },
  {
   "cell_type": "markdown",
   "metadata": {},
   "source": [
    "## Question 1: Give the login name of the two actors that committed to master the most in PushEvent events.\n",
    "\n",
    "Write the two names, separated by a comma with no space in between them.\n",
    "\n",
    "Hint: Note that all commits in a push event are stored in a list (you should count those as distinct commits)."
   ]
  },
  {
   "cell_type": "code",
   "execution_count": 41,
   "metadata": {},
   "outputs": [
    {
     "name": "stdout",
     "output_type": "stream",
     "text": [
      "Took: 2.456744432449341 ms\n",
      "{\"actor-login\": \"mirror-updates\", \"num-commits\": 2530}\n",
      "{\"actor-login\": \"KenanSulayman\", \"num-commits\": 1832}\n"
     ]
    }
   ],
   "source": [
    "%%jsoniq\n",
    "let $path := \"git-archive-big.json\"\n",
    "for $event in json-file($path)\n",
    "    where $event.type eq \"PushEvent\" and $event.payload.ref eq \"refs/heads/master\"\n",
    "    group by $actor-login := $event.actor.login\n",
    "    let $commit-count := count($event.payload.commits[])\n",
    "    order by $commit-count descending\n",
    "    count $c\n",
    "    where $c le 2\n",
    "    return {\"actor-login\": $actor-login, \"num-commits\": $commit-count}"
   ]
  },
  {
   "cell_type": "markdown",
   "metadata": {},
   "source": [
    "## Question 2: For how many repos do we have both a creation and deletion event in the data?\n",
    "\n",
    "Write the number and nothing else."
   ]
  },
  {
   "cell_type": "code",
   "execution_count": 55,
   "metadata": {},
   "outputs": [
    {
     "name": "stdout",
     "output_type": "stream",
     "text": [
      "Took: 2.6752636432647705 ms\n",
      "1242\n"
     ]
    }
   ],
   "source": [
    "%%jsoniq\n",
    "let $path := \"git-archive-big.json\"\n",
    "let $repos := (\n",
    "    for $event in json-file($path)\n",
    "        group by $repo-id := $event.repo.id\n",
    "        let $repo-name := $event.repo.name\n",
    "        return { \"repo-id\": $repo-id, \"repo-name\": $repo-name, \"types\": $event.type }\n",
    ")\n",
    "let $repos-with-both := (\n",
    "    for $repo in $repos\n",
    "        where \"CreateEvent\" = $repo.types[] and \"DeleteEvent\" = $repo.types[]\n",
    "        return $repo.repo-id\n",
    ")\n",
    "return count(distinct-values($repos-with-both))"
   ]
  },
  {
   "cell_type": "markdown",
   "metadata": {},
   "source": [
    "## Question 3: Which repository has the highest number of people pushing to it?\n",
    "\n",
    "Give both the repository id and the number of people, separated by a comma with spaces in between.\n",
    "\n",
    "Hint: Differentiate users (_actors_) using their actor id."
   ]
  },
  {
   "cell_type": "code",
   "execution_count": 58,
   "metadata": {},
   "outputs": [
    {
     "name": "stdout",
     "output_type": "stream",
     "text": [
      "Took: 3.186026096343994 ms\n",
      "{\"repo-id\": 19853934, \"people-count\": 22}\n"
     ]
    }
   ],
   "source": [
    "%%jsoniq\n",
    "let $path := \"git-archive-big.json\"\n",
    "for $event in json-file($path)\n",
    "    where $event.type = \"PushEvent\"\n",
    "    group by $repo-id := $event.repo.id\n",
    "    let $people-count := count(distinct-values($event.actor.login))\n",
    "    order by $people-count descending\n",
    "    count $c\n",
    "    where $c eq 1\n",
    "    return {\"repo-id\": $repo-id, \"people-count\": $people-count}\n",
    "\n"
   ]
  }
 ],
 "metadata": {
  "anaconda-cloud": {},
  "kernelspec": {
   "display_name": "Python 3 (ipykernel)",
   "language": "python",
   "name": "python3"
  }
 },
 "nbformat": 4,
 "nbformat_minor": 4
}
