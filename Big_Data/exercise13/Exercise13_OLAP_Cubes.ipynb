{
 "cells": [
  {
   "cell_type": "markdown",
   "metadata": {},
   "source": [
    "# <center>Big Data &ndash; Exercises</center>\n",
    "## <center>Fall 2024 &ndash; Week 13 &ndash; ETH Zurich</center>\n",
    "## <center>Cubes</center>"
   ]
  },
  {
   "cell_type": "markdown",
   "metadata": {},
   "source": [
    "## Introduction\n",
    "\n",
    "In the first part of this exercise, we will use a spreadsheet application to analyze the sales data of a fictious wholesale supplier (taken from the database system benchmark [TPC-H](http://www.tpc.org/tpch/)). Then, we will use SQL to query the data shape cube. \n",
    "A cube is a collection of numeric data organized by arrays of discrete identifiers (Janus and Fouché, 2009)."
   ]
  },
  {
   "cell_type": "markdown",
   "metadata": {},
   "source": [
    "## 1. The TPC-H Dataset as OLAP Cube\n",
    "\n",
    "Let us get familiar with the dataset.\n",
    "It consists of **orders**, each of which is made by a **customer**, and consists of **lineitems**.\n",
    "Think of an order as a shopping cart with several items in it.\n",
    "The items of an order are **parts** that may be provided by different **suppliers**.\n",
    "Suppliers and customers come from different **nations**, which are grouped into **regions** of the world.\n",
    "The following figure illustrates the schema of the TPC-H dataset.\n",
    "<br>\n",
    "\n",
    "Display\n",
    "\n",
    "![Schema of the TPC-H dataset](https://www.polybox.ethz.ch/index.php/s/ggS3c4d7LFtxEjH/download)\n",
    "\n",
    "\n",
    "### Task 1\n",
    "\n",
    "Bruh\n",
    "\n",
    "1. Which table(s) of the TPC-H schema is/are the fact table(s)?\n",
    "1. What is/are the measure(s)?\n",
    "1. What are the dimensions?\n",
    "1. What do you call this flavor of OLAP?"
   ]
  },
  {
   "cell_type": "markdown",
   "metadata": {},
   "source": [
    "### Solutions\n",
    "\n",
    "WTF are these questions?\n",
    "\n",
    "1. Depends\n",
    "2. Depends\n",
    "3. Each table name?"
   ]
  },
  {
   "cell_type": "markdown",
   "metadata": {},
   "source": [
    "## 2. Analyzing TPC-H with a Pivot Table\n",
    "\n",
    "Open local [Exercise13_OLAP_Cubes](./Exercise13_OLAP_Cubes.xls) with your favorite spreadsheet application.\n",
    "The file contains a universal table (a fully denormalized table) of a small TPC-H dataset.\n",
    "The schema has been modified slightly to make analysis in a spreadsheet application easier:\n",
    "The two precomputed measures revenue and cost\n",
    "as well as the hierarchy of time dimensions in the attribute *orderdate* have been added in the materialized form\n",
    "and some other attributes have been removed.\n",
    "\n",
    "You may need to look up how to use pivot tables in your spreadsheet application.\n",
    "\n",
    "1. Microsoft Excel: [PivotTable](https://support.office.com/en-us/article/Create-a-PivotTable-to-analyze-worksheet-data-a9a84538-bfe9-40a9-a8e9-f99134456576)\n",
    "1. Google Sheets  : [pivot tables](https://support.google.com/docs/answer/1272900?co=GENIE.Platform%3DDesktop&hl=en)\n",
    "1. Open Office    : [DataPilot](https://openoffice.blogs.com/openoffice/2006/11/data_pilots_in_.html)\n",
    "\n",
    "### Task 1: Discussion\n",
    "\n",
    "Discuss the terms \"slice and dice\", \"drill down\", \"roll up\", and \"pivoting\".\n",
    "\n",
    "### Solution: Discussion\n",
    "\n",
    "...\n",
    "\n",
    "### Task 2: Create the following pivot tables:\n",
    "\n",
    "1. Show how much revenue suppliers from different regions (as columns) produced in every year (as rows).\n",
    "1. Show how much revenue suppliers from nations of Africa (as columns) produced in every year (as rows).\n",
    "1. Show how much revenue suppliers from nations of Africa produced in every quarter of every year.\n",
    "1. Show how much revenue suppliers from nations of Africa produced in every week of every month of Q1 in 1996.\n",
    "1. Show how much revenue suppliers from nations of Africa produced in every year with \"urgent\" orders.\n",
    "1. Show the average order quantity for parts from suppliers from nations of Africa per year.\n",
    "1. Show how much revenue suppliers from nations of Africa (as rows) produced in every quarter of every year (as columns).\n",
    "\n",
    "### Solution:\n",
    "..."
   ]
  },
  {
   "cell_type": "markdown",
   "metadata": {},
   "source": [
    "## 3. OLAP Cubes and SQL\n",
    "\n",
    "Write SQL queries for the PivotTables from Question 2.\n",
    "\n",
    "#### Notes\n",
    "\n",
    "* Assume that the revenue is calculated as `olquantity * partretailprice * (1-oldiscount)`. You will already find it as a column.\n",
    "* To get the year or quarter from a date in PostgreSQL, you can use [`DATE_PART ('field', date )  `](https://www.postgresqltutorial.com/postgresql-date_part/). Note that the field is case-insensitive. You can write `DATE_PART('YEAR', date)` or `DATE_PART('year', date)`, which are equivalent. \n",
    "\n",
    "#### Database Set-up\n",
    "\n",
    "Just like any other week, you need to `docker compose up` and please wait for the message `PostgreSQL init process complete; ready for start up` before proceeding!\n",
    "As before, we set up our connection to the database and enable use of `%sql` and `%%sql`."
   ]
  },
  {
   "cell_type": "code",
   "execution_count": 8,
   "metadata": {},
   "outputs": [],
   "source": [
    "server='db'\n",
    "user='postgres'\n",
    "password='bigdataclass'\n",
    "database='tpch-db'\n",
    "\n",
    "connection_string = f'postgresql://{user}:{password}@{server}:5432/{database}'"
   ]
  },
  {
   "cell_type": "code",
   "execution_count": 9,
   "metadata": {},
   "outputs": [],
   "source": [
    "%reload_ext sql\n",
    "%sql $connection_string"
   ]
  },
  {
   "cell_type": "markdown",
   "metadata": {},
   "source": [
    "Check the tables in TPC-H. They are empty for the moment."
   ]
  },
  {
   "cell_type": "code",
   "execution_count": 10,
   "metadata": {},
   "outputs": [
    {
     "name": "stdout",
     "output_type": "stream",
     "text": [
      " * postgresql://postgres:***@db:5432/tpch-db\n",
      "8 rows affected.\n"
     ]
    },
    {
     "ename": "KeyError",
     "evalue": "'DEFAULT'",
     "output_type": "error",
     "traceback": [
      "\u001b[0;31m---------------------------------------------------------------------------\u001b[0m",
      "\u001b[0;31mKeyError\u001b[0m                                  Traceback (most recent call last)",
      "Cell \u001b[0;32mIn[10], line 1\u001b[0m\n\u001b[0;32m----> 1\u001b[0m \u001b[43mget_ipython\u001b[49m\u001b[43m(\u001b[49m\u001b[43m)\u001b[49m\u001b[38;5;241;43m.\u001b[39;49m\u001b[43mrun_cell_magic\u001b[49m\u001b[43m(\u001b[49m\u001b[38;5;124;43m'\u001b[39;49m\u001b[38;5;124;43msql\u001b[39;49m\u001b[38;5;124;43m'\u001b[39;49m\u001b[43m,\u001b[49m\u001b[43m \u001b[49m\u001b[38;5;124;43m'\u001b[39;49m\u001b[38;5;124;43m'\u001b[39;49m\u001b[43m,\u001b[49m\u001b[43m \u001b[49m\u001b[38;5;124;43m\"\u001b[39;49m\u001b[38;5;124;43mSELECT table_name\u001b[39;49m\u001b[38;5;130;43;01m\\n\u001b[39;49;00m\u001b[38;5;124;43mFROM information_schema.tables\u001b[39;49m\u001b[38;5;130;43;01m\\n\u001b[39;49;00m\u001b[38;5;124;43mWHERE table_schema = \u001b[39;49m\u001b[38;5;124;43m'\u001b[39;49m\u001b[38;5;124;43mpublic\u001b[39;49m\u001b[38;5;124;43m'\u001b[39;49m\u001b[38;5;124;43m;\u001b[39;49m\u001b[38;5;130;43;01m\\n\u001b[39;49;00m\u001b[38;5;124;43m\"\u001b[39;49m\u001b[43m)\u001b[49m\n",
      "File \u001b[0;32m/usr/local/lib/python3.9/site-packages/IPython/core/interactiveshell.py:2517\u001b[0m, in \u001b[0;36mInteractiveShell.run_cell_magic\u001b[0;34m(self, magic_name, line, cell)\u001b[0m\n\u001b[1;32m   2515\u001b[0m \u001b[38;5;28;01mwith\u001b[39;00m \u001b[38;5;28mself\u001b[39m\u001b[38;5;241m.\u001b[39mbuiltin_trap:\n\u001b[1;32m   2516\u001b[0m     args \u001b[38;5;241m=\u001b[39m (magic_arg_s, cell)\n\u001b[0;32m-> 2517\u001b[0m     result \u001b[38;5;241m=\u001b[39m \u001b[43mfn\u001b[49m\u001b[43m(\u001b[49m\u001b[38;5;241;43m*\u001b[39;49m\u001b[43margs\u001b[49m\u001b[43m,\u001b[49m\u001b[43m \u001b[49m\u001b[38;5;241;43m*\u001b[39;49m\u001b[38;5;241;43m*\u001b[39;49m\u001b[43mkwargs\u001b[49m\u001b[43m)\u001b[49m\n\u001b[1;32m   2519\u001b[0m \u001b[38;5;66;03m# The code below prevents the output from being displayed\u001b[39;00m\n\u001b[1;32m   2520\u001b[0m \u001b[38;5;66;03m# when using magics with decorator @output_can_be_silenced\u001b[39;00m\n\u001b[1;32m   2521\u001b[0m \u001b[38;5;66;03m# when the last Python token in the expression is a ';'.\u001b[39;00m\n\u001b[1;32m   2522\u001b[0m \u001b[38;5;28;01mif\u001b[39;00m \u001b[38;5;28mgetattr\u001b[39m(fn, magic\u001b[38;5;241m.\u001b[39mMAGIC_OUTPUT_CAN_BE_SILENCED, \u001b[38;5;28;01mFalse\u001b[39;00m):\n",
      "File \u001b[0;32m/usr/local/lib/python3.9/site-packages/sql/magic.py:219\u001b[0m, in \u001b[0;36mSqlMagic.execute\u001b[0;34m(self, line, cell, local_ns)\u001b[0m\n\u001b[1;32m    216\u001b[0m     \u001b[38;5;28;01mreturn\u001b[39;00m\n\u001b[1;32m    218\u001b[0m \u001b[38;5;28;01mtry\u001b[39;00m:\n\u001b[0;32m--> 219\u001b[0m     result \u001b[38;5;241m=\u001b[39m \u001b[43msql\u001b[49m\u001b[38;5;241;43m.\u001b[39;49m\u001b[43mrun\u001b[49m\u001b[38;5;241;43m.\u001b[39;49m\u001b[43mrun\u001b[49m\u001b[43m(\u001b[49m\u001b[43mconn\u001b[49m\u001b[43m,\u001b[49m\u001b[43m \u001b[49m\u001b[43mparsed\u001b[49m\u001b[43m[\u001b[49m\u001b[38;5;124;43m\"\u001b[39;49m\u001b[38;5;124;43msql\u001b[39;49m\u001b[38;5;124;43m\"\u001b[39;49m\u001b[43m]\u001b[49m\u001b[43m,\u001b[49m\u001b[43m \u001b[49m\u001b[38;5;28;43mself\u001b[39;49m\u001b[43m,\u001b[49m\u001b[43m \u001b[49m\u001b[43muser_ns\u001b[49m\u001b[43m)\u001b[49m\n\u001b[1;32m    221\u001b[0m     \u001b[38;5;28;01mif\u001b[39;00m (\n\u001b[1;32m    222\u001b[0m         result \u001b[38;5;129;01mis\u001b[39;00m \u001b[38;5;129;01mnot\u001b[39;00m \u001b[38;5;28;01mNone\u001b[39;00m\n\u001b[1;32m    223\u001b[0m         \u001b[38;5;129;01mand\u001b[39;00m \u001b[38;5;129;01mnot\u001b[39;00m \u001b[38;5;28misinstance\u001b[39m(result, \u001b[38;5;28mstr\u001b[39m)\n\u001b[0;32m   (...)\u001b[0m\n\u001b[1;32m    226\u001b[0m         \u001b[38;5;66;03m# Instead of returning values, set variables directly in the\u001b[39;00m\n\u001b[1;32m    227\u001b[0m         \u001b[38;5;66;03m# user's namespace. Variable names given by column names\u001b[39;00m\n\u001b[1;32m    229\u001b[0m         \u001b[38;5;28;01mif\u001b[39;00m \u001b[38;5;28mself\u001b[39m\u001b[38;5;241m.\u001b[39mautopandas:\n",
      "File \u001b[0;32m/usr/local/lib/python3.9/site-packages/sql/run.py:374\u001b[0m, in \u001b[0;36mrun\u001b[0;34m(conn, sql, config, user_namespace)\u001b[0m\n\u001b[1;32m    372\u001b[0m     \u001b[38;5;28;01mif\u001b[39;00m result \u001b[38;5;129;01mand\u001b[39;00m config\u001b[38;5;241m.\u001b[39mfeedback:\n\u001b[1;32m    373\u001b[0m         \u001b[38;5;28mprint\u001b[39m(interpret_rowcount(result\u001b[38;5;241m.\u001b[39mrowcount))\n\u001b[0;32m--> 374\u001b[0m resultset \u001b[38;5;241m=\u001b[39m \u001b[43mResultSet\u001b[49m\u001b[43m(\u001b[49m\u001b[43mresult\u001b[49m\u001b[43m,\u001b[49m\u001b[43m \u001b[49m\u001b[43mconfig\u001b[49m\u001b[43m)\u001b[49m\n\u001b[1;32m    375\u001b[0m \u001b[38;5;28;01mif\u001b[39;00m config\u001b[38;5;241m.\u001b[39mautopandas:\n\u001b[1;32m    376\u001b[0m     \u001b[38;5;28;01mreturn\u001b[39;00m resultset\u001b[38;5;241m.\u001b[39mDataFrame()\n",
      "File \u001b[0;32m/usr/local/lib/python3.9/site-packages/sql/run.py:116\u001b[0m, in \u001b[0;36mResultSet.__init__\u001b[0;34m(self, sqlaproxy, config)\u001b[0m\n\u001b[1;32m    114\u001b[0m         \u001b[38;5;28mlist\u001b[39m\u001b[38;5;241m.\u001b[39m\u001b[38;5;21m__init__\u001b[39m(\u001b[38;5;28mself\u001b[39m, sqlaproxy\u001b[38;5;241m.\u001b[39mfetchall())\n\u001b[1;32m    115\u001b[0m     \u001b[38;5;28mself\u001b[39m\u001b[38;5;241m.\u001b[39mfield_names \u001b[38;5;241m=\u001b[39m unduplicate_field_names(\u001b[38;5;28mself\u001b[39m\u001b[38;5;241m.\u001b[39mkeys)\n\u001b[0;32m--> 116\u001b[0m     \u001b[38;5;28mself\u001b[39m\u001b[38;5;241m.\u001b[39mpretty \u001b[38;5;241m=\u001b[39m PrettyTable(\u001b[38;5;28mself\u001b[39m\u001b[38;5;241m.\u001b[39mfield_names, style\u001b[38;5;241m=\u001b[39m\u001b[43mprettytable\u001b[49m\u001b[38;5;241;43m.\u001b[39;49m\u001b[38;5;18;43m__dict__\u001b[39;49m\u001b[43m[\u001b[49m\u001b[43mconfig\u001b[49m\u001b[38;5;241;43m.\u001b[39;49m\u001b[43mstyle\u001b[49m\u001b[38;5;241;43m.\u001b[39;49m\u001b[43mupper\u001b[49m\u001b[43m(\u001b[49m\u001b[43m)\u001b[49m\u001b[43m]\u001b[49m)\n\u001b[1;32m    117\u001b[0m \u001b[38;5;28;01melse\u001b[39;00m:\n\u001b[1;32m    118\u001b[0m     \u001b[38;5;28mlist\u001b[39m\u001b[38;5;241m.\u001b[39m\u001b[38;5;21m__init__\u001b[39m(\u001b[38;5;28mself\u001b[39m, [])\n",
      "\u001b[0;31mKeyError\u001b[0m: 'DEFAULT'"
     ]
    }
   ],
   "source": [
    "%%sql \n",
    "SELECT table_name\n",
    "FROM information_schema.tables\n",
    "WHERE table_schema = 'public';"
   ]
  },
  {
   "cell_type": "markdown",
   "metadata": {
    "tags": []
   },
   "source": [
    "Populate the tables in TPC-H with data from .tbl files"
   ]
  },
  {
   "cell_type": "code",
   "execution_count": null,
   "metadata": {},
   "outputs": [],
   "source": [
    "import numpy as np\n",
    "import os\n",
    "import pandas\n",
    "import psycopg2\n",
    "import sqlalchemy\n",
    "import sys\n",
    "\n",
    "DB_PARAMS = {\n",
    "    \"host\": server,               \n",
    "    \"port\": 5432,              \n",
    "    \"dbname\": database,        \n",
    "    \"user\": user,         \n",
    "    \"password\": password  \n",
    "}\n",
    "\n",
    "tables = [ # Order is important because of FKs\n",
    "        'region',\n",
    "        'nation',\n",
    "        'supplier',\n",
    "        'part',\n",
    "        'supplypart',\n",
    "        'customer',\n",
    "        'orders',\n",
    "        'orderline'\n",
    "        ]\n",
    "engine = sqlalchemy.create_engine(connection_string)\n",
    "try:\n",
    "    conn = psycopg2.connect(**DB_PARAMS)\n",
    "    cursor = conn.cursor()\n",
    "    print(\"Connected to the database!\")\n",
    "except Exception as e:\n",
    "    print(f\"Error connecting to the database: {e}\")\n",
    "    raise\n",
    "\n",
    "query = \"\"\"\n",
    "    SELECT column_name\n",
    "    FROM information_schema.columns\n",
    "    WHERE table_name = %s\n",
    "    ORDER BY ordinal_position;\n",
    "\"\"\"\n",
    "\n",
    "for table in tables:\n",
    "    # Find column names\n",
    "    print(table)\n",
    "    cursor.execute(query, (table,))\n",
    "    results = cursor.fetchall()\n",
    "    columns = []\n",
    "    for i in results:\n",
    "        columns.append(i[0])\n",
    "        \n",
    "    data = pandas.read_csv('./data/{0}.tbl'.format(table), sep='|', header=None, names=columns)\n",
    "    msg = 'Loading table \"{0}\": {1}% done\\r'\n",
    "    for idx, chunk in enumerate(np.array_split(data, 100)):\n",
    "        sys.stdout.write(msg.format(table, idx))\n",
    "        chunk.to_sql(name=table, if_exists='append', con=engine, index=False, method='multi')\n",
    "    print(msg.format(table, str(100)))"
   ]
  },
  {
   "cell_type": "markdown",
   "metadata": {},
   "source": [
    "First however, we define the fact table using a WITH statement (copy this at the beginning of all other queries)"
   ]
  },
  {
   "cell_type": "code",
   "execution_count": null,
   "metadata": {},
   "outputs": [],
   "source": [
    "%%sql\n",
    "WITH cube AS (\n",
    "    SELECT olquantity, partretailprice, oldiscount,\n",
    "           orderdate, nationname, regionname, orderpriority,\n",
    "           olquantity * partretailprice * (1-oldiscount) AS revenue,\n",
    "           DATE_PART('year', orderdate) AS orderyear,\n",
    "           DATE_PART('quarter', orderdate) AS orderquarter,\n",
    "           DATE_PART('month', orderdate) AS ordermonth,\n",
    "           DATE_PART('week', orderdate) AS orderweek\n",
    "    FROM orderline ol\n",
    "    JOIN orders o      ON ol.orderid = o.orderid\n",
    "    JOIN supplypart sp ON ol.partId = sp.partId AND ol.supplierId = sp.supplierId\n",
    "    JOIN part p        ON sp.partId = p.partId\n",
    "    JOIN supplier s    ON sp.supplierId = s.supplierId\n",
    "    JOIN nation sn     ON s.nationId = sn.nationId\n",
    "    JOIN region sr     ON sn.regionId = sr.regionId\n",
    ")\n",
    "SELECT * FROM cube LIMIT 10"
   ]
  },
  {
   "cell_type": "markdown",
   "metadata": {},
   "source": [
    "Note that, for the purpose of this exercise, we dropped some dimensions of the cube because none of the queries uses them. Also, we materialize some hierarchy levels of the `orderdate` dimension in order to make the subsequent queries more readable. This makes them *look* like they were new dimensions -- conceptually, they are not! (They are, well, levels of a hierarchy of the `orderdate` dimension.)"
   ]
  },
  {
   "cell_type": "markdown",
   "metadata": {},
   "source": [
    "OK, you are good to go. Use the SQL cell below and add more cells as you need.\n",
    "\n",
    "Note that the numbers you obtain with the SQL queries should not be identical to those in the pivot tables in Task2, because the data we have in the DB have more rows in its fact table."
   ]
  },
  {
   "cell_type": "markdown",
   "metadata": {},
   "source": [
    "#### Your Answers"
   ]
  },
  {
   "cell_type": "markdown",
   "metadata": {},
   "source": [
    "#### 1. Show how much revenue suppliers from different regions (as columns) produced in every year (as rows)."
   ]
  },
  {
   "cell_type": "code",
   "execution_count": null,
   "metadata": {
    "scrolled": true
   },
   "outputs": [],
   "source": [
    "%%sql\n",
    "WITH cube AS (\n",
    "    SELECT olquantity, partretailprice, oldiscount,\n",
    "           orderdate, nationname, regionname, orderpriority,\n",
    "           olquantity * partretailprice * (1-oldiscount) AS revenue,\n",
    "           DATE_PART('year', orderdate) AS orderyear,\n",
    "           DATE_PART('quarter', orderdate) AS orderquarter,\n",
    "           DATE_PART('month', orderdate) AS ordermonth,\n",
    "           DATE_PART('week', orderdate) AS orderweek\n",
    "    FROM orderline ol\n",
    "    JOIN orders o      ON ol.orderid = o.orderid\n",
    "    JOIN supplypart sp ON ol.partId = sp.partId AND ol.supplierId = sp.supplierId\n",
    "    JOIN part p        ON sp.partId = p.partId\n",
    "    JOIN supplier s    ON sp.supplierId = s.supplierId\n",
    "    JOIN nation sn     ON s.nationId = sn.nationId\n",
    "    JOIN region sr     ON sn.regionId = sr.regionId\n",
    ")\n",
    "..."
   ]
  },
  {
   "cell_type": "markdown",
   "metadata": {},
   "source": [
    "#### 2. Show how much revenue suppliers from nations of Africa produced in every year."
   ]
  },
  {
   "cell_type": "code",
   "execution_count": null,
   "metadata": {},
   "outputs": [],
   "source": [
    "%%sql\n",
    "WITH cube AS (\n",
    "    SELECT olquantity, partretailprice, oldiscount,\n",
    "           orderdate, nationname, regionname, orderpriority,\n",
    "           olquantity * partretailprice * (1-oldiscount) AS revenue,\n",
    "           DATE_PART('year', orderdate) AS orderyear,\n",
    "           DATE_PART('quarter', orderdate) AS orderquarter,\n",
    "           DATE_PART('month', orderdate) AS ordermonth,\n",
    "           DATE_PART('week', orderdate) AS orderweek\n",
    "    FROM orderline ol\n",
    "    JOIN orders o      ON ol.orderid = o.orderid\n",
    "    JOIN supplypart sp ON ol.partId = sp.partId AND ol.supplierId = sp.supplierId\n",
    "    JOIN part p        ON sp.partId = p.partId\n",
    "    JOIN supplier s    ON sp.supplierId = s.supplierId\n",
    "    JOIN nation sn     ON s.nationId = sn.nationId\n",
    "    JOIN region sr     ON sn.regionId = sr.regionId\n",
    ")\n",
    "..."
   ]
  },
  {
   "cell_type": "markdown",
   "metadata": {},
   "source": [
    "#### 3. Show how much revenue suppliers from nations of Africa produced in every quarter of every year."
   ]
  },
  {
   "cell_type": "code",
   "execution_count": null,
   "metadata": {},
   "outputs": [],
   "source": [
    "%%sql\n",
    "WITH cube AS (\n",
    "    SELECT olquantity, partretailprice, oldiscount,\n",
    "           orderdate, nationname, regionname, orderpriority,\n",
    "           olquantity * partretailprice * (1-oldiscount) AS revenue,\n",
    "           DATE_PART('YEAR', orderdate) AS orderyear,\n",
    "           DATE_PART('QUARTER', orderdate) AS orderquarter,\n",
    "           DATE_PART('MONTH', orderdate) AS ordermonth,\n",
    "           DATE_PART('WEEK', orderdate) AS orderweek\n",
    "    FROM orderline ol\n",
    "    JOIN orders o      ON ol.orderid = o.orderid\n",
    "    JOIN supplypart sp ON ol.partId = sp.partId AND ol.supplierId = sp.supplierId\n",
    "    JOIN part p        ON sp.partId = p.partId\n",
    "    JOIN supplier s    ON sp.supplierId = s.supplierId\n",
    "    JOIN nation sn     ON s.nationId = sn.nationId\n",
    "    JOIN region sr     ON sn.regionId = sr.regionId\n",
    ")\n",
    "..."
   ]
  },
  {
   "cell_type": "markdown",
   "metadata": {},
   "source": [
    "#### 4. Show how much revenue suppliers from nations of Africa produced in every week of every month of Q1 in 1996.\n",
    "\n",
    "Note that `orderweek` is from a different hierarchy of the `orderdate` dimension than `orderquarter` and `ordermonth` because a week does not generally belong to only one quarter or month. (However, a month always belongs to exactly one quarter.) This does not change anything in the SQL query below, but is an important conceptual subtlety of cubes."
   ]
  },
  {
   "cell_type": "code",
   "execution_count": null,
   "metadata": {},
   "outputs": [],
   "source": [
    "%%sql\n",
    "WITH cube AS (\n",
    "    SELECT olquantity, partretailprice, oldiscount,\n",
    "           orderdate, nationname, regionname, orderpriority,\n",
    "           olquantity * partretailprice * (1-oldiscount) AS revenue,\n",
    "           DATE_PART('year', orderdate) AS orderyear,\n",
    "           DATE_PART('quarter', orderdate) AS orderquarter,\n",
    "           DATE_PART('month', orderdate) AS ordermonth,\n",
    "           DATE_PART('week', orderdate) AS orderweek\n",
    "    FROM orderline ol\n",
    "    JOIN orders o      ON ol.orderid = o.orderid\n",
    "    JOIN supplypart sp ON ol.partId = sp.partId AND ol.supplierId = sp.supplierId\n",
    "    JOIN part p        ON sp.partId = p.partId\n",
    "    JOIN supplier s    ON sp.supplierId = s.supplierId\n",
    "    JOIN nation sn     ON s.nationId = sn.nationId\n",
    "    JOIN region sr     ON sn.regionId = sr.regionId\n",
    ")\n",
    "..."
   ]
  },
  {
   "cell_type": "markdown",
   "metadata": {},
   "source": [
    "#### 5. Show how much revenue suppliers from nations of Africa produced in every year with \"urgent\" orders."
   ]
  },
  {
   "cell_type": "code",
   "execution_count": null,
   "metadata": {},
   "outputs": [],
   "source": [
    "%%sql\n",
    "WITH cube AS (\n",
    "    SELECT olquantity, partretailprice, oldiscount,\n",
    "           orderdate, nationname, regionname, orderpriority,\n",
    "           olquantity * partretailprice * (1-oldiscount) AS revenue,\n",
    "           DATE_PART('YEAR', orderdate) AS orderyear,\n",
    "           DATE_PART('QUARTER', orderdate) AS orderquarter,\n",
    "           DATE_PART('MONTH', orderdate) AS ordermonth,\n",
    "           DATE_PART('WEEK', orderdate) AS orderweek\n",
    "    FROM orderline ol\n",
    "    JOIN orders o      ON ol.orderid = o.orderid\n",
    "    JOIN supplypart sp ON ol.partId = sp.partId AND ol.supplierId = sp.supplierId\n",
    "    JOIN part p        ON sp.partId = p.partId\n",
    "    JOIN supplier s    ON sp.supplierId = s.supplierId\n",
    "    JOIN nation sn     ON s.nationId = sn.nationId\n",
    "    JOIN region sr     ON sn.regionId = sr.regionId\n",
    ")\n",
    "..."
   ]
  },
  {
   "cell_type": "markdown",
   "metadata": {},
   "source": [
    "#### 6. Show the average order quantity for parts from suppliers from nations in Africa per year."
   ]
  },
  {
   "cell_type": "code",
   "execution_count": null,
   "metadata": {},
   "outputs": [],
   "source": [
    "%%sql\n",
    "WITH cube AS (\n",
    "    SELECT olquantity, partretailprice, oldiscount,\n",
    "           orderdate, nationname, regionname, orderpriority,\n",
    "           olquantity * partretailprice * (1-oldiscount) AS revenue,\n",
    "           DATE_PART('YEAR', orderdate) AS orderyear,\n",
    "           DATE_PART('QUARTER', orderdate) AS orderquarter,\n",
    "           DATE_PART('MONTH', orderdate) AS ordermonth,\n",
    "           DATE_PART('WEEK', orderdate) AS orderweek\n",
    "    FROM orderline ol\n",
    "    JOIN orders o      ON ol.orderid = o.orderid\n",
    "    JOIN supplypart sp ON ol.partId = sp.partId AND ol.supplierId = sp.supplierId\n",
    "    JOIN part p        ON sp.partId = p.partId\n",
    "    JOIN supplier s    ON sp.supplierId = s.supplierId\n",
    "    JOIN nation sn     ON s.nationId = sn.nationId\n",
    "    JOIN region sr     ON sn.regionId = sr.regionId\n",
    ")\n",
    "..."
   ]
  },
  {
   "cell_type": "markdown",
   "metadata": {},
   "source": [
    "#### 7. Show how much revenue suppliers from nations of Africa (as rows) produced in every quarter of every year (as columns).\n",
    "\n",
    "Columns and row of a cube are both represented as columns when mapped to relations and SQL. A tool similar to Excel's PivotTable that automatically generates SQL queries would probably just flip the order of the columns."
   ]
  },
  {
   "cell_type": "code",
   "execution_count": null,
   "metadata": {},
   "outputs": [],
   "source": [
    "%%sql\n",
    "WITH cube AS (\n",
    "    SELECT olquantity, partretailprice, oldiscount,\n",
    "           orderdate, nationname, regionname, orderpriority,\n",
    "           olquantity * partretailprice * (1-oldiscount) AS revenue,\n",
    "           DATE_PART('YEAR', orderdate) AS orderyear,\n",
    "           DATE_PART('QUARTER', orderdate) AS orderquarter,\n",
    "           DATE_PART('MONTH', orderdate) AS ordermonth,\n",
    "           DATE_PART('WEEK', orderdate) AS orderweek\n",
    "    FROM orderline ol\n",
    "    JOIN orders o      ON ol.orderid = o.orderid\n",
    "    JOIN supplypart sp ON ol.partId = sp.partId AND ol.supplierId = sp.supplierId\n",
    "    JOIN part p        ON sp.partId = p.partId\n",
    "    JOIN supplier s    ON sp.supplierId = s.supplierId\n",
    "    JOIN nation sn     ON s.nationId = sn.nationId\n",
    "    JOIN region sr     ON sn.regionId = sr.regionId\n",
    ")\n",
    "..."
   ]
  },
  {
   "cell_type": "code",
   "execution_count": null,
   "metadata": {},
   "outputs": [],
   "source": []
  },
  {
   "cell_type": "markdown",
   "metadata": {},
   "source": [
    "\n",
    "\n"
   ]
  }
 ],
 "metadata": {
  "anaconda-cloud": {},
  "kernelspec": {
   "display_name": "Python 3 (ipykernel)",
   "language": "python",
   "name": "python3"
  },
  "vscode": {
   "interpreter": {
    "hash": "916dbcbb3f70747c44a77c7bcd40155683ae19c65e1c03b4aa3499c5328201f1"
   }
  }
 },
 "nbformat": 4,
 "nbformat_minor": 4
}
