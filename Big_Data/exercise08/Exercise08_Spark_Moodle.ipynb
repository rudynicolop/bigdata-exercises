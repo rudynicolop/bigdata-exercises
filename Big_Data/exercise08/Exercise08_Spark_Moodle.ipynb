{
 "cells": [
  {
   "cell_type": "markdown",
   "metadata": {},
   "source": [
    "## Preparation for the moodle exercise in Spark\n",
    "\n",
    "In this jupyter notebook we are going to preprocess the dataset that we will use in this week's graded exercise.\n",
    "1. Change directory to `exercise08` \n",
    "\n",
    "2. Start docker <br>\n",
    "`docker-compose up -d`\n",
    "\n",
    "3. Getting the data:\n",
    "    1. Download the data:<br> ```wget https://f003.backblazeb2.com/file/larsyencken-eu-public/greatlanguagegame/confusion-2014-03-02.tbz2```\n",
    "    1. Extract the data:<br> ```tar -jxvf confusion-2014-03-02.tbz2```\n",
    "\n",
    "4. Change directory to `confusion-2014-03-02`\n",
    "\n",
    "5. Extract the part of the dataset that we will work with in this exercise: ```head -n 3000000 confusion-2014-03-02.json > confusion-part.json```\n",
    "\n",
    "1. Run: `docker cp confusion-2014-03-02/ jupyter:/home/jovyan/`\n",
    "\n",
    "For more information about the dataset, you can refer to https://lars.yencken.org/datasets/great-language-game"
   ]
  },
  {
   "cell_type": "markdown",
   "metadata": {},
   "source": [
    "## Preprocessing commands\n",
    "In your newly created notebook run these commands in order to have the dataset into an RDD:"
   ]
  },
  {
   "cell_type": "code",
   "execution_count": 1,
   "metadata": {},
   "outputs": [],
   "source": [
    "import json\n",
    "from pyspark.sql import SparkSession\n",
    "from pyspark import SparkConf\n",
    "\n",
    "spark = SparkSession.builder.master('local').getOrCreate()\n",
    "sc = spark.sparkContext\n",
    "\n",
    "path = \"confusion-2014-03-02/confusion-part.json\"\n",
    "raw_data = sc.textFile(path)\n",
    "dataset = raw_data.map(json.loads).cache()"
   ]
  },
  {
   "cell_type": "markdown",
   "metadata": {},
   "source": [
    "After that you will be able to run the queries of the moodle question of this week. The RDD that you have to perform your queries on is the ```dataset``` one. For example, the following command returns one element of the dataset:"
   ]
  },
  {
   "cell_type": "code",
   "execution_count": 2,
   "metadata": {},
   "outputs": [
    {
     "data": {
      "text/plain": [
       "[{'guess': 'Norwegian',\n",
       "  'target': 'Norwegian',\n",
       "  'country': 'AU',\n",
       "  'choices': ['Maori', 'Mandarin', 'Norwegian', 'Tongan'],\n",
       "  'sample': '48f9c924e0d98c959d8a6f1862b3ce9a',\n",
       "  'date': '2013-08-19'}]"
      ]
     },
     "execution_count": 2,
     "metadata": {},
     "output_type": "execute_result"
    }
   ],
   "source": [
    "dataset.take(1)"
   ]
  },
  {
   "cell_type": "code",
   "execution_count": 3,
   "metadata": {},
   "outputs": [
    {
     "name": "stdout",
     "output_type": "stream",
     "text": [
      "Latest day: 2013-09-09\n"
     ]
    },
    {
     "data": {
      "text/plain": [
       "87672"
      ]
     },
     "execution_count": 3,
     "metadata": {},
     "output_type": "execute_result"
    }
   ],
   "source": [
    "# Example query 1: count the number of games played on the latest day\n",
    "latest_day = dataset \\\n",
    "    .map(lambda o: (o['date'], 0)) \\\n",
    "    .sortByKey(False) \\\n",
    "    .take(1)[0][0]\n",
    "print(\"Latest day:\", latest_day)\n",
    "dataset \\\n",
    "    .filter(lambda o: o['date'] == latest_day) \\\n",
    "    .count()"
   ]
  },
  {
   "cell_type": "markdown",
   "metadata": {},
   "source": [
    "## Quiz"
   ]
  },
  {
   "cell_type": "markdown",
   "metadata": {},
   "source": [
    "### Question 1\n",
    "\n",
    "Return the number of countries in the dataset where at least one game has a guessed language of \"Somali\"."
   ]
  },
  {
   "cell_type": "code",
   "execution_count": 6,
   "metadata": {},
   "outputs": [
    {
     "data": {
      "text/plain": [
       "143"
      ]
     },
     "execution_count": 6,
     "metadata": {},
     "output_type": "execute_result"
    }
   ],
   "source": [
    "dataset \\\n",
    "    .filter(lambda o: o['guess'] == 'Somali') \\\n",
    "    .map(lambda o: o['country']) \\\n",
    "    .distinct() \\\n",
    "    .count()"
   ]
  },
  {
   "cell_type": "markdown",
   "metadata": {},
   "source": [
    "### Question 2\n",
    "\n",
    "Return the sample ID of the earliest game in Switzerland (CH) where the guessed language is correct. \n",
    "\n",
    "If multiple games have correct guesses on that date, return the one with the alphabetically earliest guessed language."
   ]
  },
  {
   "cell_type": "code",
   "execution_count": 11,
   "metadata": {},
   "outputs": [
    {
     "name": "stdout",
     "output_type": "stream",
     "text": [
      "[('2013-09-01', 'Amharic', '9b1340b8343bb267783e1bfb2dc55bf1'), ('2013-09-01', 'Korean', '0f8e6818d2be77b75712bc9ea4e87171'), ('2013-09-01', 'Russian', 'b7df3f9d67cef259fbcaa5abcad9d774'), ('2013-09-01', 'Thai', '74b5340a230b1e0c1d45787bc4280b05'), ('2013-09-02', 'Amharic', '5c6664317cc1cc256f11b722835396b7')]\n"
     ]
    }
   ],
   "source": [
    "rdd2 = dataset \\\n",
    "    .filter(lambda o: o['country'] == 'CH' and o['guess'] == o['target']) \\\n",
    "    .sortBy(lambda o: (o['date'], o['guess'])) \\\n",
    "    .map(lambda o: (o['date'], o['guess'], o['sample'])) \\\n",
    "    .take(5)\n",
    "print(rdd2)"
   ]
  },
  {
   "cell_type": "markdown",
   "metadata": {},
   "source": [
    "### Question 3\n",
    "\n",
    "Find the average number of language choices per game (rounded to three decimal places)."
   ]
  },
  {
   "cell_type": "code",
   "execution_count": 17,
   "metadata": {},
   "outputs": [
    {
     "name": "stdout",
     "output_type": "stream",
     "text": [
      "3.265\n"
     ]
    }
   ],
   "source": [
    "total, num_games = dataset \\\n",
    "    .map(lambda o: (len(o['choices']), 1)) \\\n",
    "    .reduce(lambda x, y: (x[0] + y[0], x[1] + y[1]))\n",
    "print(round(total / num_games, 3))"
   ]
  },
  {
   "cell_type": "markdown",
   "metadata": {},
   "source": [
    "### Question 4\n",
    "\n",
    "Find the three languages easiest to guess (i.e., with the highest overall percentage of correct guesses). \n",
    " \n",
    "Please write the answers separated by commas and without any spaces between them: language1,language2,language3"
   ]
  },
  {
   "cell_type": "code",
   "execution_count": 20,
   "metadata": {},
   "outputs": [
    {
     "name": "stdout",
     "output_type": "stream",
     "text": [
      "[('French', 0.9617235377572363), ('German', 0.9482122107988057), ('Italian', 0.9191241444382873)]\n"
     ]
    }
   ],
   "source": [
    "easiest_to_guess = dataset \\\n",
    "    .map(lambda o: (o['target'], (1 if o['target'] == o['guess'] else 0, 1))) \\\n",
    "    .reduceByKey(lambda x, y: (x[0] + y[0], x[1] + y[1])) \\\n",
    "    .mapValues(lambda x: x[0] / x[1]) \\\n",
    "    .sortBy(lambda x: x[1], ascending=False) \\\n",
    "    .take(3)\n",
    "print(easiest_to_guess)"
   ]
  },
  {
   "cell_type": "markdown",
   "metadata": {},
   "source": [
    "### Question 5\n",
    "\n",
    "Return the country (as a two-character code) with the highest percentage of games where the guessed language is \"Korean\"."
   ]
  },
  {
   "cell_type": "code",
   "execution_count": 23,
   "metadata": {},
   "outputs": [
    {
     "data": {
      "text/plain": [
       "'OM'"
      ]
     },
     "execution_count": 23,
     "metadata": {},
     "output_type": "execute_result"
    }
   ],
   "source": [
    "dataset \\\n",
    "    .map(lambda o: (o['country'], (1 if o['guess'] == 'Korean' else 0, 1))) \\\n",
    "    .reduceByKey(lambda x, y: (x[0] + y[0], x[1] + y[1])) \\\n",
    "    .mapValues(lambda x: x[0] / x[1]) \\\n",
    "    .sortBy(lambda x: x[1], ascending=False) \\\n",
    "    .take(1)[0][0]"
   ]
  },
  {
   "cell_type": "markdown",
   "metadata": {},
   "source": [
    "### Question 6\n",
    "\n",
    "Find the number of games played on the earliest date present in the dataset."
   ]
  },
  {
   "cell_type": "code",
   "execution_count": 25,
   "metadata": {},
   "outputs": [
    {
     "data": {
      "text/plain": [
       "163"
      ]
     },
     "execution_count": 25,
     "metadata": {},
     "output_type": "execute_result"
    }
   ],
   "source": [
    "earliest_date = dataset \\\n",
    "    .sortBy(lambda o: o['date']) \\\n",
    "    .take(1)[0]['date']\n",
    "dataset \\\n",
    "    .filter(lambda o: o['date'] == earliest_date) \\\n",
    "    .count()"
   ]
  },
  {
   "cell_type": "code",
   "execution_count": null,
   "metadata": {},
   "outputs": [],
   "source": []
  }
 ],
 "metadata": {
  "kernelspec": {
   "display_name": "Python 3",
   "language": "python",
   "name": "python3"
  },
  "language_info": {
   "codemirror_mode": {
    "name": "ipython",
    "version": 3
   },
   "file_extension": ".py",
   "mimetype": "text/x-python",
   "name": "python",
   "nbconvert_exporter": "python",
   "pygments_lexer": "ipython3",
   "version": "3.9.4"
  }
 },
 "nbformat": 4,
 "nbformat_minor": 4
}
